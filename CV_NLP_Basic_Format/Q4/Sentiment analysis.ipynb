{
 "cells": [
  {
   "cell_type": "code",
   "execution_count": 1,
   "id": "7fc760ce-ac8a-479f-81d1-c91061630528",
   "metadata": {},
   "outputs": [],
   "source": [
    "import torch\n",
    "from torch import nn\n",
    "from utils import *\n",
    "import collections\n",
    "import matplotlib.pyplot as plt\n",
    "from torch.utils.data import DataLoader, TensorDataset\n",
    "from tqdm import tqdm\n",
    "from torch.nn import functional as F\n",
    "\n",
    "device = \"cuda\" if torch.cuda.is_available() else \"cpu\""
   ]
  },
  {
   "cell_type": "markdown",
   "id": "30986819-d0d1-4b36-b581-89347f0f5479",
   "metadata": {},
   "source": [
    "##  3.1 Exploring the Dataset\n",
    "\n",
    "First, download and extract this IMDb review dataset\n",
    "in the path `./data/aclImdb`."
   ]
  },
  {
   "cell_type": "code",
   "execution_count": 2,
   "id": "3bbbc773-6d02-4f50-aa8a-b6fb73def05b",
   "metadata": {},
   "outputs": [
    {
     "name": "stdout",
     "output_type": "stream",
     "text": [
      "Downloading ./data\\aclImdb_v1.tar.gz from http://ai.stanford.edu/~amaas/data/sentiment/aclImdb_v1.tar.gz...\n"
     ]
    }
   ],
   "source": [
    "url = \"http://ai.stanford.edu/~amaas/data/sentiment/aclImdb_v1.tar.gz\"\n",
    "data_dir = download_extract(url)"
   ]
  },
  {
   "cell_type": "markdown",
   "id": "37172566-aab4-40bd-acf3-96f318772115",
   "metadata": {},
   "source": [
    "We'll start by loading the training data, which includes the reviews and their associated sentiment labels. After loading the data, we'll inspect a few examples to understand the format and content of the reviews and their corresponding sentiment labels. \n",
    "\n",
    "An example review might look like: \"The movie was fantastic, and I thoroughly enjoyed it.\" The corresponding label for this positive review would be: 1. \n",
    "\n",
    "Conversely, a negative review might look like: \"The plot was confusing, and the acting was subpar.\". The corresponding label for this negative review would be: 0\n"
   ]
  },
  {
   "cell_type": "code",
   "execution_count": 33,
   "id": "4de8cc32-bbfa-4359-a967-f89b4aa47756",
   "metadata": {},
   "outputs": [
    {
     "name": "stdout",
     "output_type": "stream",
     "text": [
      "# trainings: 25000\n",
      "label: 1 review: Bromwell High is a cartoon comedy. It ran at the same time as some other programs about school life, such as \"Teachers\". My 35 years in the teaching p\n",
      "label: 1 review: Homelessness (or Houselessness as George Carlin stated) has been an issue for years but never a plan to help those on the street that were once consid\n",
      "label: 1 review: Brilliant over-acting by Lesley Ann Warren. Best dramatic hobo lady I have ever seen, and love scenes in clothes warehouse are second to none. The cor\n"
     ]
    }
   ],
   "source": [
    "train_data = read_imdb(data_dir, is_train=True)\n",
    "test_data = read_imdb(data_dir, is_train=False)\n",
    "\n",
    "print('# trainings:', len(train_data[0]))\n",
    "for x, y in zip(train_data[0][:3], train_data[1][:3]):\n",
    "    print('label:', y, 'review:', x[:150])"
   ]
  },
  {
   "cell_type": "markdown",
   "id": "6479d452-42c9-4154-8f98-20259cbf8506",
   "metadata": {},
   "source": [
    "Please complete the following function.\n",
    "\n",
    "When completing this function, consider the following:\n",
    "\n",
    "- The function should take a text input and split it into individual word tokens (where each word is treated as a separate token).\n",
    "\n",
    "In the case of word tokenization, a sentence like \"The quick brown fox\" would be split into individual tokens: [\"The\", \"quick\", \"brown\", \"fox\"]."
   ]
  },
  {
   "cell_type": "code",
   "execution_count": 34,
   "id": "92d41c54-d5af-4b02-847d-e84b424f1c3e",
   "metadata": {},
   "outputs": [],
   "source": [
    "def tokenize(lines):\n",
    "    \"\"\"Split text lines into word or character tokens.\"\"\"\n",
    "    ### START CODE HERE ###\n",
    "    tokens = []\n",
    "    for line in lines:\n",
    "        # Split the line into words and extend the tokens list\n",
    "        tokens.extend(line.split())\n",
    "    return tokens\n",
    "    ### END CODE HERE ###"
   ]
  },
  {
   "cell_type": "markdown",
   "id": "1b788557-acef-4e71-9a25-4dca80d258ef",
   "metadata": {},
   "source": [
    "Please plot the data distribution of the training data using a histogram. The x-axis should represent the length of each review, and the y-axis should indicate the number of corresponding samples. The x-axis will display the lengths of the reviews, while the y-axis will indicate the frequency or count of reviews with similar lengths."
   ]
  },
  {
   "cell_type": "code",
   "execution_count": 35,
   "id": "16592eb5-5287-4a07-8f7b-cec92595978c",
   "metadata": {},
   "outputs": [
    {
     "data": {
      "image/png": "[encoded data removed]",
      "text/plain": [
       "<Figure size 720x432 with 1 Axes>"
      ]
     },
     "metadata": {
      "needs_background": "light"
     },
     "output_type": "display_data"
    }
   ],
   "source": [
    "### START CODE HERE ###\n",
    "review_texts = [review for review in train_data[0]]\n",
    "\n",
    "review_lengths = [len(tokenize([review])) for review in review_texts]\n",
    "\n",
    "plt.figure(figsize=(10, 6))\n",
    "plt.hist(review_lengths, bins=30, color='blue', edgecolor='black', alpha=0.7)\n",
    "plt.title('Distribution of Review Lengths (Word Count)', fontsize=16)\n",
    "plt.xlabel('Length of Reviews (Word Count)', fontsize=14)\n",
    "plt.ylabel('Frequency', fontsize=14)\n",
    "plt.grid(axis='y', linestyle='--', alpha=0.7)\n",
    "plt.show()\n",
    "\n",
    "### END CODE HERE ###"
   ]
  },
  {
   "cell_type": "markdown",
   "id": "1793b7fb",
   "metadata": {},
   "source": [
    "The **Vocab** class encapsulates the core operations related to vocabulary management, offering a convenient interface for working with text data in a structured manner."
   ]
  },
  {
   "cell_type": "code",
   "execution_count": 36,
   "id": "0af77174-5189-4cb8-a54c-f962cd9535ed",
   "metadata": {},
   "outputs": [],
   "source": [
    "class Vocab:\n",
    "    \"\"\"Vocabulary for text.\"\"\"\n",
    "    def __init__(self, tokens=[], min_freq=0, reserved_tokens=[]):\n",
    "        if tokens and isinstance(tokens[0], list):\n",
    "            tokens = [token for line in tokens for token in line]\n",
    "        counter = collections.Counter(tokens)\n",
    "        self.token_freqs = sorted(counter.items(), key=lambda x: x[1],\n",
    "                                  reverse=True)\n",
    "        self.idx_to_token = list(sorted(set(['<unk>'] + reserved_tokens + [\n",
    "            token for token, freq in self.token_freqs if freq >= min_freq])))\n",
    "        self.token_to_idx = {token: idx\n",
    "                             for idx, token in enumerate(self.idx_to_token)}\n",
    "\n",
    "    def __len__(self):\n",
    "        return len(self.idx_to_token)\n",
    "\n",
    "    def __getitem__(self, tokens):\n",
    "        if not isinstance(tokens, (list, tuple)):\n",
    "            return self.token_to_idx.get(tokens, self.unk)\n",
    "        return [self.__getitem__(token) for token in tokens]\n",
    "\n",
    "    def to_tokens(self, indices):\n",
    "        if hasattr(indices, '__len__') and len(indices) > 1:\n",
    "            return [self.idx_to_token[int(index)] for index in indices]\n",
    "        return self.idx_to_token[indices]\n",
    "\n",
    "    @property\n",
    "    def unk(self): \n",
    "        return self.token_to_idx['<unk>']\n"
   ]
  },
  {
   "cell_type": "code",
   "execution_count": 37,
   "id": "5d6273a3-a081-4500-a3d7-4ecde80dbe36",
   "metadata": {},
   "outputs": [],
   "source": [
    "def truncate_pad(line, num_steps, padding_token):\n",
    "    \"\"\"Truncate or pad sequences.\"\"\"\n",
    "    if len(line) > num_steps:\n",
    "        return line[:num_steps]  # Truncate\n",
    "    return line + [padding_token] * (num_steps - len(line))  # Pad"
   ]
  },
  {
   "cell_type": "markdown",
   "id": "bd1f6973-8ea1-41fb-b7ee-8a0000dd69a0",
   "metadata": {},
   "source": [
    "Please complete the **load_data_imdb** function, which aims to facilitate the processing of the IMDb review dataset by providing a data loader and the vocabulary associated with the dataset. To achieve this, the function is expected to utilize predefined functions and classes to handle the dataset and its associated vocabulary. \n",
    "\n",
    "**Note: To process a minibatch of such reviews at each time, we set the length of each review to 500 with truncation and padding.**"
   ]
  },
  {
   "cell_type": "code",
   "execution_count": 38,
   "id": "85bcdac4-750b-4323-a25c-8c5e63b587be",
   "metadata": {},
   "outputs": [],
   "source": [
    "def load_data_imdb(batch_size, num_steps=500):\n",
    "    \"\"\"Return data loader and the vocabulary of the IMDb review dataset.\"\"\"\n",
    "    \n",
    "    train_tokens = [tokenize([review]) for review in train_data[0]]\n",
    "    test_tokens = [tokenize([review]) for review in test_data[0]]\n",
    "\n",
    "\n",
    "    vocab = Vocab(train_tokens, min_freq=5)\n",
    "\n",
    "    train_features = [truncate_pad(vocab[line], num_steps, vocab['<unk>']) for line in train_tokens]\n",
    "    test_features = [truncate_pad(vocab[line], num_steps, vocab['<unk>']) for line in test_tokens]\n",
    "\n",
    "    train_labels = torch.tensor([label for label in train_data[1]])\n",
    "    test_labels = torch.tensor([label for label in test_data[1]])\n",
    "\n",
    "    train_loader = DataLoader(TensorDataset(torch.tensor(train_features), train_labels),\n",
    "                              batch_size=batch_size, shuffle=True)\n",
    "    test_loader = DataLoader(TensorDataset(torch.tensor(test_features), test_labels),\n",
    "                              batch_size=batch_size, shuffle=True)\n",
    "    \n",
    "    return train_loader, test_loader, vocab"
   ]
  },
  {
   "cell_type": "code",
   "execution_count": 39,
   "id": "8c0e7f39-2d03-43fb-bc51-5d9f5e57558c",
   "metadata": {},
   "outputs": [],
   "source": [
    "batch_size = 32\n",
    "train_iter, test_iter, vocab = load_data_imdb(batch_size)"
   ]
  },
  {
   "cell_type": "markdown",
   "id": "80ec9c88-a1c6-48fe-9d6a-306a85ef7a89",
   "metadata": {},
   "source": [
    "##  3.2 Using Bidirectional Recurrent Neural Networks for Sentiment Analysis"
   ]
  },
  {
   "cell_type": "markdown",
   "id": "f2fd1664-0feb-4e7e-ac98-d8068fb92f6b",
   "metadata": {},
   "source": [
    "Please design a multilayer bidirectional RNN to process the IMDB dataset."
   ]
  },
  {
   "cell_type": "code",
   "execution_count": 49,
   "id": "9e9391c4-2423-4bc1-9c0d-212c7ae7d11b",
   "metadata": {},
   "outputs": [],
   "source": [
    "class BiRNN(nn.Module):\n",
    "    def __init__(self, vocab_size, embed_size, num_hiddens,\n",
    "                 num_layers, dropout=0.5, **kwargs):\n",
    "        ### START CODE HERE ###\n",
    "        super(BiRNN, self).__init__() \n",
    "        self.emb = nn.Embedding(vocab_size, embed_size)\n",
    "\n",
    "        # Bidirectional LSTM layer\n",
    "        self.encoder = nn.LSTM(input_size=embed_size,\n",
    "                               hidden_size=num_hiddens,\n",
    "                               num_layers=num_layers,\n",
    "                               bidirectional=True,\n",
    "                               batch_first=True,\n",
    "                               dropout=dropout if num_layers > 1 else 0.0)\n",
    "        self.dropout = nn.Dropout(dropout)\n",
    "        self.fc1 = nn.Linear(4 * num_hiddens, num_hiddens)\n",
    "        self.fc2 = nn.Linear(num_hiddens, 2)\n",
    "        self.relu = nn.ReLU()\n",
    "        self.dropout = nn.Dropout(dropout)\n",
    "        ### END CODE HERE ###\n",
    "\n",
    "    def forward(self, inputs):\n",
    "        ### START CODE HERE ###\n",
    "        embeddings = self.emb(inputs)  # input: (batch_size, num_steps)\n",
    "                                             # output: (batch_size, num_steps, embed_size)\n",
    "\n",
    "        outputs, _ = self.encoder(embeddings)  # (batch_size, num_steps, 2 * num_hiddens)\n",
    "\n",
    "        # Concatenate the forward and backward hidden states of the last time step\n",
    "        encoding = torch.cat((outputs[:, 0, :], outputs[:, -1, :]), dim=1)  # (batch_size, 4 * num_hiddens)\n",
    "        \n",
    "        x = self.dropout(self.relu(self.fc1(encoding)))\n",
    "        outs = self.fc2(x)\n",
    "        return outs\n",
    "        ### END CODE HERE ###\n"
   ]
  },
  {
   "cell_type": "code",
   "execution_count": 50,
   "id": "e4166fa9-1215-460a-a672-d116a748ec17",
   "metadata": {},
   "outputs": [],
   "source": [
    "embed_size, num_hiddens, num_layers =  100, 128, 3### YOUR CODE HERE ###\n",
    "net = BiRNN(len(vocab), embed_size, num_hiddens, num_layers)  ### YOUR CODE HERE ###"
   ]
  },
  {
   "cell_type": "markdown",
   "id": "7cbb60d3-7aaa-4647-a6dc-c5f57d360cdf",
   "metadata": {},
   "source": [
    "Please initialize the weights of your predefined model."
   ]
  },
  {
   "cell_type": "code",
   "execution_count": 51,
   "id": "a29681b5-76d9-4079-9057-cbb853732ab0",
   "metadata": {},
   "outputs": [
    {
     "data": {
      "text/plain": [
       "BiRNN(\n",
       "  (emb): Embedding(49346, 100)\n",
       "  (encoder): LSTM(100, 128, num_layers=3, batch_first=True, dropout=0.5, bidirectional=True)\n",
       "  (dropout): Dropout(p=0.5, inplace=False)\n",
       "  (fc1): Linear(in_features=512, out_features=128, bias=True)\n",
       "  (fc2): Linear(in_features=128, out_features=2, bias=True)\n",
       "  (relu): ReLU()\n",
       ")"
      ]
     },
     "execution_count": 51,
     "metadata": {},
     "output_type": "execute_result"
    }
   ],
   "source": [
    "def init_weights(module):\n",
    "     ### START CODE HERE ###\n",
    "    if isinstance(module, nn.Linear):\n",
    "        # use xavier_uniform_ for linear layer\n",
    "        nn.init.xavier_uniform_(module.weight)\n",
    "        if module.bias is not None:\n",
    "            nn.init.zeros_(module.bias)\n",
    "    elif isinstance(module, nn.Embedding):\n",
    "        # Use uniform initialization for the embedding layer\n",
    "        nn.init.uniform_(module.weight, -0.1, 0.1)\n",
    "    elif isinstance(module, nn.LSTM):\n",
    "        for name, param in module.named_parameters():\n",
    "            if 'weight' in name:\n",
    "                nn.init.xavier_uniform_(param)\n",
    "            elif 'bias' in name:\n",
    "                nn.init.zeros_(param)\n",
    "     ### END CODE HERE ###  \n",
    "net.apply(init_weights)"
   ]
  },
  {
   "cell_type": "markdown",
   "id": "bb4dcefc-e137-4c65-86b0-296883f8f944",
   "metadata": {},
   "source": [
    "Next, we will load the pretrained 100-dimensional GloVe embeddings for tokens in the vocabulary. GloVe (Global Vectors for Word Representation) provides pre-defined dense vectors for a vast number of words in the English language, allowing for immediate utilization in various natural language processing (NLP) applications. The GloVe embeddings are available in different dimensions, such as 50-d, 100-d, 200-d, or 300-d vectors, with the dimensionality indicating the size of the vector representation for each word. To incorporate these pretrained embeddings, it's crucial to ensure consistency with the specified embed_size of 100. By leveraging the GloVe embeddings, we can enrich the model's understanding of the textual data and enhance its performance in NLP tasks.\n",
    "\n",
    "You can downlaod the **glove.6b.100d** from https://nlp.stanford.edu/data/glove.6B.zip"
   ]
  },
  {
   "cell_type": "code",
   "execution_count": 52,
   "id": "41da3a08-a244-4db2-8ca9-74f0d8ed5343",
   "metadata": {},
   "outputs": [],
   "source": [
    "glove_embedding = TokenEmbedding('glove.6B.100d.txt', '../data/glove.6B')\n",
    "embeds = glove_embedding[vocab.idx_to_token]"
   ]
  },
  {
   "cell_type": "markdown",
   "id": "6a31b1a0-1070-45e7-ab1f-587584324348",
   "metadata": {},
   "source": [
    "Please use these pretrained word vectors to represent tokens in the reviews and ensure not update these vectors during training."
   ]
  },
  {
   "cell_type": "code",
   "execution_count": 53,
   "id": "0e1eed8f-9903-4b2e-9179-7ab64df067a3",
   "metadata": {},
   "outputs": [],
   "source": [
    "### START CODE HERE ###\n",
    "embedding_layer = nn.Embedding.from_pretrained(embeds, freeze=True)\n",
    "### END CODE HERE ### "
   ]
  },
  {
   "cell_type": "markdown",
   "id": "1b3033d8-7757-4b0f-be09-a5800200616a",
   "metadata": {},
   "source": [
    "Finally, we will proceed with training our network. Within the following function, you are expected to train your network and evaluate your model on the testing dataset. Additionally, you should generate visualizations depicting the training loss, training accuracy, and testing accuracy for each epoch."
   ]
  },
  {
   "cell_type": "code",
   "execution_count": 54,
   "id": "cf956cfa-ae87-4b07-8cdd-9f75123f0ff5",
   "metadata": {},
   "outputs": [],
   "source": [
    "def train(net, train_iter, test_iter, loss, trainer, num_epochs):\n",
    "    ### START CODE HERE ###\n",
    "    train_losses = []\n",
    "    train_accuracies = []\n",
    "    test_accuracies = []\n",
    "    \n",
    "    for epoch in range(num_epochs):\n",
    "        net.train()\n",
    "        total_loss, total_correct, total_samples = 0, 0, 0\n",
    "        \n",
    "        for inputs, labels in tqdm(train_iter, desc=f\"Training process in epoch {epoch}\"):\n",
    "            inputs = inputs.to(device)\n",
    "            labels = labels.to(device)\n",
    "            outputs = net(inputs)\n",
    "            l = loss(outputs, labels)\n",
    "            trainer.zero_grad()\n",
    "            l.backward()\n",
    "            trainer.step()\n",
    "            \n",
    "            total_loss += l.sum().item()\n",
    "            total_correct += (outputs.argmax(dim=1) == labels).sum().item()\n",
    "            total_samples += labels.size(0)\n",
    "        \n",
    "        train_losses.append(total_loss / total_samples)\n",
    "        train_accuracies.append(total_correct / total_samples)\n",
    "        \n",
    "        net.eval()\n",
    "        with torch.no_grad():\n",
    "            correct, total = 0, 0\n",
    "            for inputs, labels in tqdm(test_iter, desc=f\"Testing process in epoch {epoch}\"):\n",
    "                inputs = inputs.to(device)\n",
    "                labels = labels.to(device)\n",
    "                outputs = net(inputs)\n",
    "                correct += (outputs.argmax(dim=1) == labels).sum().item()\n",
    "                total += labels.size(0)\n",
    "            test_accuracy = correct / total\n",
    "            test_accuracies.append(test_accuracy)\n",
    "        \n",
    "        print(f\"Epoch {epoch + 1}: Train Loss = {train_losses[-1]:.4f}, \"\n",
    "              f\"Train Accuracy = {train_accuracies[-1]:.4f}, \"\n",
    "              f\"Test Accuracy = {test_accuracies[-1]:.4f}\")\n",
    "\n",
    "    plt.figure(figsize=(10, 5))\n",
    "    plt.plot(range(1, num_epochs + 1), train_losses, label=\"Training Loss\")\n",
    "    plt.xlabel(\"Epoch\")\n",
    "    plt.ylabel(\"Loss\")\n",
    "    plt.title(\"Training Loss Curve\")\n",
    "    plt.legend()\n",
    "    plt.show()\n",
    "\n",
    "    plt.figure(figsize=(10, 5))\n",
    "    plt.plot(range(1, num_epochs + 1), train_accuracies, label=\"Training Accuracy\")\n",
    "    plt.plot(range(1, num_epochs + 1), test_accuracies, label=\"Testing Accuracy\")\n",
    "    plt.xlabel(\"Epoch\")\n",
    "    plt.ylabel(\"Accuracy\")\n",
    "    plt.title(\"Accuracy Curve\")\n",
    "    plt.legend()\n",
    "    plt.show()\n",
    "\n",
    "    return train_losses, train_accuracies, test_accuracies\n",
    "    ### END CODE HERE ### "
   ]
  },
  {
   "cell_type": "code",
   "execution_count": 55,
   "id": "3d668a5a-0a0d-4238-94eb-90b809e93adc",
   "metadata": {},
   "outputs": [
    {
     "name": "stderr",
     "output_type": "stream",
     "text": [
      "Training process in epoch 0: 100%|██████████████████████████████████████████████████████████████████████████████████████████████████████████████████| 782/782 [00:33<00:00, 23.10it/s]\n",
      "Testing process in epoch 0: 100%|███████████████████████████████████████████████████████████████████████████████████████████████████████████████████| 782/782 [00:11<00:00, 68.09it/s]\n"
     ]
    },
    {
     "name": "stdout",
     "output_type": "stream",
     "text": [
      "Epoch 1: Train Loss = 0.0201, Train Accuracy = 0.6151, Test Accuracy = 0.6490\n"
     ]
    },
    {
     "name": "stderr",
     "output_type": "stream",
     "text": [
      "Training process in epoch 1: 100%|██████████████████████████████████████████████████████████████████████████████████████████████████████████████████| 782/782 [00:34<00:00, 22.99it/s]\n",
      "Testing process in epoch 1: 100%|███████████████████████████████████████████████████████████████████████████████████████████████████████████████████| 782/782 [00:11<00:00, 68.60it/s]\n"
     ]
    },
    {
     "name": "stdout",
     "output_type": "stream",
     "text": [
      "Epoch 2: Train Loss = 0.0169, Train Accuracy = 0.7384, Test Accuracy = 0.7498\n"
     ]
    },
    {
     "name": "stderr",
     "output_type": "stream",
     "text": [
      "Training process in epoch 2: 100%|██████████████████████████████████████████████████████████████████████████████████████████████████████████████████| 782/782 [00:34<00:00, 22.91it/s]\n",
      "Testing process in epoch 2: 100%|███████████████████████████████████████████████████████████████████████████████████████████████████████████████████| 782/782 [00:11<00:00, 68.45it/s]\n"
     ]
    },
    {
     "name": "stdout",
     "output_type": "stream",
     "text": [
      "Epoch 3: Train Loss = 0.0100, Train Accuracy = 0.8702, Test Accuracy = 0.7624\n"
     ]
    },
    {
     "name": "stderr",
     "output_type": "stream",
     "text": [
      "Training process in epoch 3: 100%|██████████████████████████████████████████████████████████████████████████████████████████████████████████████████| 782/782 [00:34<00:00, 22.98it/s]\n",
      "Testing process in epoch 3: 100%|███████████████████████████████████████████████████████████████████████████████████████████████████████████████████| 782/782 [00:11<00:00, 68.62it/s]\n"
     ]
    },
    {
     "name": "stdout",
     "output_type": "stream",
     "text": [
      "Epoch 4: Train Loss = 0.0051, Train Accuracy = 0.9417, Test Accuracy = 0.8248\n"
     ]
    },
    {
     "name": "stderr",
     "output_type": "stream",
     "text": [
      "Training process in epoch 4: 100%|██████████████████████████████████████████████████████████████████████████████████████████████████████████████████| 782/782 [00:34<00:00, 22.98it/s]\n",
      "Testing process in epoch 4: 100%|███████████████████████████████████████████████████████████████████████████████████████████████████████████████████| 782/782 [00:11<00:00, 68.68it/s]\n"
     ]
    },
    {
     "name": "stdout",
     "output_type": "stream",
     "text": [
      "Epoch 5: Train Loss = 0.0026, Train Accuracy = 0.9732, Test Accuracy = 0.8345\n"
     ]
    },
    {
     "name": "stderr",
     "output_type": "stream",
     "text": [
      "Training process in epoch 5: 100%|██████████████████████████████████████████████████████████████████████████████████████████████████████████████████| 782/782 [00:34<00:00, 22.88it/s]\n",
      "Testing process in epoch 5: 100%|███████████████████████████████████████████████████████████████████████████████████████████████████████████████████| 782/782 [00:11<00:00, 68.51it/s]\n"
     ]
    },
    {
     "name": "stdout",
     "output_type": "stream",
     "text": [
      "Epoch 6: Train Loss = 0.0014, Train Accuracy = 0.9866, Test Accuracy = 0.8321\n"
     ]
    },
    {
     "name": "stderr",
     "output_type": "stream",
     "text": [
      "Training process in epoch 6: 100%|██████████████████████████████████████████████████████████████████████████████████████████████████████████████████| 782/782 [00:34<00:00, 22.95it/s]\n",
      "Testing process in epoch 6: 100%|███████████████████████████████████████████████████████████████████████████████████████████████████████████████████| 782/782 [00:11<00:00, 68.70it/s]\n"
     ]
    },
    {
     "name": "stdout",
     "output_type": "stream",
     "text": [
      "Epoch 7: Train Loss = 0.0010, Train Accuracy = 0.9907, Test Accuracy = 0.8178\n"
     ]
    },
    {
     "name": "stderr",
     "output_type": "stream",
     "text": [
      "Training process in epoch 7: 100%|██████████████████████████████████████████████████████████████████████████████████████████████████████████████████| 782/782 [00:34<00:00, 22.92it/s]\n",
      "Testing process in epoch 7: 100%|███████████████████████████████████████████████████████████████████████████████████████████████████████████████████| 782/782 [00:11<00:00, 68.40it/s]\n"
     ]
    },
    {
     "name": "stdout",
     "output_type": "stream",
     "text": [
      "Epoch 8: Train Loss = 0.0008, Train Accuracy = 0.9924, Test Accuracy = 0.8242\n"
     ]
    },
    {
     "name": "stderr",
     "output_type": "stream",
     "text": [
      "Training process in epoch 8: 100%|██████████████████████████████████████████████████████████████████████████████████████████████████████████████████| 782/782 [00:34<00:00, 22.84it/s]\n",
      "Testing process in epoch 8: 100%|███████████████████████████████████████████████████████████████████████████████████████████████████████████████████| 782/782 [00:11<00:00, 68.29it/s]\n"
     ]
    },
    {
     "name": "stdout",
     "output_type": "stream",
     "text": [
      "Epoch 9: Train Loss = 0.0004, Train Accuracy = 0.9970, Test Accuracy = 0.8300\n"
     ]
    },
    {
     "name": "stderr",
     "output_type": "stream",
     "text": [
      "Training process in epoch 9: 100%|██████████████████████████████████████████████████████████████████████████████████████████████████████████████████| 782/782 [00:34<00:00, 22.83it/s]\n",
      "Testing process in epoch 9: 100%|███████████████████████████████████████████████████████████████████████████████████████████████████████████████████| 782/782 [00:11<00:00, 68.39it/s]\n"
     ]
    },
    {
     "name": "stdout",
     "output_type": "stream",
     "text": [
      "Epoch 10: Train Loss = 0.0003, Train Accuracy = 0.9971, Test Accuracy = 0.8189\n"
     ]
    },
    {
     "data": {
      "image/png": "[encoded data removed]",
      "text/plain": [
       "<Figure size 720x360 with 1 Axes>"
      ]
     },
     "metadata": {
      "needs_background": "light"
     },
     "output_type": "display_data"
    },
    {
     "data": {
      "image/png": "[encoded data removed]",
      "text/plain": [
       "<Figure size 720x360 with 1 Axes>"
      ]
     },
     "metadata": {
      "needs_background": "light"
     },
     "output_type": "display_data"
    }
   ],
   "source": [
    "lr, num_epochs = 0.001, 10\n",
    "trainer = torch.optim.AdamW(net.parameters(), lr=lr)\n",
    "loss = nn.CrossEntropyLoss(reduction=\"mean\")\n",
    "net = net.to(device)\n",
    "train_losses, train_accuracies, test_accuracies = train(net, train_iter, test_iter, loss, trainer, num_epochs)"
   ]
  },
  {
   "cell_type": "markdown",
   "id": "606b0360-53f0-492e-9a91-cffb5aa0a834",
   "metadata": {},
   "source": [
    "##  3.3 Using TextCNN for Sentiment Analysis"
   ]
  },
  {
   "cell_type": "markdown",
   "id": "57b63ba8-810a-47eb-a99e-b0e41b5c25d4",
   "metadata": {},
   "source": [
    "Please design a TextCNN to process the IMDB dataset."
   ]
  },
  {
   "cell_type": "code",
   "execution_count": 17,
   "id": "7434bd00-a937-4648-b9b6-6d66fd5ba208",
   "metadata": {},
   "outputs": [],
   "source": [
    "class TextCNN(nn.Module):\n",
    "    def __init__(self, vocab_size, embed_size, kernel_sizes, num_channels, dropout=0.5,\n",
    "                 **kwargs):\n",
    "        ### START CODE HERE ###\n",
    "        super(TextCNN, self).__init__() \n",
    "        self.embedding = nn.Embedding(vocab_size, embed_size)\n",
    "\n",
    "        self.convs = nn.ModuleList([\n",
    "            nn.Conv1d(in_channels=embed_size, \n",
    "                      out_channels=num_channels, \n",
    "                      kernel_size=k) \n",
    "            for k in kernel_sizes\n",
    "        ])\n",
    "        self.dropout = nn.Dropout(dropout)\n",
    "        self.fc = nn.Linear(num_channels * len(kernel_sizes), 2)\n",
    "\n",
    "        ### END CODE HERE ### \n",
    "\n",
    "    def forward(self, inputs):\n",
    "        ### START CODE HERE ###\n",
    "        embeddings = self.embedding(inputs).permute(0, 2, 1)\n",
    "\n",
    "        conv_outputs = [\n",
    "            F.relu(conv(embeddings)).max(dim=2)[0]\n",
    "            for conv in self.convs\n",
    "        ]\n",
    "\n",
    "        concat = torch.cat(conv_outputs, dim=1)\n",
    "        outputs = self.dropout(self.fc(concat))\n",
    "        return outputs\n",
    "        ### END CODE HERE ### "
   ]
  },
  {
   "cell_type": "markdown",
   "id": "78480182-3e2d-49b1-8ac9-c60628075114",
   "metadata": {},
   "source": [
    "Please initialize the weights of your predefined model."
   ]
  },
  {
   "cell_type": "code",
   "execution_count": 18,
   "id": "7d374d1e-78de-4c32-b05d-afb2a7f1b34e",
   "metadata": {},
   "outputs": [],
   "source": [
    "def init_weights(module):\n",
    "    ### START CODE HERE ###\n",
    "    if isinstance(module, nn.Linear) or isinstance(module, nn.Conv1d):\n",
    "        nn.init.xavier_uniform_(module.weight)\n",
    "    elif isinstance(module, nn.Embedding):\n",
    "        nn.init.normal_(module.weight, mean=0, std=0.01)\n",
    "    ### END CODE HERE ### \n",
    "\n",
    "net.apply(init_weights);"
   ]
  },
  {
   "cell_type": "markdown",
   "id": "d9200259",
   "metadata": {},
   "source": [
    "Next, we will load the pretrained 100-dimensional GloVe embeddings for tokens in the vocabulary. "
   ]
  },
  {
   "cell_type": "code",
   "execution_count": 19,
   "id": "fa53df36",
   "metadata": {},
   "outputs": [],
   "source": [
    "glove_embedding = TokenEmbedding('glove.6B.100d.txt', '../data/glove.6B')\n",
    "embeds = glove_embedding[vocab.idx_to_token]"
   ]
  },
  {
   "cell_type": "markdown",
   "id": "31d46d57",
   "metadata": {},
   "source": [
    "Please use these pretrained word vectors to represent tokens in the reviews."
   ]
  },
  {
   "cell_type": "code",
   "execution_count": 20,
   "id": "e789c52a",
   "metadata": {},
   "outputs": [],
   "source": [
    "### START CODE HERE ###\n",
    "embedding_layer = nn.Embedding.from_pretrained(embeds, freeze=True)\n",
    "### END CODE HERE ### "
   ]
  },
  {
   "cell_type": "markdown",
   "id": "b52dcdb2-e17e-408b-b7b7-3e8ae0b0e182",
   "metadata": {},
   "source": [
    "Finally, we will proceed with training our network."
   ]
  },
  {
   "cell_type": "code",
   "execution_count": 21,
   "id": "b81817d1-b161-470d-8e77-1fe9050d4e1f",
   "metadata": {},
   "outputs": [],
   "source": [
    "embed_size, kernel_sizes, nums_channels = 100, [3, 3, 3], 100 ### YOUR CODE HERE ###\n",
    "net = TextCNN(len(vocab), embed_size, kernel_sizes, nums_channels) ### YOUR CODE HERE ###\n",
    "net = net.to(device)"
   ]
  },
  {
   "cell_type": "code",
   "execution_count": 22,
   "id": "8a8be3a3-2d95-4007-95c6-fd70b72c2a7c",
   "metadata": {},
   "outputs": [
    {
     "name": "stderr",
     "output_type": "stream",
     "text": [
      "Training process in epoch 0: 100%|██████████████████████████████████████████████████████████████████████████████████████████████████████████████████| 782/782 [00:10<00:00, 73.35it/s]\n",
      "Testing process in epoch 0: 100%|██████████████████████████████████████████████████████████████████████████████████████████████████████████████████| 782/782 [00:01<00:00, 482.31it/s]\n"
     ]
    },
    {
     "name": "stdout",
     "output_type": "stream",
     "text": [
      "Epoch 1: Train Loss = 0.0182, Train Accuracy = 0.6682, Test Accuracy = 0.8070\n"
     ]
    },
    {
     "name": "stderr",
     "output_type": "stream",
     "text": [
      "Training process in epoch 1: 100%|█████████████████████████████████████████████████████████████████████████████████████████████████████████████████| 782/782 [00:05<00:00, 131.16it/s]\n",
      "Testing process in epoch 1: 100%|██████████████████████████████████████████████████████████████████████████████████████████████████████████████████| 782/782 [00:01<00:00, 481.60it/s]\n"
     ]
    },
    {
     "name": "stdout",
     "output_type": "stream",
     "text": [
      "Epoch 2: Train Loss = 0.0144, Train Accuracy = 0.7506, Test Accuracy = 0.8383\n"
     ]
    },
    {
     "name": "stderr",
     "output_type": "stream",
     "text": [
      "Training process in epoch 2: 100%|█████████████████████████████████████████████████████████████████████████████████████████████████████████████████| 782/782 [00:05<00:00, 131.58it/s]\n",
      "Testing process in epoch 2: 100%|██████████████████████████████████████████████████████████████████████████████████████████████████████████████████| 782/782 [00:01<00:00, 476.18it/s]\n"
     ]
    },
    {
     "name": "stdout",
     "output_type": "stream",
     "text": [
      "Epoch 3: Train Loss = 0.0118, Train Accuracy = 0.7927, Test Accuracy = 0.8326\n"
     ]
    },
    {
     "name": "stderr",
     "output_type": "stream",
     "text": [
      "Training process in epoch 3: 100%|█████████████████████████████████████████████████████████████████████████████████████████████████████████████████| 782/782 [00:06<00:00, 130.12it/s]\n",
      "Testing process in epoch 3: 100%|██████████████████████████████████████████████████████████████████████████████████████████████████████████████████| 782/782 [00:01<00:00, 485.16it/s]\n"
     ]
    },
    {
     "name": "stdout",
     "output_type": "stream",
     "text": [
      "Epoch 4: Train Loss = 0.0093, Train Accuracy = 0.8334, Test Accuracy = 0.8272\n"
     ]
    },
    {
     "name": "stderr",
     "output_type": "stream",
     "text": [
      "Training process in epoch 4: 100%|█████████████████████████████████████████████████████████████████████████████████████████████████████████████████| 782/782 [00:05<00:00, 131.81it/s]\n",
      "Testing process in epoch 4: 100%|██████████████████████████████████████████████████████████████████████████████████████████████████████████████████| 782/782 [00:01<00:00, 485.98it/s]"
     ]
    },
    {
     "name": "stdout",
     "output_type": "stream",
     "text": [
      "Epoch 5: Train Loss = 0.0080, Train Accuracy = 0.8480, Test Accuracy = 0.8396\n"
     ]
    },
    {
     "name": "stderr",
     "output_type": "stream",
     "text": [
      "\n"
     ]
    },
    {
     "data": {
      "image/png": "[encoded data removed]",
      "text/plain": [
       "<Figure size 720x360 with 1 Axes>"
      ]
     },
     "metadata": {
      "needs_background": "light"
     },
     "output_type": "display_data"
    },
    {
     "data": {
      "image/png": "[encoded data removed]",
      "text/plain": [
       "<Figure size 720x360 with 1 Axes>"
      ]
     },
     "metadata": {
      "needs_background": "light"
     },
     "output_type": "display_data"
    },
    {
     "data": {
      "text/plain": [
       "([0.01818109954237938,\n",
       "  0.014423639028072357,\n",
       "  0.011835670060813427,\n",
       "  0.009329627921581268,\n",
       "  0.008010802625715732],\n",
       " [0.66824, 0.75064, 0.79272, 0.8334, 0.84796],\n",
       " [0.807, 0.83832, 0.8326, 0.82716, 0.83956])"
      ]
     },
     "execution_count": 22,
     "metadata": {},
     "output_type": "execute_result"
    }
   ],
   "source": [
    "lr, num_epochs = 0.001, 5\n",
    "trainer = torch.optim.Adam(net.parameters(), lr=lr)\n",
    "loss = nn.CrossEntropyLoss(reduction=\"mean\")\n",
    "train(net, train_iter, test_iter, loss, trainer, num_epochs)"
   ]
  },
  {
   "cell_type": "markdown",
   "id": "786df46c",
   "metadata": {},
   "source": [
    "Make the prediction for a text sequence."
   ]
  },
  {
   "cell_type": "code",
   "execution_count": 29,
   "id": "0e1b2839",
   "metadata": {},
   "outputs": [],
   "source": [
    "def predict_sentiment(net, vocab, sequence):\n",
    "    \"\"\"Predict the sentiment of a text sequence.\"\"\"\n",
    "    tokens = sequence.lower().split()\n",
    "    indices = [vocab[token] for token in tokens]\n",
    "    inputs = torch.tensor(indices).unsqueeze(0)\n",
    "    \n",
    "    net.eval()\n",
    "    with torch.no_grad():\n",
    "        inputs = inputs.to(device)\n",
    "        outputs = net(inputs)\n",
    "        predicted_class = torch.argmax(outputs, dim=1).item()\n",
    "\n",
    "    sentiment = \"positive\" if predicted_class == 1 else \"negative\"\n",
    "    print(sentiment)\n",
    "    return sentiment\n",
    "    ### START CODE HERE ###\n",
    "    ### END CODE HERE ### "
   ]
  },
  {
   "cell_type": "code",
   "execution_count": 30,
   "id": "0634f78c",
   "metadata": {},
   "outputs": [
    {
     "name": "stdout",
     "output_type": "stream",
     "text": [
      "positive\n"
     ]
    },
    {
     "data": {
      "text/plain": [
       "'positive'"
      ]
     },
     "execution_count": 30,
     "metadata": {},
     "output_type": "execute_result"
    }
   ],
   "source": [
    "predict_sentiment(net, vocab, 'this movie is so great')"
   ]
  },
  {
   "cell_type": "code",
   "execution_count": 31,
   "id": "2553da61",
   "metadata": {},
   "outputs": [
    {
     "name": "stdout",
     "output_type": "stream",
     "text": [
      "negative\n"
     ]
    },
    {
     "data": {
      "text/plain": [
       "'negative'"
      ]
     },
     "execution_count": 31,
     "metadata": {},
     "output_type": "execute_result"
    }
   ],
   "source": [
    "predict_sentiment(net, vocab, 'this movie is so bad')"
   ]
  },
  {
   "cell_type": "code",
   "execution_count": null,
   "id": "ada5e7ec",
   "metadata": {},
   "outputs": [],
   "source": []
  }
 ],
 "metadata": {
  "kernelspec": {
   "display_name": "Python 3 (ipykernel)",
   "language": "python",
   "name": "python3"
  },
  "language_info": {
   "codemirror_mode": {
    "name": "ipython",
    "version": 3
   },
   "file_extension": ".py",
   "mimetype": "text/x-python",
   "name": "python",
   "nbconvert_exporter": "python",
   "pygments_lexer": "ipython3",
   "version": "3.9.21"
  }
 },
 "nbformat": 4,
 "nbformat_minor": 5
}
