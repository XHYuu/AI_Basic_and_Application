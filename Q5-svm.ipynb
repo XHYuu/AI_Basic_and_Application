{
 "cells": [
  {
   "cell_type": "markdown",
   "metadata": {},
   "source": [
    "# ARIN7102 Applied Datamining and Text Analytics: Assignment 1"
   ]
  },
  {
   "attachments": {},
   "cell_type": "markdown",
   "metadata": {
    "id": "3Gf1badl3V1R"
   },
   "source": [
    "## Question 5: Support Vector Machine\n",
    "\n",
    "Complete and hand in this completed worksheet with your assignment submission. \n",
    "\n",
    "In this exercise you will:\n",
    "    \n",
    "- Understand the logic of the following code to use SVM for image classification.\n",
    "- Implement a linear SVM by calling functions from scikit-learn module. \n",
    "- Tune parameters of SVM. Analyze the tuned results.\n",
    "\n",
    "TEST ACC BASELINE for default SVM + PCA (128 Components) model --> 23%"
   ]
  },
  {
   "attachments": {},
   "cell_type": "markdown",
   "metadata": {
    "id": "eU07Yq3U3V1X"
   },
   "source": [
    "#### 1. Prepare CIFAR10 dataset\n",
    "Prepare CIFAR-10 images here for image classification."
   ]
  },
  {
   "cell_type": "code",
   "execution_count": null,
   "metadata": {
    "colab": {
     "base_uri": "https://localhost:8080/"
    },
    "id": "KRT9brgw3V1X",
    "outputId": "630a303f-9b73-45a5-c3b8-55336291c5cc"
   },
   "outputs": [],
   "source": [
    "import torch\n",
    "import torchvision.datasets as datasets\n",
    "\n",
    "\n",
    "cifar_trainset = datasets.CIFAR10(root='./dataset', train=True, download=True, transform=None)\n",
    "cifar_testset = datasets.CIFAR10(root='./dataset', train=False, download=True, transform=None)\n",
    "\n",
    "X_train = torch.tensor(cifar_trainset.data) / 255\n",
    "X_test = torch.tensor(cifar_testset.data) / 255\n",
    "y_train = torch.tensor(cifar_trainset.targets)\n",
    "y_test = torch.tensor(cifar_testset.targets)\n",
    "\n",
    "print('Training set:', )\n",
    "print('  data shape:', X_train.shape)\n",
    "print('  labels shape: ', y_train.shape)\n",
    "print('Test set:')\n",
    "print('  data shape: ', X_test.shape)\n",
    "print('  labels shape', y_test.shape)"
   ]
  },
  {
   "attachments": {},
   "cell_type": "markdown",
   "metadata": {
    "id": "IHb69hMm3V1Z"
   },
   "source": [
    "#### 2. Extract feature vectors\n",
    "We utilized PCA (128 components) to extract the features vectors. Please understand the logic of following code. And feel free to propose another method to improve your model, including making use of any feature selection methods."
   ]
  },
  {
   "cell_type": "code",
   "execution_count": null,
   "metadata": {},
   "outputs": [],
   "source": [
    "#################################################################################################################\n",
    "# TODO:                                                                                                         #\n",
    "# Feature extraction method.                                                                                    #\n",
    "# Currently we are using PCA method to extract the features, but you can also change it to improve your model   #\n",
    "#################################################################################################################\n",
    "'''\n",
    "Reference on other feature extractors: \n",
    "1. https://medium.com/the-owl/extracting-features-from-an-intermediate-layer-of-a-pretrained-model-in-pytorch-c00589bda32b \n",
    "2. https://learnopencv.com/pytorch-for-beginners-image-classification-using-pre-trained-models/ \n",
    "3. https://scikit-learn.org/stable/modules/generated/sklearn.discriminant_analysis.LinearDiscriminantAnalysis.html \n",
    "'''\n",
    "# ***** START OF YOUR CODE *****\n",
    "from sklearn.decomposition import PCA\n",
    "\n",
    "pca = PCA(n_components=128)\n",
    "num_train = X_train.shape[0]\n",
    "num_test = X_test.shape[0]\n",
    "\n",
    "X_train_feat = pca.fit_transform(X_train.reshape(num_train, -1))\n",
    "X_test_feat = pca.transform(X_test.reshape(num_test, -1))\n",
    "# ***** END OF YOUR CODE *****"
   ]
  },
  {
   "attachments": {},
   "cell_type": "markdown",
   "metadata": {},
   "source": [
    "#### 3. Implement a Linear Support Vector Machine(SVM)\n",
    "Check the documentation at https://scikit-learn.org/stable/modules/classes.html#module-sklearn.svm to see how to use these functions to train and test a Support Vector Machine(SVM). Then, implement a your SVM and in the following *TODO* block. Before implementing the function, it is recommended to read the function description and NOTE inside the function. Moreover, you can only write your code in the predefined place. \n",
    "\n",
    "- You may try any kind of data preprocessing to improve your testing results\n",
    "- You may tune any parameters like kernels and penality functions, etc to improve your testing results.\n",
    "- You can also use other feature extractor other than PCA, such as LDA, resnet18, 50, transformer etc.   \n",
    "- Do not change the dataset\n",
    "- Do not use any GPU acceleration method in your implementation. We are going to evaluate your model solely using CPU. Thus, if your model training takes up more than >1 hour, we will disqualify your model from the competiton but you will still get some points.\n",
    "- Then, you need to write down what methods/ parameters you have tried and the detailed analysis of results. If you use some extra libraries in your implementation, please let us know in your analysis so that we can also reproduce your model."
   ]
  },
  {
   "cell_type": "code",
   "execution_count": null,
   "metadata": {
    "colab": {
     "base_uri": "https://localhost:8080/"
    },
    "id": "k2vd7yfY3V1a",
    "outputId": "471db747-76f8-4c80-9152-ca84630f91dd"
   },
   "outputs": [],
   "source": [
    "from sklearn import svm\n",
    "\n",
    "#################################################################################################################\n",
    "# Step 1 TODO:                                                                                                  #\n",
    "# Training a linear SVM using training set.                                                                     #\n",
    "# You need to write code that trains a SVM. Please refer to the document of sklearn.svm.                        #\n",
    "#                                                                                                               #\n",
    "# Currently the ACC test result for default SVM + PCA (as feature extractor) is ~23%, Try to improve it!        #\n",
    "# With your own implementation                                                                                  #\n",
    "#                                                                                                               #\n",
    "# You may tune SVM parameters such as kernels and penality functions to improve your testing results.           #\n",
    "# You can also use other feature extractor other than PCA, such as LDA, HOG, or Deep learning pretrained models such as ResNets, Transformer etc.      #\n",
    "# Then, you need to write down what methods / parameters you have tried and the detailed analysis of results.   #\n",
    "# Note that you can either write your detailed analysis in the next block or in your answer sheet               #\n",
    "#################################################################################################################\n",
    "# *****START OF YOUR CODE *****\n",
    "\n",
    "# Create a svm instance and Train the svm instance svc with the training set samples 'X_train_feat' and labels 'y_train' as input\n",
    "svc = \n",
    "\n",
    "# *****END OF YOUR CODE *****\n",
    "\n",
    "\n",
    "########################################################################################################\n",
    "# Step 2 TODO:                                                                                         #\n",
    "# Using the trained SVM to predict the classification results of validation set.                       #\n",
    "# You need to write code that test the SVM you implemented above.                                      #\n",
    "# Again you may refer to the document to see if any functions are already defined for prediction.      #\n",
    "########################################################################################################\n",
    "# ***** START OF YOUR CODE *****\n",
    "\n",
    "# Test our trained svm instance svc with the test set samples 'X_test_feat'\n",
    "y2_pred =\n",
    "\n",
    "# ***** END OF YOUR CODE *****\n",
    "\n",
    "# Print the predicted outputs and accuracies.\n",
    "# We use precision, recall and f-measure to measure the accuracy of image classification. \n",
    "# To understand the meaning of these metrics, you can refer to \n",
    "# https://scikit-learn.org/stable/auto_examples/model_selection/plot_precision_recall.html.\n",
    "from sklearn.metrics import classification_report\n",
    "print(classification_report(y_test, y2_pred))"
   ]
  },
  {
   "attachments": {},
   "cell_type": "markdown",
   "metadata": {},
   "source": [
    "# Analysis:\n",
    "###############################################################################\n",
    "\n",
    "TODO: what methods/ parameters you have tried and the detailed analysis of results.\n",
    "You can give your analysis either in the notebook or in a pdf\n",
    "\n",
    "###############################################################################"
   ]
  }
 ],
 "metadata": {
  "colab": {
   "collapsed_sections": [],
   "name": "svm_v2.ipynb",
   "provenance": [],
   "toc_visible": true
  },
  "kernelspec": {
   "display_name": "arin7102_ass1",
   "language": "python",
   "name": "python3"
  },
  "language_info": {
   "codemirror_mode": {
    "name": "ipython",
    "version": 3
   },
   "file_extension": ".py",
   "mimetype": "text/x-python",
   "name": "python",
   "nbconvert_exporter": "python",
   "pygments_lexer": "ipython3",
   "version": "3.7.16"
  },
  "vscode": {
   "interpreter": {
    "hash": "1be1fd0ccaf796a3cbf7fb158f0073fdb75de9bf1651a783bd90ea5a72bbbc48"
   }
  }
 },
 "nbformat": 4,
 "nbformat_minor": 1
}
