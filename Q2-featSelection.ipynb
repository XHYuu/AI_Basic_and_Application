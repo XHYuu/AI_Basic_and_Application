{
 "cells": [
  {
   "cell_type": "markdown",
   "metadata": {},
   "source": [
    "# ARIN7102 Applied Data Mining and Text Analytics: Assignment 1"
   ]
  },
  {
   "cell_type": "markdown",
   "metadata": {},
   "source": [
    "## Question 2: Feature selection"
   ]
  },
  {
   "cell_type": "code",
   "execution_count": null,
   "metadata": {},
   "outputs": [],
   "source": [
    "import os\n",
    "\n",
    "train_dir = 'data/haiti/train'\n",
    "test_dir = 'data/haiti/dev'\n",
    "classes = os.listdir(train_dir)\n",
    "train_data = {c: os.path.join(train_dir, c) for c in classes}\n",
    "test_data = {c: os.path.join(test_dir, c) for c in classes}"
   ]
  },
  {
   "cell_type": "markdown",
   "metadata": {},
   "source": [
    "#### 1. Read the data"
   ]
  },
  {
   "cell_type": "code",
   "execution_count": null,
   "metadata": {},
   "outputs": [],
   "source": [
    "\n",
    "train_class_relevent = open(train_data[classes[0]]).readlines()\n",
    "train_class_irrelevant = open(train_data[classes[1]]).readlines()\n",
    "test_class_relevent = open(test_data[classes[0]]).readlines()\n",
    "test_class_irrelevant = open(test_data[classes[1]]).readlines()\n",
    "\n",
    "train_set = (train_class_relevent + train_class_irrelevant, [0]*len(train_class_relevent) + [1]*len(train_class_irrelevant))\n",
    "test_set = (test_class_relevent + test_class_irrelevant, [0]*len(test_class_relevent) + [1]*len(test_class_irrelevant))"
   ]
  },
  {
   "cell_type": "markdown",
   "metadata": {},
   "source": [
    "#### 2. Count vectorizer feature selection method"
   ]
  },
  {
   "cell_type": "code",
   "execution_count": null,
   "metadata": {},
   "outputs": [],
   "source": [
    "# TODO: Create a feature selection method based on document frequency with out using sklearn\n",
    "def count_vectorizer(docs, threshold):\n",
    "    word_freq = {}\n",
    "    # >>> YOUR ANSWER HERE\n",
    "\n",
    "    # >>> END YOUR ANSWER\n",
    "    return [word for word in word_freq if word_freq[word] > threshold]\n"
   ]
  },
  {
   "cell_type": "code",
   "execution_count": null,
   "metadata": {},
   "outputs": [],
   "source": [
    "# create a feature selection method based on document frequency using sklearn\n",
    "from sklearn.feature_extraction.text import CountVectorizer\n",
    "\n",
    "def count_vectorizer_sklearn(docs, threshold):\n",
    "    vectorizer = CountVectorizer()\n",
    "    X = vectorizer.fit_transform(docs)\n",
    "    freq = X.toarray().sum(axis=0)\n",
    "    words = vectorizer.get_feature_names_out()\n",
    "    return [words[i] for i in range(len(words)) if freq[i] > threshold]"
   ]
  },
  {
   "cell_type": "code",
   "execution_count": null,
   "metadata": {},
   "outputs": [],
   "source": [
    "# test the two methods by evaluating the performance on svm\n",
    "from sklearn.svm import SVC\n",
    "from sklearn.feature_extraction.text import CountVectorizer\n",
    "from sklearn.metrics import accuracy_score\n",
    "\n",
    "def evaluate_feature_selection_method(train_set, test_set, method, threshold):\n",
    "    if method == 'sklearn':\n",
    "        vectorizer = CountVectorizer(vocabulary=count_vectorizer_sklearn(train_set[0], threshold))\n",
    "    else:\n",
    "        vectorizer = CountVectorizer(vocabulary=count_vectorizer(train_set[0], threshold))\n",
    "    X = vectorizer.fit_transform(train_set[0])\n",
    "    X_test = vectorizer.transform(test_set[0])\n",
    "    clf = SVC()\n",
    "    clf.fit(X, train_set[1])\n",
    "    y_pred = clf.predict(X_test)\n",
    "    return accuracy_score(test_set[1], y_pred)\n",
    "\n",
    "# evaluate count_vectorizer methods\n",
    "skelarn_acc = evaluate_feature_selection_method(train_set, test_set, 'sklearn', 0)\n",
    "yours_acc = evaluate_feature_selection_method(train_set, test_set, 'own', 0)\n",
    "diff = skelarn_acc - yours_acc\n",
    "print('The accuracy of the method using sklearn is:', skelarn_acc)\n",
    "print('The accuracy of the method using your own method is:', yours_acc)\n",
    "print('The difference between the two methods is:', diff)\n"
   ]
  },
  {
   "cell_type": "markdown",
   "metadata": {},
   "source": [
    "#### 3. TF-IDF Feature selection method"
   ]
  },
  {
   "cell_type": "code",
   "execution_count": null,
   "metadata": {},
   "outputs": [],
   "source": [
    "# TODO: Create a feature selection method based on TF-IDF with out using sklearn\n",
    "def tfidf_vectorizer(docs, threshold):\n",
    "    word_freq = {}\n",
    "    # >>> YOUR ANSWER HERE\n",
    "    \n",
    "    # >>> END YOUR ANSWER\n",
    "    return [word for word in word_freq if word_freq[word] > threshold]\n"
   ]
  },
  {
   "cell_type": "code",
   "execution_count": null,
   "metadata": {},
   "outputs": [],
   "source": [
    "# create a feature selection method based on TF-IDF using sklearn\n",
    "from sklearn.feature_extraction.text import TfidfVectorizer\n",
    "\n",
    "def tfidf_vectorizer_sklearn(docs, threshold):\n",
    "    vectorizer = TfidfVectorizer()\n",
    "    X = vectorizer.fit_transform(docs)\n",
    "    freq = X.toarray().sum(axis=0)\n",
    "    words = vectorizer.get_feature_names_out()\n",
    "    return [words[i] for i in range(len(words)) if freq[i] > threshold]"
   ]
  },
  {
   "cell_type": "code",
   "execution_count": null,
   "metadata": {},
   "outputs": [],
   "source": [
    "# test the two methods by evaluating the performance on svm\n",
    "def evaluate_feature_selection_method_tfidf(train_set, test_set, method, threshold):\n",
    "    if method == 'sklearn':\n",
    "        vectorizer = TfidfVectorizer(vocabulary=tfidf_vectorizer_sklearn(train_set[0], threshold))\n",
    "    else:\n",
    "        vectorizer = TfidfVectorizer(vocabulary=tfidf_vectorizer(train_set[0], threshold))\n",
    "    X = vectorizer.fit_transform(train_set[0])\n",
    "    X_test = vectorizer.transform(test_set[0])\n",
    "    clf = SVC()\n",
    "    clf.fit(X, train_set[1])\n",
    "    y_pred = clf.predict(X_test)\n",
    "    return accuracy_score(test_set[1], y_pred)\n",
    "\n",
    "# evaluate tfidf_vectorizer methods\n",
    "skelarn_acc = evaluate_feature_selection_method_tfidf(train_set, test_set, 'sklearn', 0)\n",
    "yours_acc = evaluate_feature_selection_method_tfidf(train_set, test_set, 'own', 0)\n",
    "diff = skelarn_acc - yours_acc\n",
    "print('The accuracy of the method using sklearn is:', skelarn_acc)\n",
    "print('The accuracy of the method using your own method is:', yours_acc)\n",
    "print('The difference between the two methods is:', diff)\n"
   ]
  }
 ],
 "metadata": {
  "kernelspec": {
   "display_name": "base",
   "language": "python",
   "name": "python3"
  },
  "language_info": {
   "codemirror_mode": {
    "name": "ipython",
    "version": 3
   },
   "file_extension": ".py",
   "mimetype": "text/x-python",
   "name": "python",
   "nbconvert_exporter": "python",
   "pygments_lexer": "ipython3",
   "version": "3.9.7"
  }
 },
 "nbformat": 4,
 "nbformat_minor": 2
}
