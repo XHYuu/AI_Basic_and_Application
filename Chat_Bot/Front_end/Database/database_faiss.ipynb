{
 "cells": [
  {
   "cell_type": "code",
   "execution_count": null,
   "id": "c93eaf4b",
   "metadata": {},
   "outputs": [
    {
     "data": {
      "text/plain": [
       "'./data.json'"
      ]
     },
     "execution_count": 31,
     "metadata": {},
     "output_type": "execute_result"
    }
   ],
   "source": [
    "import os\n",
    "import glob\n",
    "import json\n",
    "\n",
    "dataset_dir = \"./dataset\"\n",
    "json_files = sorted(glob.glob(os.path.join(dataset_dir, \"*.json\")))\n",
    "\n",
    "merged_data = []\n",
    "current_id = 1\n",
    "\n",
    "# 合并所有文件内容\n",
    "for file_path in json_files:\n",
    "    with open(file_path, \"r\", encoding=\"utf-8\") as f:\n",
    "        items = json.load(f)\n",
    "        for item in items:\n",
    "            item[\"id\"] = f\"{current_id:04d}\"\n",
    "            merged_data.append(item)\n",
    "            current_id += 1\n",
    "\n",
    "# 保存为合并后的 data.json 文件\n",
    "output_path = \"./data.json\"\n",
    "with open(output_path, \"w\", encoding=\"utf-8\") as f:\n",
    "    json.dump(merged_data, f, ensure_ascii=False, indent=2)\n",
    "\n",
    "output_path\n"
   ]
  },
  {
   "cell_type": "code",
   "execution_count": 4,
   "id": "b71d01c1",
   "metadata": {},
   "outputs": [
    {
     "name": "stderr",
     "output_type": "stream",
     "text": [
      "d:\\anaconda3\\envs\\nlp_env\\lib\\site-packages\\tqdm\\auto.py:21: TqdmWarning: IProgress not found. Please update jupyter and ipywidgets. See https://ipywidgets.readthedocs.io/en/stable/user_install.html\n",
      "  from .autonotebook import tqdm as notebook_tqdm\n",
      "d:\\anaconda3\\envs\\nlp_env\\lib\\site-packages\\threadpoolctl.py:1214: RuntimeWarning: \n",
      "Found Intel OpenMP ('libiomp') and LLVM OpenMP ('libomp') loaded at\n",
      "the same time. Both libraries are known to be incompatible and this\n",
      "can cause random crashes or deadlocks on Linux when loaded in the\n",
      "same Python program.\n",
      "Using threadpoolctl may cause crashes or deadlocks. For more\n",
      "information and possible workarounds, please see\n",
      "    https://github.com/joblib/threadpoolctl/blob/master/multiple_openmp.md\n",
      "\n",
      "  warnings.warn(msg, RuntimeWarning)\n",
      "d:\\anaconda3\\envs\\nlp_env\\lib\\site-packages\\transformers\\models\\bert\\modeling_bert.py:440: UserWarning: 1Torch was not compiled with flash attention. (Triggered internally at C:\\cb\\pytorch_1000000000000\\work\\aten\\src\\ATen\\native\\transformers\\cuda\\sdp_utils.cpp:455.)\n",
      "  attn_output = torch.nn.functional.scaled_dot_product_attention(\n"
     ]
    },
    {
     "name": "stdout",
     "output_type": "stream",
     "text": [
      "✅ 所有类别的索引与元数据构建完成！\n"
     ]
    }
   ],
   "source": [
    "import os\n",
    "import json\n",
    "import numpy as np\n",
    "import faiss\n",
    "import pickle\n",
    "from sentence_transformers import SentenceTransformer\n",
    "from collections import defaultdict\n",
    "\n",
    "# 加载数据\n",
    "with open(\"data.json\", \"r\", encoding=\"utf-8\") as f:\n",
    "    data = json.load(f)\n",
    "\n",
    "# 加载模型\n",
    "model = SentenceTransformer(\"all-MiniLM-L6-v2\")\n",
    "\n",
    "# 定义类别集合\n",
    "labels = set(item[\"label\"] for item in data)\n",
    "dim = 384  # 模型输出维度\n",
    "index_dir = \"faiss_index\"\n",
    "os.makedirs(index_dir, exist_ok=True)\n",
    "\n",
    "# 每个类别的向量索引 + 元数据\n",
    "label_to_index = {}\n",
    "label_to_data = defaultdict(list)\n",
    "\n",
    "# 建索引\n",
    "for label in labels:\n",
    "    label_to_index[label] = faiss.IndexFlatL2(dim)\n",
    "\n",
    "for item in data:\n",
    "    question = item[\"question\"]\n",
    "    label = item[\"label\"]\n",
    "    vec = model.encode([question], convert_to_numpy=True).astype(\"float32\")\n",
    "    \n",
    "    label_to_index[label].add(vec)\n",
    "    label_to_data[label].append(item)\n",
    "\n",
    "# 保存所有索引和元数据\n",
    "for label in labels:\n",
    "    index_path = os.path.join(index_dir, f\"{label}_index.bin\")\n",
    "    faiss.write_index(label_to_index[label], index_path)\n",
    "    \n",
    "    meta_path = os.path.join(index_dir, f\"{label}_meta.pkl\")\n",
    "    with open(meta_path, \"wb\") as f:\n",
    "        pickle.dump(label_to_data[label], f)\n",
    "\n",
    "print(\"✅ 所有类别的索引与元数据构建完成！\")\n"
   ]
  },
  {
   "cell_type": "code",
   "execution_count": 5,
   "id": "74a1e3db",
   "metadata": {},
   "outputs": [],
   "source": [
    "def search_by_label(model, query, label, top_k=5):\n",
    "    index_path = f\"faiss_index/{label}_index.bin\"\n",
    "    meta_path = f\"faiss_index/{label}_meta.pkl\"\n",
    "\n",
    "    if not os.path.exists(index_path): return\n",
    "\n",
    "    index = faiss.read_index(index_path)\n",
    "    with open(meta_path, \"rb\") as f:\n",
    "        metadata = pickle.load(f)\n",
    "\n",
    "    query_vector = model.encode([query], convert_to_numpy=True).astype(\"float32\")\n",
    "    D, I = index.search(query_vector, top_k * 2)  # 多取一些，便于后续去重\n",
    "\n",
    "    seen_questions = set()\n",
    "    result = []\n",
    "\n",
    "    for idx in I[0]:\n",
    "        if idx < 0 or idx >= len(metadata):\n",
    "            continue\n",
    "        item = metadata[idx]\n",
    "        if item[\"question\"] in seen_questions:\n",
    "            continue\n",
    "        seen_questions.add(item[\"question\"])\n",
    "        result.append(item)\n",
    "        if len(result) >= top_k:\n",
    "            break\n",
    "    \n",
    "    return result\n",
    "    # print(f\"\\n🔍 查询: {query} (类别: {label})\")\n",
    "    # for item in result:\n",
    "    #     print(f\"- Q: {item['question']}\")\n",
    "    #     print(f\"  A: {item['answer']}\")\n",
    "    #     print(f\"  Label: {item['label']}\\n\")\n"
   ]
  },
  {
   "cell_type": "code",
   "execution_count": 6,
   "id": "5427b9e4",
   "metadata": {},
   "outputs": [
    {
     "data": {
      "text/plain": [
       "[{'question': \"I've been taking warfarin for the past 3 months to prevent blood clots and I've been experiencing frequent nosebleeds. Is this a side effect of the medication?\",\n",
       "  'answer': 'Frequent nosebleeds can be a sign of excess anticoagulation. You should report this to your doctor immediately to adjust the dose.',\n",
       "  'label': 'medication-side-effect',\n",
       "  'id': '0055'},\n",
       " {'question': 'I am concerned about the potential interactions between my medications and a new supplement I started taking. I am taking azathioprine for my rheumatoid arthritis and was prescribed a probiotic that contains alfalfa.',\n",
       "  'answer': 'Some supplements like alfalfa can affect immune modulation. Discuss any new supplement with your rheumatologist or pharmacist.',\n",
       "  'label': 'medication-side-effect',\n",
       "  'id': '0063'},\n",
       " {'question': \"I've been taking paracetamol for 2 weeks, but my back pain has become worse. Could it be a side effect of the medication?\",\n",
       "  'answer': \"While paracetamol generally doesn’t worsen pain, it's possible the root cause is unrelated. You may want to re-evaluate your treatment.\",\n",
       "  'label': 'medication-side-effect',\n",
       "  'id': '0059'},\n",
       " {'question': \"I've been taking acetaminophen for years to alleviate menstrual cramps, but I'm worried it may affect my kidney function. Can it contribute to kidney damage if I take it regularly?\",\n",
       "  'answer': \"Chronic use of high-dose acetaminophen can lead to liver or kidney issues. It's wise to use the lowest effective dose and monitor regularly.\",\n",
       "  'label': 'medication-side-effect',\n",
       "  'id': '0061'},\n",
       " {'question': 'I have been taking a new medication and my skin has been breaking out terribly, especially on my face and chest. Can this be a side effect of the medication?',\n",
       "  'answer': 'Skin breakouts can indeed occur as a reaction to certain medications. It’s best to speak with your prescribing doctor or a dermatologist.',\n",
       "  'label': 'medication-side-effect',\n",
       "  'id': '0052'},\n",
       " {'question': \"I've been taking Daptomycin for my bacterial infection and I noticed I have been experiencing stomach cramps and diarrhea. Could it be a side effect of the medication?\",\n",
       "  'answer': 'Yes, antibiotics like Daptomycin can disrupt gut flora and cause GI symptoms. Let your physician know if symptoms persist.',\n",
       "  'label': 'medication-side-effect',\n",
       "  'id': '0064'},\n",
       " {'question': 'Can taking ibuprofen daily while on blood thinners increase the risk of internal bleeding?',\n",
       "  'answer': 'Yes, combining NSAIDs like ibuprofen with blood thinners can increase bleeding risk. Always consult your physician before combining medications.',\n",
       "  'label': 'medication-side-effect',\n",
       "  'id': '0054'},\n",
       " {'question': 'I have ringing in my ears after starting new antibiotics. Could this be a warning sign?',\n",
       "  'answer': 'Tinnitus can signal ototoxicity with certain antibiotics. Stop the medication and contact your provider immediately.',\n",
       "  'label': 'medication-side-effect',\n",
       "  'id': '0070'}]"
      ]
     },
     "execution_count": 6,
     "metadata": {},
     "output_type": "execute_result"
    }
   ],
   "source": [
    "search_by_label(model,\"Are vaccines safe?\", \"medication-side-effect\", top_k = 10)\n"
   ]
  }
 ],
 "metadata": {
  "kernelspec": {
   "display_name": "nlp_env",
   "language": "python",
   "name": "python3"
  },
  "language_info": {
   "codemirror_mode": {
    "name": "ipython",
    "version": 3
   },
   "file_extension": ".py",
   "mimetype": "text/x-python",
   "name": "python",
   "nbconvert_exporter": "python",
   "pygments_lexer": "ipython3",
   "version": "3.10.14"
  }
 },
 "nbformat": 4,
 "nbformat_minor": 5
}
