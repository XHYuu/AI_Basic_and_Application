{
 "cells": [
  {
   "cell_type": "code",
   "execution_count": null,
   "id": "2b1eb3a0-e677-46c2-91c6-19c52b179483",
   "metadata": {},
   "outputs": [],
   "source": [
    "######### Import the package #########\n",
    "\n",
    "######### Preprocess the data #########"
   ]
  },
  {
   "cell_type": "code",
   "execution_count": null,
   "id": "f0459eba-9e5c-4666-8407-5fb0ecf9d9fe",
   "metadata": {},
   "outputs": [],
   "source": [
    "######### Display a random face (2 pts) #########"
   ]
  },
  {
   "cell_type": "code",
   "execution_count": null,
   "id": "3e0a6bba-549a-4a7c-ac1e-5e41cbbcc40e",
   "metadata": {},
   "outputs": [],
   "source": [
    "######### Compute and display mean face (2 pts) #########"
   ]
  },
  {
   "cell_type": "code",
   "execution_count": null,
   "id": "7015e0ef-4cf3-4eda-800d-81fa46d08528",
   "metadata": {},
   "outputs": [],
   "source": [
    "######### Centralize the faces by subtracting the mean face (2 pts) #########"
   ]
  },
  {
   "cell_type": "code",
   "execution_count": null,
   "id": "a49beecd-83c7-4143-bb36-9f69f71f6627",
   "metadata": {},
   "outputs": [],
   "source": [
    "######### Calculate the eigenvalues and eigenvectors of the covariance matrix (3 pts) #########"
   ]
  },
  {
   "cell_type": "code",
   "execution_count": null,
   "id": "964de43f-9f49-422e-a3f1-eb1db2d27605",
   "metadata": {},
   "outputs": [],
   "source": [
    "######### Display first 10 eigenfaces (3 pts) #########"
   ]
  },
  {
   "cell_type": "code",
   "execution_count": null,
   "id": "d28a6bff-3380-4d16-afe6-7ab74fa402f2",
   "metadata": {},
   "outputs": [],
   "source": [
    "######### Reconstruct first face using the first two PCs (3 pts) #########"
   ]
  },
  {
   "cell_type": "code",
   "execution_count": null,
   "id": "49a8b765-a916-4f39-8732-a630b8da3f3d",
   "metadata": {},
   "outputs": [],
   "source": [
    "######### Reconstruct random face using the first 5, 10, 25, 50, 100, 200, 300, 399  PCs (3 pts) #########"
   ]
  },
  {
   "cell_type": "code",
   "execution_count": null,
   "id": "3484389e-2b47-4f94-9cda-3d8c4e9bff01",
   "metadata": {},
   "outputs": [],
   "source": [
    "######### Plot proportion of variance of all the PCs (3 pts) #########"
   ]
  }
 ],
 "metadata": {
  "kernelspec": {
   "display_name": "Python 3 (ipykernel)",
   "language": "python",
   "name": "python3"
  },
  "language_info": {
   "codemirror_mode": {
    "name": "ipython",
    "version": 3
   },
   "file_extension": ".py",
   "mimetype": "text/x-python",
   "name": "python",
   "nbconvert_exporter": "python",
   "pygments_lexer": "ipython3",
   "version": "3.8.9"
  }
 },
 "nbformat": 4,
 "nbformat_minor": 5
}
