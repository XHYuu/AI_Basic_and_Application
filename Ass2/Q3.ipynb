{
 "cells": [
  {
   "cell_type": "markdown",
   "metadata": {
    "id": "VgdHsEdji70P"
   },
   "source": [
    "# Q3: CNN for image classification"
   ]
  },
  {
   "cell_type": "markdown",
   "metadata": {
    "id": "363WTs_Ci70Q"
   },
   "source": [
    "In this assignment, you'll be coding up a convolutional neural network from scratch to classify images using PyTorch.  \n",
    "\n",
    "### Instructions\n",
    "- Install PyTorch following the instructions [here](https://pytorch.org/).\n",
    "- Install the [`torchinfo` package](https://github.com/TylerYep/torchinfo) to visualize the network architecture and the number of parameters. The maximum number of parameters you are allowed to use for your network is **100,000**. Those who violate this rule will be scored 0 points!!!\n",
    "- You are required to complete the functions defined in the code blocks following each question. Fill out sections of the code marked `\"YOUR CODE HERE\"`.\n",
    "- You're free to add any number of methods within each class.\n",
    "- You may also add any number of additional code blocks that you deem necessary."
   ]
  },
  {
   "cell_type": "markdown",
   "metadata": {
    "id": "856zy_oMi70R"
   },
   "source": [
    "## Data Preparation"
   ]
  },
  {
   "cell_type": "code",
   "execution_count": 1,
   "metadata": {
    "id": "At9bskD-i70R"
   },
   "outputs": [
    {
     "name": "stderr",
     "output_type": "stream",
     "text": [
      "/opt/anaconda3/envs/pytorch/lib/python3.9/site-packages/tqdm/auto.py:21: TqdmWarning: IProgress not found. Please update jupyter and ipywidgets. See https://ipywidgets.readthedocs.io/en/stable/user_install.html\n",
      "  from .autonotebook import tqdm as notebook_tqdm\n"
     ]
    }
   ],
   "source": [
    "# Importing the libraries\n",
    "import os\n",
    "import torch\n",
    "import torchvision\n",
    "from torchvision.utils import make_grid\n",
    "\n",
    "import numpy as np"
   ]
  },
  {
   "cell_type": "markdown",
   "metadata": {
    "id": "2WZ8Uu56i70R"
   },
   "source": [
    "In this assignment, we will use the EMNIST dataset. The EMNIST dataset is a set of handwritten character digits derived from the NIST Special Database 19 and converted to a 28x28 pixel image format and dataset structure that directly matches the MNIST dataset.\n",
    "\n",
    "There are six different splits provided in this datase: byclass, bymerge, balanced, letters, digits and mnist. Here, we will choose 'balanced' split.\n",
    "\n",
    "Further information on the dataset contents and conversion process can be found in the paper available at https://arxiv.org/abs/1702.05373v1.\n",
    "\n",
    "\n",
    "\n",
    "### Data\n",
    "\n",
    "Each image is 28 pixels in height and 28 pixels in width, for a total of 784 pixels in total. Each pixel has a single pixel-value associated with it, indicating the lightness or darkness of that pixel, with higher numbers meaning darker. This pixel-value is an integer between 0 and 255.  \n",
    "\n",
    "\n",
    "EMNIST is included in the `torchvision` library."
   ]
  },
  {
   "cell_type": "code",
   "execution_count": 2,
   "metadata": {
    "id": "HY7wrIm0i70S"
   },
   "outputs": [],
   "source": [
    "from torchvision.datasets import EMNIST\n",
    "from torchvision.transforms import Compose, ToTensor, Normalize"
   ]
  },
  {
   "cell_type": "code",
   "execution_count": 3,
   "metadata": {
    "colab": {
     "base_uri": "https://localhost:8080/"
    },
    "id": "gv8HDFyMi70S",
    "outputId": "69f14a65-bb36-47d1-8bdf-1fbb6f452c0e"
   },
   "outputs": [],
   "source": [
    "# Transform to normalize the data and convert to a tensor\n",
    "transform = Compose([ToTensor(),\n",
    "    Normalize((0.5,), (0.5,))\n",
    "    ])\n",
    "\n",
    "# Download the data\n",
    "dataset = EMNIST('MNIST_data/', download = True, train = True, split = 'balanced', transform = transform)"
   ]
  },
  {
   "cell_type": "markdown",
   "metadata": {
    "id": "RM-RKA5Gi70S"
   },
   "source": [
    "**NOTE:** You may add more operations to `Compose` if you're performing data augmentation."
   ]
  },
  {
   "cell_type": "markdown",
   "metadata": {
    "id": "gua5LC_Wi70S"
   },
   "source": [
    "## Data Exploration"
   ]
  },
  {
   "cell_type": "markdown",
   "metadata": {
    "id": "cExIemHbi70T"
   },
   "source": [
    "Let's take a look at the classes in our dataset."
   ]
  },
  {
   "cell_type": "code",
   "execution_count": 4,
   "metadata": {
    "colab": {
     "base_uri": "https://localhost:8080/"
    },
    "id": "_vaiQ6Ypi70T",
    "outputId": "42d1323d-efbe-4e05-bf0b-4440e188b1ba"
   },
   "outputs": [
    {
     "name": "stdout",
     "output_type": "stream",
     "text": [
      "['0', '1', '2', '3', '4', '5', '6', '7', '8', '9', 'A', 'B', 'C', 'D', 'E', 'F', 'G', 'H', 'I', 'J', 'K', 'L', 'M', 'N', 'O', 'P', 'Q', 'R', 'S', 'T', 'U', 'V', 'W', 'X', 'Y', 'Z', 'a', 'b', 'd', 'e', 'f', 'g', 'h', 'n', 'q', 'r', 't']\n"
     ]
    }
   ],
   "source": [
    "print(dataset.classes)"
   ]
  },
  {
   "cell_type": "code",
   "execution_count": 5,
   "metadata": {
    "id": "bPELpYEbi70T"
   },
   "outputs": [],
   "source": [
    "import matplotlib.pyplot as plt\n",
    "\n",
    "def show_example(img, label):\n",
    "    print('Label: {} ({})'.format(dataset.classes[label], label))\n",
    "    plt.imshow(img.squeeze(), cmap='Greys_r')\n",
    "    plt.axis(False)"
   ]
  },
  {
   "cell_type": "code",
   "execution_count": 6,
   "metadata": {
    "colab": {
     "base_uri": "https://localhost:8080/",
     "height": 424
    },
    "id": "Ca7xdqeIi70T",
    "outputId": "eefcdda7-9edf-427d-997e-cbafbea5614b"
   },
   "outputs": [
    {
     "name": "stdout",
     "output_type": "stream",
     "text": [
      "Label: h (42)\n"
     ]
    },
    {
     "data": {
      "image/png": "[encoded data removed]",
      "text/plain": [
       "<Figure size 640x480 with 1 Axes>"
      ]
     },
     "metadata": {},
     "output_type": "display_data"
    }
   ],
   "source": [
    "show_example(*dataset[20])"
   ]
  },
  {
   "cell_type": "code",
   "execution_count": 7,
   "metadata": {
    "colab": {
     "base_uri": "https://localhost:8080/",
     "height": 424
    },
    "id": "6Cyjp4fZi70T",
    "outputId": "3edda5a5-6093-4e1e-8d0b-1e341f49dfe2"
   },
   "outputs": [
    {
     "name": "stdout",
     "output_type": "stream",
     "text": [
      "Label: A (10)\n"
     ]
    },
    {
     "data": {
      "image/png": "[encoded data removed]",
      "text/plain": [
       "<Figure size 640x480 with 1 Axes>"
      ]
     },
     "metadata": {},
     "output_type": "display_data"
    }
   ],
   "source": [
    "show_example(*dataset[20000])"
   ]
  },
  {
   "cell_type": "markdown",
   "metadata": {
    "id": "H8PEvOwYi70U"
   },
   "source": [
    "## Question 1 (2 points)\n",
    "\n",
    "## Creating Training and Validation Datasets"
   ]
  },
  {
   "cell_type": "markdown",
   "metadata": {
    "id": "GEZ85vcyi70U"
   },
   "source": [
    "The `split_indices` function takes in the size of the entire dataset, `n`, the fraction of data to be used as validation set, `val_frac`, and the random seed and returns the indices of the data points to be added to the validation dataset.  \n",
    "\n",
    "**Choose a suitable fraction for your validation set and experiment with the seed. Remember that the better your validation set, the higher the chances that your model would do well on the test set.**"
   ]
  },
  {
   "cell_type": "code",
   "execution_count": 8,
   "metadata": {
    "id": "xG245MFFi70U"
   },
   "outputs": [],
   "source": [
    "def split_indices(n, val_frac, seed):\n",
    "    # Determine the size of the validation set\n",
    "    n_val = int(val_frac * n)\n",
    "    np.random.seed(seed)\n",
    "    # Create random permutation between 0 to n-1\n",
    "    idxs = np.random.permutation(n)\n",
    "    # Pick first n_val indices for validation set\n",
    "    return idxs[n_val:], idxs[:n_val]"
   ]
  },
  {
   "cell_type": "code",
   "execution_count": 9,
   "metadata": {
    "colab": {
     "base_uri": "https://localhost:8080/"
    },
    "id": "DkxpgMv-i70U",
    "outputId": "f811d675-5354-476f-e216-dfaff2f91cb0"
   },
   "outputs": [
    {
     "name": "stdout",
     "output_type": "stream",
     "text": [
      "#samples in training set: 56400\n",
      "#samples in validation set: 56400\n"
     ]
    }
   ],
   "source": [
    "######################\n",
    "#   YOUR CODE HERE   #\n",
    "######################\n",
    "val_frac = 0.5 ## Set the fraction for the validation set\n",
    "rand_seed = 42 ## Set the random seed\n",
    "\n",
    "train_indices, val_indices = split_indices(len(dataset), val_frac, rand_seed)\n",
    "print(\"#samples in training set: {}\".format(len(train_indices)))\n",
    "print(\"#samples in validation set: {}\".format(len(val_indices)))"
   ]
  },
  {
   "cell_type": "markdown",
   "metadata": {
    "id": "FGcltEr8i70U"
   },
   "source": [
    "Next, we make use of the built-in dataloaders in PyTorch to create iterables of our our training and validation sets. This helps in avoiding fitting the whole dataset into memory and only loads a batch of the data that we can decide.\n",
    "\n",
    "**Set the `batch_size` depending on the hardware resource (GPU/CPU RAM) you are using for the assignment.**"
   ]
  },
  {
   "cell_type": "code",
   "execution_count": 3,
   "metadata": {
    "id": "z4MgUeiWi70U"
   },
   "outputs": [],
   "source": [
    "from torch.utils.data.sampler import SubsetRandomSampler\n",
    "from torch.utils.data.dataloader import DataLoader"
   ]
  },
  {
   "cell_type": "code",
   "execution_count": 11,
   "metadata": {
    "id": "IUh3oAqai70V"
   },
   "outputs": [],
   "source": [
    "######################\n",
    "#   YOUR CODE HERE   #\n",
    "######################\n",
    "batch_size = 8 ## Set the batch size"
   ]
  },
  {
   "cell_type": "code",
   "execution_count": 12,
   "metadata": {
    "id": "D5NwKDBii70V"
   },
   "outputs": [],
   "source": [
    "# Training sampler and data loader\n",
    "train_sampler = SubsetRandomSampler(train_indices)\n",
    "train_dl = DataLoader(dataset,\n",
    "                     batch_size,\n",
    "                     sampler=train_sampler)\n",
    "\n",
    "# Validation sampler and data loader\n",
    "val_sampler = SubsetRandomSampler(val_indices)\n",
    "val_dl = DataLoader(dataset,\n",
    "                   batch_size,\n",
    "                   sampler=val_sampler)"
   ]
  },
  {
   "cell_type": "markdown",
   "metadata": {
    "id": "VqFs1r_ci70V"
   },
   "source": [
    "Plot images in a sample batch of data."
   ]
  },
  {
   "cell_type": "code",
   "execution_count": 13,
   "metadata": {
    "id": "hvhXxFNci70V"
   },
   "outputs": [],
   "source": [
    "def show_batch(dl):\n",
    "    for images, labels in dl:\n",
    "        fig, ax = plt.subplots(figsize=(10,10))\n",
    "        ax.set_xticks([]); ax.set_yticks([])\n",
    "        ax.imshow(make_grid(images, 8).permute(1, 2, 0), cmap='Greys_r')\n",
    "        break"
   ]
  },
  {
   "cell_type": "code",
   "execution_count": 14,
   "metadata": {
    "colab": {
     "base_uri": "https://localhost:8080/",
     "height": 177
    },
    "id": "VcZusYM4i70V",
    "outputId": "bc28b2c9-dc54-4acc-a0e1-ea90f0ff99c8"
   },
   "outputs": [
    {
     "name": "stderr",
     "output_type": "stream",
     "text": [
      "Clipping input data to the valid range for imshow with RGB data ([0..1] for floats or [0..255] for integers). Got range [-1.0..1.0].\n"
     ]
    },
    {
     "data": {
      "image/png": "[encoded data removed]",
      "text/plain": [
       "<Figure size 1000x1000 with 1 Axes>"
      ]
     },
     "metadata": {},
     "output_type": "display_data"
    }
   ],
   "source": [
    "show_batch(train_dl)"
   ]
  },
  {
   "cell_type": "markdown",
   "metadata": {
    "id": "DBUdcitfi70V"
   },
   "source": [
    "## Question 2 (10 points)\n",
    "\n",
    "## Building the Model"
   ]
  },
  {
   "cell_type": "markdown",
   "metadata": {
    "id": "DUuZNVGoi70V"
   },
   "source": [
    "**Create your model by defining the network architecture in the `ImageClassifierNet` class.**  \n",
    "**NOTE:** The number of parameters in your network must be $\\leq$ 100,000."
   ]
  },
  {
   "cell_type": "code",
   "execution_count": 15,
   "metadata": {
    "colab": {
     "base_uri": "https://localhost:8080/"
    },
    "id": "pZdk0NT0j3d0",
    "outputId": "1988d390-695c-4023-a2db-070b0ad69dce"
   },
   "outputs": [
    {
     "name": "stdout",
     "output_type": "stream",
     "text": [
      "Requirement already satisfied: torchinfo in /opt/anaconda3/envs/pytorch/lib/python3.9/site-packages (1.8.0)\n"
     ]
    }
   ],
   "source": [
    "! pip install torchinfo"
   ]
  },
  {
   "cell_type": "code",
   "execution_count": 4,
   "metadata": {
    "id": "98pfn3hCi70W"
   },
   "outputs": [],
   "source": [
    "# Import the libraries\n",
    "import torch.nn as nn\n",
    "import torch.nn.functional as F\n",
    "\n",
    "from torchinfo import summary\n",
    "from tqdm import tqdm"
   ]
  },
  {
   "cell_type": "code",
   "execution_count": 5,
   "metadata": {
    "id": "sIBNk7RBi70W"
   },
   "outputs": [],
   "source": [
    "class ImageClassifierNet(nn.Module):\n",
    "    def __init__(self, n_channels=1, dropout=0.5):\n",
    "        super(ImageClassifierNet, self).__init__()\n",
    "        ######################\n",
    "        #   YOUR CODE HERE   #\n",
    "        ######################\n",
    "        self.conv1 = nn.Conv2d(n_channels, 16, kernel_size=3, stride=1, padding=1)\n",
    "        self.bn1 = nn.BatchNorm2d(16)\n",
    "        self.pool1 = nn.MaxPool2d(kernel_size = 2)\n",
    "\n",
    "        self.conv2 = nn.Conv2d(16, 32, kernel_size=3, stride=1, padding=1)\n",
    "        self.bn2 = nn.BatchNorm2d(32)\n",
    "        self.pool2 = nn.MaxPool2d(kernel_size = 2)\n",
    "\n",
    "        self.conv3 = nn.Conv2d(32, 48, kernel_size=3, stride=1, padding=1)\n",
    "        self.bn3 = nn.BatchNorm2d(48)\n",
    "        self.pool3 = nn.MaxPool2d(kernel_size = 2)\n",
    "\n",
    "        self.fc1 = nn.Linear(48 * 3 * 3, 128)\n",
    "        self.dropout1 = nn.Dropout(dropout)\n",
    "        self.fc2 = nn.Linear(128, 64)\n",
    "        self.dropout2 = nn.Dropout(dropout)\n",
    "        self.fc3 = nn.Linear(64, 47)\n",
    "\n",
    "\n",
    "    def forward(self, X):\n",
    "        ######################\n",
    "        #   YOUR CODE HERE   #\n",
    "        ######################\n",
    "        x = F.relu(self.pool1(self.bn1(self.conv1(X))))\n",
    "        x = F.relu(self.pool2(self.bn2(self.conv2(x))))\n",
    "        x = F.relu(self.pool3(self.bn3(self.conv3(x))))\n",
    "        x = x.view(x.size(0), -1)\n",
    "        x = self.dropout2(self.fc2(self.dropout1(F.relu(self.fc1(x)))))\n",
    "        return self.fc3(F.relu(x))\n"
   ]
  },
  {
   "cell_type": "code",
   "execution_count": 18,
   "metadata": {
    "id": "hz2EivEti70W"
   },
   "outputs": [],
   "source": [
    "model = ImageClassifierNet()"
   ]
  },
  {
   "cell_type": "markdown",
   "metadata": {
    "id": "mT2Iorkxi70W"
   },
   "source": [
    "The following code block prints your network architecture. It also shows the total number of parameters in your network (see `Total params`).  \n",
    "\n",
    "**NOTE: The total number of parameters in your model should be <= 100,000.**"
   ]
  },
  {
   "cell_type": "code",
   "execution_count": 19,
   "metadata": {
    "colab": {
     "base_uri": "https://localhost:8080/"
    },
    "id": "9U2LIlhei70W",
    "outputId": "7e39ac06-e657-43cf-959f-b300e9abad1f"
   },
   "outputs": [
    {
     "data": {
      "text/plain": [
       "==========================================================================================\n",
       "Layer (type:depth-idx)                   Output Shape              Param #\n",
       "==========================================================================================\n",
       "ImageClassifierNet                       [8, 47]                   --\n",
       "├─Conv2d: 1-1                            [8, 16, 28, 28]           160\n",
       "├─BatchNorm2d: 1-2                       [8, 16, 28, 28]           32\n",
       "├─MaxPool2d: 1-3                         [8, 16, 14, 14]           --\n",
       "├─Conv2d: 1-4                            [8, 32, 14, 14]           4,640\n",
       "├─BatchNorm2d: 1-5                       [8, 32, 14, 14]           64\n",
       "├─MaxPool2d: 1-6                         [8, 32, 7, 7]             --\n",
       "├─Conv2d: 1-7                            [8, 48, 7, 7]             13,872\n",
       "├─BatchNorm2d: 1-8                       [8, 48, 7, 7]             96\n",
       "├─MaxPool2d: 1-9                         [8, 48, 3, 3]             --\n",
       "├─Linear: 1-10                           [8, 128]                  55,424\n",
       "├─Dropout: 1-11                          [8, 128]                  --\n",
       "├─Linear: 1-12                           [8, 64]                   8,256\n",
       "├─Dropout: 1-13                          [8, 64]                   --\n",
       "├─Linear: 1-14                           [8, 47]                   3,055\n",
       "==========================================================================================\n",
       "Total params: 85,599\n",
       "Trainable params: 85,599\n",
       "Non-trainable params: 0\n",
       "Total mult-adds (M): 14.25\n",
       "==========================================================================================\n",
       "Input size (MB): 0.03\n",
       "Forward/backward pass size (MB): 2.72\n",
       "Params size (MB): 0.34\n",
       "Estimated Total Size (MB): 3.09\n",
       "=========================================================================================="
      ]
     },
     "execution_count": 19,
     "metadata": {},
     "output_type": "execute_result"
    }
   ],
   "source": [
    "summary(model, input_size=(batch_size, 1, 28, 28))"
   ]
  },
  {
   "cell_type": "markdown",
   "metadata": {
    "id": "0F1MdnJki70W"
   },
   "source": [
    "## Enable training on a GPU"
   ]
  },
  {
   "cell_type": "markdown",
   "metadata": {
    "id": "oYC_KZk1i70W"
   },
   "source": [
    "**NOTE:** This section is necessary if you're training your model on a GPU."
   ]
  },
  {
   "cell_type": "code",
   "execution_count": 6,
   "metadata": {
    "id": "NB4hMGiii70X"
   },
   "outputs": [],
   "source": [
    "def get_default_device():\n",
    "    \"\"\"Use GPU if available, else CPU\"\"\"\n",
    "    if torch.cuda.is_available():\n",
    "        return torch.device('cuda')\n",
    "    else:\n",
    "        return torch.device('cpu')\n",
    "\n",
    "def to_device(data, device):\n",
    "    \"\"\"Move tensor(s) to chosen device\"\"\"\n",
    "    if isinstance(data, (list,tuple)):\n",
    "        return [to_device(x, device) for x in data]\n",
    "    return data.to(device, non_blocking=True)\n",
    "\n",
    "class DeviceDataLoader():\n",
    "    \"\"\"Wrap a dataloader to move data to a device\"\"\"\n",
    "    def __init__(self, dl, device):\n",
    "        self.dl = dl\n",
    "        self.device = device\n",
    "\n",
    "    def __iter__(self):\n",
    "        \"\"\"Yield a batch of data after moving it to device\"\"\"\n",
    "        for b in self.dl:\n",
    "            yield to_device(b, self.device)\n",
    "\n",
    "    def __len__(self):\n",
    "        \"\"\"Number of batches\"\"\"\n",
    "        return len(self.dl)"
   ]
  },
  {
   "cell_type": "code",
   "execution_count": 21,
   "metadata": {
    "colab": {
     "base_uri": "https://localhost:8080/"
    },
    "id": "JeQ_PbOwi70X",
    "outputId": "bcf6aac9-e1b2-4023-fddf-c5f52c3154f3"
   },
   "outputs": [
    {
     "data": {
      "text/plain": [
       "ImageClassifierNet(\n",
       "  (conv1): Conv2d(1, 16, kernel_size=(3, 3), stride=(1, 1), padding=(1, 1))\n",
       "  (bn1): BatchNorm2d(16, eps=1e-05, momentum=0.1, affine=True, track_running_stats=True)\n",
       "  (pool1): MaxPool2d(kernel_size=2, stride=2, padding=0, dilation=1, ceil_mode=False)\n",
       "  (conv2): Conv2d(16, 32, kernel_size=(3, 3), stride=(1, 1), padding=(1, 1))\n",
       "  (bn2): BatchNorm2d(32, eps=1e-05, momentum=0.1, affine=True, track_running_stats=True)\n",
       "  (pool2): MaxPool2d(kernel_size=2, stride=2, padding=0, dilation=1, ceil_mode=False)\n",
       "  (conv3): Conv2d(32, 48, kernel_size=(3, 3), stride=(1, 1), padding=(1, 1))\n",
       "  (bn3): BatchNorm2d(48, eps=1e-05, momentum=0.1, affine=True, track_running_stats=True)\n",
       "  (pool3): MaxPool2d(kernel_size=2, stride=2, padding=0, dilation=1, ceil_mode=False)\n",
       "  (fc1): Linear(in_features=432, out_features=128, bias=True)\n",
       "  (dropout1): Dropout(p=0.5, inplace=False)\n",
       "  (fc2): Linear(in_features=128, out_features=64, bias=True)\n",
       "  (dropout2): Dropout(p=0.5, inplace=False)\n",
       "  (fc3): Linear(in_features=64, out_features=47, bias=True)\n",
       ")"
      ]
     },
     "execution_count": 21,
     "metadata": {},
     "output_type": "execute_result"
    }
   ],
   "source": [
    "device = get_default_device()\n",
    "\n",
    "train_dl = DeviceDataLoader(train_dl, device)\n",
    "val_dl = DeviceDataLoader(val_dl, device)\n",
    "\n",
    "to_device(model, device)"
   ]
  },
  {
   "cell_type": "markdown",
   "metadata": {
    "id": "3g_1WdNIi70X"
   },
   "source": [
    "## Question 3 (10 points)\n",
    "\n",
    "## Train the model"
   ]
  },
  {
   "cell_type": "markdown",
   "metadata": {
    "id": "F-V17ylVi70X"
   },
   "source": [
    "**Complete the `train_model` function to train your model on a dataset. Tune your network architecture and hyperparameters on the validation set.**"
   ]
  },
  {
   "cell_type": "code",
   "execution_count": 22,
   "metadata": {
    "id": "7Vjqc3kui70X"
   },
   "outputs": [],
   "source": [
    "def train_model(n_epochs, model, train_dl, val_dl, loss_fn, opt_fn, lr):\n",
    "    \"\"\"\n",
    "    Trains the model on a dataset.\n",
    "\n",
    "    Args:\n",
    "        n_epochs: number of epochs\n",
    "        model: ImageClassifierNet object\n",
    "        train_dl: training dataloader\n",
    "        val_dl: validation dataloader\n",
    "        loss_fn: the loss function\n",
    "        opt_fn: the optimizer\n",
    "        lr: learning rate\n",
    "\n",
    "    Returns:\n",
    "        The trained model.\n",
    "        A tuple of (model, train_losses, val_losses, train_accuracies, val_accuracies)\n",
    "    \"\"\"\n",
    "    # Record these values the end of each epoch\n",
    "    train_losses, val_losses, train_accuracies, val_accuracies = [], [], [], []\n",
    "\n",
    "    ######################\n",
    "    #   YOUR CODE HERE   #\n",
    "    ######################\n",
    "    optimizer = opt_fn(model.parameters(), lr=lr)\n",
    "    for epoch in range(n_epochs):\n",
    "        model.train()\n",
    "\n",
    "        epoch_train_loss = 0\n",
    "        correct_train = 0\n",
    "        total_train = 0\n",
    "\n",
    "        for img, label in tqdm(train_dl, desc=f\"Training process in epoch {epoch}\"):\n",
    "            output = model(img)\n",
    "            loss = loss_fn(output, label)\n",
    "\n",
    "            optimizer.zero_grad()\n",
    "            loss.backward()\n",
    "            optimizer.step()\n",
    "\n",
    "            epoch_train_loss += loss.item()\n",
    "            _, predicted = torch.max(output, 1)\n",
    "            correct_train += (predicted == label).sum().item()\n",
    "            total_train += label.size(0)\n",
    "\n",
    "        train_loss = epoch_train_loss / len(train_dl)\n",
    "        train_accuracy = correct_train / total_train\n",
    "        train_losses.append(train_loss)\n",
    "        train_accuracies.append(train_accuracy)\n",
    "\n",
    "        # Validation phase\n",
    "        model.eval()\n",
    "\n",
    "        epoch_val_loss = 0\n",
    "        correct_val = 0\n",
    "        total_val = 0\n",
    "\n",
    "        if len(val_dl) == 0:\n",
    "            print(f\"Epoch {epoch+1}/{n_epochs}:\")\n",
    "            print(f\"  Train Loss: {train_loss:.4f}, Train Accuracy: {train_accuracy:.4f}\")\n",
    "            continue\n",
    "        with torch.no_grad():\n",
    "            for img, label in tqdm(val_dl, desc=f\"Testing process in epoch {epoch}\"):\n",
    "\n",
    "                output = model(img)\n",
    "                loss = loss_fn(output, label)\n",
    "\n",
    "                epoch_val_loss += loss.item()\n",
    "                _, predicted = torch.max(output, 1)\n",
    "                correct_val += (predicted == label).sum().item()\n",
    "                total_val += label.size(0)\n",
    "\n",
    "        val_loss = epoch_val_loss / len(val_dl)\n",
    "        val_accuracy = correct_val / total_val\n",
    "        val_losses.append(val_loss)\n",
    "        val_accuracies.append(val_accuracy)\n",
    "\n",
    "        print(f\"Epoch {epoch+1}/{n_epochs}:\")\n",
    "        print(f\"  Train Loss: {train_loss:.4f}, Train Accuracy: {train_accuracy:.4f}\")\n",
    "        print(f\"  Val Loss: {val_loss:.4f}, Val Accuracy: {val_accuracy:.4f}\")\n",
    "\n",
    "\n",
    "\n",
    "    return model, train_losses, val_losses, train_accuracies, val_accuracies"
   ]
  },
  {
   "cell_type": "markdown",
   "metadata": {
    "id": "jYLvHlUMi70c"
   },
   "source": [
    "**Set the maximum number of training epochs, the loss function, the optimizer, and the learning rate.**"
   ]
  },
  {
   "cell_type": "code",
   "execution_count": 23,
   "metadata": {
    "id": "Z_yrHfUli70d"
   },
   "outputs": [],
   "source": [
    "######################\n",
    "#   YOUR CODE HERE   #\n",
    "######################\n",
    "num_epochs = 30  # Max number of training epochs\n",
    "loss_fn = torch.nn.CrossEntropyLoss() # Define the loss function\n",
    "opt_fn = torch.optim.Adam # Select an optimizer\n",
    "lr = 0.001 # Set the learning rate"
   ]
  },
  {
   "cell_type": "code",
   "execution_count": 24,
   "metadata": {
    "colab": {
     "base_uri": "https://localhost:8080/"
    },
    "id": "38VdqbxIi70d",
    "outputId": "e3fe063b-4015-49e1-ed51-804c1fdd6fc3"
   },
   "outputs": [
    {
     "name": "stderr",
     "output_type": "stream",
     "text": [
      "Training process in epoch 0: 100%|█████████████████████████████████████████████████████████████████████████| 7050/7050 [00:46<00:00, 150.85it/s]\n",
      "Testing process in epoch 0: 100%|██████████████████████████████████████████████████████████████████████████| 7050/7050 [00:20<00:00, 349.56it/s]\n"
     ]
    },
    {
     "name": "stdout",
     "output_type": "stream",
     "text": [
      "Epoch 1/30:\n",
      "  Train Loss: 2.1261, Train Accuracy: 0.3491\n",
      "  Val Loss: 0.8328, Val Accuracy: 0.7359\n"
     ]
    },
    {
     "name": "stderr",
     "output_type": "stream",
     "text": [
      "Training process in epoch 1: 100%|█████████████████████████████████████████████████████████████████████████| 7050/7050 [00:48<00:00, 144.55it/s]\n",
      "Testing process in epoch 1: 100%|██████████████████████████████████████████████████████████████████████████| 7050/7050 [00:20<00:00, 349.76it/s]\n"
     ]
    },
    {
     "name": "stdout",
     "output_type": "stream",
     "text": [
      "Epoch 2/30:\n",
      "  Train Loss: 1.4038, Train Accuracy: 0.5322\n",
      "  Val Loss: 0.6617, Val Accuracy: 0.7912\n"
     ]
    },
    {
     "name": "stderr",
     "output_type": "stream",
     "text": [
      "Training process in epoch 2: 100%|█████████████████████████████████████████████████████████████████████████| 7050/7050 [00:45<00:00, 153.65it/s]\n",
      "Testing process in epoch 2: 100%|██████████████████████████████████████████████████████████████████████████| 7050/7050 [00:19<00:00, 360.56it/s]\n"
     ]
    },
    {
     "name": "stdout",
     "output_type": "stream",
     "text": [
      "Epoch 3/30:\n",
      "  Train Loss: 1.1523, Train Accuracy: 0.6135\n",
      "  Val Loss: 0.5647, Val Accuracy: 0.7958\n"
     ]
    },
    {
     "name": "stderr",
     "output_type": "stream",
     "text": [
      "Training process in epoch 3: 100%|█████████████████████████████████████████████████████████████████████████| 7050/7050 [00:49<00:00, 142.04it/s]\n",
      "Testing process in epoch 3: 100%|██████████████████████████████████████████████████████████████████████████| 7050/7050 [00:20<00:00, 348.16it/s]\n"
     ]
    },
    {
     "name": "stdout",
     "output_type": "stream",
     "text": [
      "Epoch 4/30:\n",
      "  Train Loss: 1.0435, Train Accuracy: 0.6523\n",
      "  Val Loss: 0.5311, Val Accuracy: 0.8226\n"
     ]
    },
    {
     "name": "stderr",
     "output_type": "stream",
     "text": [
      "Training process in epoch 4: 100%|█████████████████████████████████████████████████████████████████████████| 7050/7050 [00:47<00:00, 149.71it/s]\n",
      "Testing process in epoch 4: 100%|██████████████████████████████████████████████████████████████████████████| 7050/7050 [00:19<00:00, 359.70it/s]\n"
     ]
    },
    {
     "name": "stdout",
     "output_type": "stream",
     "text": [
      "Epoch 5/30:\n",
      "  Train Loss: 0.9804, Train Accuracy: 0.6711\n",
      "  Val Loss: 0.4988, Val Accuracy: 0.8291\n"
     ]
    },
    {
     "name": "stderr",
     "output_type": "stream",
     "text": [
      "Training process in epoch 5: 100%|█████████████████████████████████████████████████████████████████████████| 7050/7050 [00:45<00:00, 153.95it/s]\n",
      "Testing process in epoch 5: 100%|██████████████████████████████████████████████████████████████████████████| 7050/7050 [00:19<00:00, 363.83it/s]\n"
     ]
    },
    {
     "name": "stdout",
     "output_type": "stream",
     "text": [
      "Epoch 6/30:\n",
      "  Train Loss: 0.9248, Train Accuracy: 0.6918\n",
      "  Val Loss: 0.4956, Val Accuracy: 0.8237\n"
     ]
    },
    {
     "name": "stderr",
     "output_type": "stream",
     "text": [
      "Training process in epoch 6: 100%|█████████████████████████████████████████████████████████████████████████| 7050/7050 [00:47<00:00, 149.90it/s]\n",
      "Testing process in epoch 6: 100%|██████████████████████████████████████████████████████████████████████████| 7050/7050 [00:19<00:00, 359.47it/s]\n"
     ]
    },
    {
     "name": "stdout",
     "output_type": "stream",
     "text": [
      "Epoch 7/30:\n",
      "  Train Loss: 0.8769, Train Accuracy: 0.7044\n",
      "  Val Loss: 0.5040, Val Accuracy: 0.8237\n"
     ]
    },
    {
     "name": "stderr",
     "output_type": "stream",
     "text": [
      "Training process in epoch 7: 100%|█████████████████████████████████████████████████████████████████████████| 7050/7050 [00:48<00:00, 144.26it/s]\n",
      "Testing process in epoch 7: 100%|██████████████████████████████████████████████████████████████████████████| 7050/7050 [00:20<00:00, 347.17it/s]\n"
     ]
    },
    {
     "name": "stdout",
     "output_type": "stream",
     "text": [
      "Epoch 8/30:\n",
      "  Train Loss: 0.8358, Train Accuracy: 0.7164\n",
      "  Val Loss: 0.4669, Val Accuracy: 0.8387\n"
     ]
    },
    {
     "name": "stderr",
     "output_type": "stream",
     "text": [
      "Training process in epoch 8: 100%|█████████████████████████████████████████████████████████████████████████| 7050/7050 [00:46<00:00, 152.90it/s]\n",
      "Testing process in epoch 8: 100%|██████████████████████████████████████████████████████████████████████████| 7050/7050 [00:19<00:00, 362.55it/s]\n"
     ]
    },
    {
     "name": "stdout",
     "output_type": "stream",
     "text": [
      "Epoch 9/30:\n",
      "  Train Loss: 0.8133, Train Accuracy: 0.7284\n",
      "  Val Loss: 0.4579, Val Accuracy: 0.8462\n"
     ]
    },
    {
     "name": "stderr",
     "output_type": "stream",
     "text": [
      "Training process in epoch 9: 100%|█████████████████████████████████████████████████████████████████████████| 7050/7050 [00:50<00:00, 138.70it/s]\n",
      "Testing process in epoch 9: 100%|██████████████████████████████████████████████████████████████████████████| 7050/7050 [00:19<00:00, 360.19it/s]\n"
     ]
    },
    {
     "name": "stdout",
     "output_type": "stream",
     "text": [
      "Epoch 10/30:\n",
      "  Train Loss: 0.7858, Train Accuracy: 0.7356\n",
      "  Val Loss: 0.4604, Val Accuracy: 0.8438\n"
     ]
    },
    {
     "name": "stderr",
     "output_type": "stream",
     "text": [
      "Training process in epoch 10: 100%|████████████████████████████████████████████████████████████████████████| 7050/7050 [00:49<00:00, 143.35it/s]\n",
      "Testing process in epoch 10: 100%|█████████████████████████████████████████████████████████████████████████| 7050/7050 [00:19<00:00, 358.14it/s]\n"
     ]
    },
    {
     "name": "stdout",
     "output_type": "stream",
     "text": [
      "Epoch 11/30:\n",
      "  Train Loss: 0.7641, Train Accuracy: 0.7438\n",
      "  Val Loss: 0.4676, Val Accuracy: 0.8462\n"
     ]
    },
    {
     "name": "stderr",
     "output_type": "stream",
     "text": [
      "Training process in epoch 11: 100%|████████████████████████████████████████████████████████████████████████| 7050/7050 [00:47<00:00, 147.07it/s]\n",
      "Testing process in epoch 11: 100%|█████████████████████████████████████████████████████████████████████████| 7050/7050 [00:19<00:00, 360.47it/s]\n"
     ]
    },
    {
     "name": "stdout",
     "output_type": "stream",
     "text": [
      "Epoch 12/30:\n",
      "  Train Loss: 0.7499, Train Accuracy: 0.7491\n",
      "  Val Loss: 0.4526, Val Accuracy: 0.8505\n"
     ]
    },
    {
     "name": "stderr",
     "output_type": "stream",
     "text": [
      "Training process in epoch 12: 100%|████████████████████████████████████████████████████████████████████████| 7050/7050 [00:48<00:00, 144.95it/s]\n",
      "Testing process in epoch 12: 100%|█████████████████████████████████████████████████████████████████████████| 7050/7050 [00:19<00:00, 366.87it/s]\n"
     ]
    },
    {
     "name": "stdout",
     "output_type": "stream",
     "text": [
      "Epoch 13/30:\n",
      "  Train Loss: 0.7318, Train Accuracy: 0.7556\n",
      "  Val Loss: 0.4686, Val Accuracy: 0.8408\n"
     ]
    },
    {
     "name": "stderr",
     "output_type": "stream",
     "text": [
      "Training process in epoch 13: 100%|████████████████████████████████████████████████████████████████████████| 7050/7050 [00:49<00:00, 141.32it/s]\n",
      "Testing process in epoch 13: 100%|█████████████████████████████████████████████████████████████████████████| 7050/7050 [00:19<00:00, 360.27it/s]\n"
     ]
    },
    {
     "name": "stdout",
     "output_type": "stream",
     "text": [
      "Epoch 14/30:\n",
      "  Train Loss: 0.7355, Train Accuracy: 0.7514\n",
      "  Val Loss: 0.4484, Val Accuracy: 0.8507\n"
     ]
    },
    {
     "name": "stderr",
     "output_type": "stream",
     "text": [
      "Training process in epoch 14: 100%|████████████████████████████████████████████████████████████████████████| 7050/7050 [00:50<00:00, 139.63it/s]\n",
      "Testing process in epoch 14: 100%|█████████████████████████████████████████████████████████████████████████| 7050/7050 [00:20<00:00, 349.98it/s]\n"
     ]
    },
    {
     "name": "stdout",
     "output_type": "stream",
     "text": [
      "Epoch 15/30:\n",
      "  Train Loss: 0.7148, Train Accuracy: 0.7594\n",
      "  Val Loss: 0.4502, Val Accuracy: 0.8481\n"
     ]
    },
    {
     "name": "stderr",
     "output_type": "stream",
     "text": [
      "Training process in epoch 15: 100%|████████████████████████████████████████████████████████████████████████| 7050/7050 [00:50<00:00, 140.40it/s]\n",
      "Testing process in epoch 15: 100%|█████████████████████████████████████████████████████████████████████████| 7050/7050 [00:19<00:00, 357.72it/s]\n"
     ]
    },
    {
     "name": "stdout",
     "output_type": "stream",
     "text": [
      "Epoch 16/30:\n",
      "  Train Loss: 0.7058, Train Accuracy: 0.7610\n",
      "  Val Loss: 0.4664, Val Accuracy: 0.8482\n"
     ]
    },
    {
     "name": "stderr",
     "output_type": "stream",
     "text": [
      "Training process in epoch 16: 100%|████████████████████████████████████████████████████████████████████████| 7050/7050 [00:49<00:00, 141.85it/s]\n",
      "Testing process in epoch 16: 100%|█████████████████████████████████████████████████████████████████████████| 7050/7050 [00:19<00:00, 359.70it/s]\n"
     ]
    },
    {
     "name": "stdout",
     "output_type": "stream",
     "text": [
      "Epoch 17/30:\n",
      "  Train Loss: 0.7040, Train Accuracy: 0.7612\n",
      "  Val Loss: 0.4543, Val Accuracy: 0.8534\n"
     ]
    },
    {
     "name": "stderr",
     "output_type": "stream",
     "text": [
      "Training process in epoch 17: 100%|████████████████████████████████████████████████████████████████████████| 7050/7050 [00:49<00:00, 141.73it/s]\n",
      "Testing process in epoch 17: 100%|█████████████████████████████████████████████████████████████████████████| 7050/7050 [00:19<00:00, 356.05it/s]\n"
     ]
    },
    {
     "name": "stdout",
     "output_type": "stream",
     "text": [
      "Epoch 18/30:\n",
      "  Train Loss: 0.6996, Train Accuracy: 0.7640\n",
      "  Val Loss: 0.4730, Val Accuracy: 0.8456\n"
     ]
    },
    {
     "name": "stderr",
     "output_type": "stream",
     "text": [
      "Training process in epoch 18: 100%|████████████████████████████████████████████████████████████████████████| 7050/7050 [00:49<00:00, 141.46it/s]\n",
      "Testing process in epoch 18: 100%|█████████████████████████████████████████████████████████████████████████| 7050/7050 [00:19<00:00, 356.24it/s]\n"
     ]
    },
    {
     "name": "stdout",
     "output_type": "stream",
     "text": [
      "Epoch 19/30:\n",
      "  Train Loss: 0.6878, Train Accuracy: 0.7680\n",
      "  Val Loss: 0.4632, Val Accuracy: 0.8499\n"
     ]
    },
    {
     "name": "stderr",
     "output_type": "stream",
     "text": [
      "Training process in epoch 19: 100%|████████████████████████████████████████████████████████████████████████| 7050/7050 [00:55<00:00, 127.95it/s]\n",
      "Testing process in epoch 19: 100%|█████████████████████████████████████████████████████████████████████████| 7050/7050 [00:22<00:00, 309.88it/s]\n"
     ]
    },
    {
     "name": "stdout",
     "output_type": "stream",
     "text": [
      "Epoch 20/30:\n",
      "  Train Loss: 0.6761, Train Accuracy: 0.7697\n",
      "  Val Loss: 0.4545, Val Accuracy: 0.8522\n"
     ]
    },
    {
     "name": "stderr",
     "output_type": "stream",
     "text": [
      "Training process in epoch 20: 100%|████████████████████████████████████████████████████████████████████████| 7050/7050 [00:54<00:00, 128.88it/s]\n",
      "Testing process in epoch 20: 100%|█████████████████████████████████████████████████████████████████████████| 7050/7050 [00:25<00:00, 276.05it/s]\n"
     ]
    },
    {
     "name": "stdout",
     "output_type": "stream",
     "text": [
      "Epoch 21/30:\n",
      "  Train Loss: 0.6724, Train Accuracy: 0.7730\n",
      "  Val Loss: 0.4636, Val Accuracy: 0.8495\n"
     ]
    },
    {
     "name": "stderr",
     "output_type": "stream",
     "text": [
      "Training process in epoch 21: 100%|████████████████████████████████████████████████████████████████████████| 7050/7050 [00:59<00:00, 118.81it/s]\n",
      "Testing process in epoch 21: 100%|█████████████████████████████████████████████████████████████████████████| 7050/7050 [00:20<00:00, 349.18it/s]\n"
     ]
    },
    {
     "name": "stdout",
     "output_type": "stream",
     "text": [
      "Epoch 22/30:\n",
      "  Train Loss: 0.6720, Train Accuracy: 0.7737\n",
      "  Val Loss: 0.4702, Val Accuracy: 0.8489\n"
     ]
    },
    {
     "name": "stderr",
     "output_type": "stream",
     "text": [
      "Training process in epoch 22: 100%|████████████████████████████████████████████████████████████████████████| 7050/7050 [00:48<00:00, 146.57it/s]\n",
      "Testing process in epoch 22: 100%|█████████████████████████████████████████████████████████████████████████| 7050/7050 [00:19<00:00, 361.95it/s]\n"
     ]
    },
    {
     "name": "stdout",
     "output_type": "stream",
     "text": [
      "Epoch 23/30:\n",
      "  Train Loss: 0.6639, Train Accuracy: 0.7726\n",
      "  Val Loss: 0.4587, Val Accuracy: 0.8527\n"
     ]
    },
    {
     "name": "stderr",
     "output_type": "stream",
     "text": [
      "Training process in epoch 23: 100%|████████████████████████████████████████████████████████████████████████| 7050/7050 [00:49<00:00, 141.59it/s]\n",
      "Testing process in epoch 23: 100%|█████████████████████████████████████████████████████████████████████████| 7050/7050 [00:19<00:00, 353.55it/s]\n"
     ]
    },
    {
     "name": "stdout",
     "output_type": "stream",
     "text": [
      "Epoch 24/30:\n",
      "  Train Loss: 0.6550, Train Accuracy: 0.7765\n",
      "  Val Loss: 0.4658, Val Accuracy: 0.8466\n"
     ]
    },
    {
     "name": "stderr",
     "output_type": "stream",
     "text": [
      "Training process in epoch 24: 100%|████████████████████████████████████████████████████████████████████████| 7050/7050 [00:50<00:00, 140.04it/s]\n",
      "Testing process in epoch 24: 100%|█████████████████████████████████████████████████████████████████████████| 7050/7050 [00:19<00:00, 361.60it/s]\n"
     ]
    },
    {
     "name": "stdout",
     "output_type": "stream",
     "text": [
      "Epoch 25/30:\n",
      "  Train Loss: 0.6510, Train Accuracy: 0.7785\n",
      "  Val Loss: 0.4516, Val Accuracy: 0.8563\n"
     ]
    },
    {
     "name": "stderr",
     "output_type": "stream",
     "text": [
      "Training process in epoch 25: 100%|████████████████████████████████████████████████████████████████████████| 7050/7050 [00:50<00:00, 138.55it/s]\n",
      "Testing process in epoch 25: 100%|█████████████████████████████████████████████████████████████████████████| 7050/7050 [00:19<00:00, 359.44it/s]\n"
     ]
    },
    {
     "name": "stdout",
     "output_type": "stream",
     "text": [
      "Epoch 26/30:\n",
      "  Train Loss: 0.6423, Train Accuracy: 0.7777\n",
      "  Val Loss: 0.4726, Val Accuracy: 0.8565\n"
     ]
    },
    {
     "name": "stderr",
     "output_type": "stream",
     "text": [
      "Training process in epoch 26: 100%|████████████████████████████████████████████████████████████████████████| 7050/7050 [00:49<00:00, 142.42it/s]\n",
      "Testing process in epoch 26: 100%|█████████████████████████████████████████████████████████████████████████| 7050/7050 [00:19<00:00, 358.86it/s]\n"
     ]
    },
    {
     "name": "stdout",
     "output_type": "stream",
     "text": [
      "Epoch 27/30:\n",
      "  Train Loss: 0.6437, Train Accuracy: 0.7807\n",
      "  Val Loss: 0.4648, Val Accuracy: 0.8542\n"
     ]
    },
    {
     "name": "stderr",
     "output_type": "stream",
     "text": [
      "Training process in epoch 27: 100%|████████████████████████████████████████████████████████████████████████| 7050/7050 [00:48<00:00, 145.89it/s]\n",
      "Testing process in epoch 27: 100%|█████████████████████████████████████████████████████████████████████████| 7050/7050 [00:19<00:00, 360.71it/s]\n"
     ]
    },
    {
     "name": "stdout",
     "output_type": "stream",
     "text": [
      "Epoch 28/30:\n",
      "  Train Loss: 0.6337, Train Accuracy: 0.7826\n",
      "  Val Loss: 0.4663, Val Accuracy: 0.8459\n"
     ]
    },
    {
     "name": "stderr",
     "output_type": "stream",
     "text": [
      "Training process in epoch 28: 100%|████████████████████████████████████████████████████████████████████████| 7050/7050 [00:46<00:00, 150.28it/s]\n",
      "Testing process in epoch 28: 100%|█████████████████████████████████████████████████████████████████████████| 7050/7050 [00:19<00:00, 363.85it/s]\n"
     ]
    },
    {
     "name": "stdout",
     "output_type": "stream",
     "text": [
      "Epoch 29/30:\n",
      "  Train Loss: 0.6339, Train Accuracy: 0.7844\n",
      "  Val Loss: 0.4799, Val Accuracy: 0.8537\n"
     ]
    },
    {
     "name": "stderr",
     "output_type": "stream",
     "text": [
      "Training process in epoch 29: 100%|████████████████████████████████████████████████████████████████████████| 7050/7050 [00:51<00:00, 137.53it/s]\n",
      "Testing process in epoch 29: 100%|█████████████████████████████████████████████████████████████████████████| 7050/7050 [00:24<00:00, 287.68it/s]"
     ]
    },
    {
     "name": "stdout",
     "output_type": "stream",
     "text": [
      "Epoch 30/30:\n",
      "  Train Loss: 0.6257, Train Accuracy: 0.7857\n",
      "  Val Loss: 0.4747, Val Accuracy: 0.8539\n"
     ]
    },
    {
     "name": "stderr",
     "output_type": "stream",
     "text": [
      "\n"
     ]
    }
   ],
   "source": [
    "history = train_model(num_epochs, model, train_dl, val_dl, loss_fn, opt_fn, lr)\n",
    "model, train_losses, val_losses, train_accuracies, val_accuracies = history"
   ]
  },
  {
   "cell_type": "markdown",
   "metadata": {
    "id": "nGFl-V5si70d"
   },
   "source": [
    "## Plot loss and accuracy"
   ]
  },
  {
   "cell_type": "code",
   "execution_count": 25,
   "metadata": {
    "id": "cfgN7MuWi70d"
   },
   "outputs": [],
   "source": [
    "def plot_accuracy(train_accuracies, val_accuracies):\n",
    "    \"\"\"Plot accuracies\"\"\"\n",
    "    plt.plot(train_accuracies, \"-x\")\n",
    "    plt.plot(val_accuracies, \"-o\")\n",
    "    plt.xlabel(\"Epoch\")\n",
    "    plt.ylabel(\"Accuracy\")\n",
    "    plt.legend([\"Training\", \"Validation\"])\n",
    "    plt.title(\"Accuracy vs. No. of epochs\")"
   ]
  },
  {
   "cell_type": "code",
   "execution_count": 26,
   "metadata": {
    "colab": {
     "base_uri": "https://localhost:8080/",
     "height": 472
    },
    "id": "xvc93lFPi70d",
    "outputId": "ba31e13b-2270-4e91-ed09-f9262d8c1317"
   },
   "outputs": [
    {
     "data": {
      "image/png": "[encoded data removed]",
      "text/plain": [
       "<Figure size 640x480 with 1 Axes>"
      ]
     },
     "metadata": {},
     "output_type": "display_data"
    }
   ],
   "source": [
    "plot_accuracy(train_accuracies, val_accuracies)"
   ]
  },
  {
   "cell_type": "code",
   "execution_count": 27,
   "metadata": {
    "id": "mlC3f9Qei70d"
   },
   "outputs": [],
   "source": [
    "def plot_losses(train_losses, val_losses):\n",
    "    \"\"\"Plot losses\"\"\"\n",
    "    plt.plot(train_losses, \"-x\")\n",
    "    plt.plot(val_losses, \"-o\")\n",
    "    plt.xlabel(\"Epoch\")\n",
    "    plt.ylabel(\"Loss\")\n",
    "    plt.legend([\"Training\", \"Validation\"])\n",
    "    plt.title(\"Loss vs. No. of Epochs\")"
   ]
  },
  {
   "cell_type": "code",
   "execution_count": 28,
   "metadata": {
    "colab": {
     "base_uri": "https://localhost:8080/",
     "height": 472
    },
    "id": "0nVYFALTi70e",
    "outputId": "e3528b3d-5178-470a-ad74-f15ecea31fa3"
   },
   "outputs": [
    {
     "data": {
      "image/png": "[encoded data removed]",
      "text/plain": [
       "<Figure size 640x480 with 1 Axes>"
      ]
     },
     "metadata": {},
     "output_type": "display_data"
    }
   ],
   "source": [
    "plot_losses(train_losses, val_losses)"
   ]
  },
  {
   "cell_type": "markdown",
   "metadata": {
    "id": "2TrI5hlxi70e"
   },
   "source": [
    "## Train a model on the entire dataset"
   ]
  },
  {
   "cell_type": "code",
   "execution_count": 29,
   "metadata": {
    "id": "dE5CRw8Ei70e"
   },
   "outputs": [],
   "source": [
    "indices, _ = split_indices(len(dataset), 0, rand_seed)\n",
    "\n",
    "sampler = SubsetRandomSampler(indices)\n",
    "dl = DataLoader(dataset, batch_size, sampler=sampler)\n",
    "dl = DeviceDataLoader(dl, device)"
   ]
  },
  {
   "cell_type": "markdown",
   "metadata": {
    "id": "CJa76rJmi70e"
   },
   "source": [
    "**Set the maximum number of training epochs and the learning rate for finetuning your model.**"
   ]
  },
  {
   "cell_type": "code",
   "execution_count": 30,
   "metadata": {
    "id": "-mQrN1eRi70e"
   },
   "outputs": [],
   "source": [
    "######################\n",
    "#   YOUR CODE HERE   #\n",
    "######################\n",
    "num_epochs = 20 # Max number of training epochs\n",
    "lr = 0.001 # Set the learning rate"
   ]
  },
  {
   "cell_type": "code",
   "execution_count": 31,
   "metadata": {
    "colab": {
     "base_uri": "https://localhost:8080/"
    },
    "id": "GvXHV0oEi70e",
    "outputId": "af99ebff-d6b8-445f-ff59-7ae6589617fd"
   },
   "outputs": [
    {
     "name": "stderr",
     "output_type": "stream",
     "text": [
      "Training process in epoch 0: 100%|███████████████████████████████████████████████████████████████████████| 14100/14100 [01:30<00:00, 155.73it/s]\n"
     ]
    },
    {
     "name": "stdout",
     "output_type": "stream",
     "text": [
      "Epoch 1/20:\n",
      "  Train Loss: 0.7172, Train Accuracy: 0.7711\n"
     ]
    },
    {
     "name": "stderr",
     "output_type": "stream",
     "text": [
      "Training process in epoch 1: 100%|███████████████████████████████████████████████████████████████████████| 14100/14100 [01:28<00:00, 159.42it/s]\n"
     ]
    },
    {
     "name": "stdout",
     "output_type": "stream",
     "text": [
      "Epoch 2/20:\n",
      "  Train Loss: 0.6911, Train Accuracy: 0.7747\n"
     ]
    },
    {
     "name": "stderr",
     "output_type": "stream",
     "text": [
      "Training process in epoch 2: 100%|███████████████████████████████████████████████████████████████████████| 14100/14100 [01:37<00:00, 145.22it/s]\n"
     ]
    },
    {
     "name": "stdout",
     "output_type": "stream",
     "text": [
      "Epoch 3/20:\n",
      "  Train Loss: 0.6775, Train Accuracy: 0.7783\n"
     ]
    },
    {
     "name": "stderr",
     "output_type": "stream",
     "text": [
      "Training process in epoch 3: 100%|███████████████████████████████████████████████████████████████████████| 14100/14100 [01:39<00:00, 141.21it/s]\n"
     ]
    },
    {
     "name": "stdout",
     "output_type": "stream",
     "text": [
      "Epoch 4/20:\n",
      "  Train Loss: 0.6704, Train Accuracy: 0.7817\n"
     ]
    },
    {
     "name": "stderr",
     "output_type": "stream",
     "text": [
      "Training process in epoch 4: 100%|███████████████████████████████████████████████████████████████████████| 14100/14100 [01:38<00:00, 143.41it/s]\n"
     ]
    },
    {
     "name": "stdout",
     "output_type": "stream",
     "text": [
      "Epoch 5/20:\n",
      "  Train Loss: 0.6654, Train Accuracy: 0.7822\n"
     ]
    },
    {
     "name": "stderr",
     "output_type": "stream",
     "text": [
      "Training process in epoch 5: 100%|███████████████████████████████████████████████████████████████████████| 14100/14100 [01:29<00:00, 156.90it/s]\n"
     ]
    },
    {
     "name": "stdout",
     "output_type": "stream",
     "text": [
      "Epoch 6/20:\n",
      "  Train Loss: 0.6625, Train Accuracy: 0.7835\n"
     ]
    },
    {
     "name": "stderr",
     "output_type": "stream",
     "text": [
      "Training process in epoch 6: 100%|███████████████████████████████████████████████████████████████████████| 14100/14100 [01:39<00:00, 141.09it/s]\n"
     ]
    },
    {
     "name": "stdout",
     "output_type": "stream",
     "text": [
      "Epoch 7/20:\n",
      "  Train Loss: 0.6555, Train Accuracy: 0.7842\n"
     ]
    },
    {
     "name": "stderr",
     "output_type": "stream",
     "text": [
      "Training process in epoch 7: 100%|███████████████████████████████████████████████████████████████████████| 14100/14100 [01:33<00:00, 150.12it/s]\n"
     ]
    },
    {
     "name": "stdout",
     "output_type": "stream",
     "text": [
      "Epoch 8/20:\n",
      "  Train Loss: 0.6454, Train Accuracy: 0.7888\n"
     ]
    },
    {
     "name": "stderr",
     "output_type": "stream",
     "text": [
      "Training process in epoch 8: 100%|███████████████████████████████████████████████████████████████████████| 14100/14100 [01:34<00:00, 149.12it/s]\n"
     ]
    },
    {
     "name": "stdout",
     "output_type": "stream",
     "text": [
      "Epoch 9/20:\n",
      "  Train Loss: 0.6479, Train Accuracy: 0.7883\n"
     ]
    },
    {
     "name": "stderr",
     "output_type": "stream",
     "text": [
      "Training process in epoch 9: 100%|███████████████████████████████████████████████████████████████████████| 14100/14100 [01:36<00:00, 145.56it/s]\n"
     ]
    },
    {
     "name": "stdout",
     "output_type": "stream",
     "text": [
      "Epoch 10/20:\n",
      "  Train Loss: 0.6429, Train Accuracy: 0.7907\n"
     ]
    },
    {
     "name": "stderr",
     "output_type": "stream",
     "text": [
      "Training process in epoch 10: 100%|██████████████████████████████████████████████████████████████████████| 14100/14100 [01:35<00:00, 148.14it/s]\n"
     ]
    },
    {
     "name": "stdout",
     "output_type": "stream",
     "text": [
      "Epoch 11/20:\n",
      "  Train Loss: 0.6364, Train Accuracy: 0.7902\n"
     ]
    },
    {
     "name": "stderr",
     "output_type": "stream",
     "text": [
      "Training process in epoch 11: 100%|██████████████████████████████████████████████████████████████████████| 14100/14100 [01:53<00:00, 123.84it/s]\n"
     ]
    },
    {
     "name": "stdout",
     "output_type": "stream",
     "text": [
      "Epoch 12/20:\n",
      "  Train Loss: 0.6386, Train Accuracy: 0.7912\n"
     ]
    },
    {
     "name": "stderr",
     "output_type": "stream",
     "text": [
      "Training process in epoch 12: 100%|██████████████████████████████████████████████████████████████████████| 14100/14100 [01:44<00:00, 134.80it/s]\n"
     ]
    },
    {
     "name": "stdout",
     "output_type": "stream",
     "text": [
      "Epoch 13/20:\n",
      "  Train Loss: 0.6361, Train Accuracy: 0.7914\n"
     ]
    },
    {
     "name": "stderr",
     "output_type": "stream",
     "text": [
      "Training process in epoch 13: 100%|██████████████████████████████████████████████████████████████████████| 14100/14100 [01:36<00:00, 146.18it/s]\n"
     ]
    },
    {
     "name": "stdout",
     "output_type": "stream",
     "text": [
      "Epoch 14/20:\n",
      "  Train Loss: 0.6327, Train Accuracy: 0.7925\n"
     ]
    },
    {
     "name": "stderr",
     "output_type": "stream",
     "text": [
      "Training process in epoch 14: 100%|██████████████████████████████████████████████████████████████████████| 14100/14100 [01:44<00:00, 135.31it/s]\n"
     ]
    },
    {
     "name": "stdout",
     "output_type": "stream",
     "text": [
      "Epoch 15/20:\n",
      "  Train Loss: 0.6312, Train Accuracy: 0.7923\n"
     ]
    },
    {
     "name": "stderr",
     "output_type": "stream",
     "text": [
      "Training process in epoch 15: 100%|██████████████████████████████████████████████████████████████████████| 14100/14100 [01:48<00:00, 130.48it/s]\n"
     ]
    },
    {
     "name": "stdout",
     "output_type": "stream",
     "text": [
      "Epoch 16/20:\n",
      "  Train Loss: 0.6254, Train Accuracy: 0.7941\n"
     ]
    },
    {
     "name": "stderr",
     "output_type": "stream",
     "text": [
      "Training process in epoch 16: 100%|██████████████████████████████████████████████████████████████████████| 14100/14100 [01:40<00:00, 141.00it/s]\n"
     ]
    },
    {
     "name": "stdout",
     "output_type": "stream",
     "text": [
      "Epoch 17/20:\n",
      "  Train Loss: 0.6252, Train Accuracy: 0.7940\n"
     ]
    },
    {
     "name": "stderr",
     "output_type": "stream",
     "text": [
      "Training process in epoch 17: 100%|██████████████████████████████████████████████████████████████████████| 14100/14100 [01:38<00:00, 142.59it/s]\n"
     ]
    },
    {
     "name": "stdout",
     "output_type": "stream",
     "text": [
      "Epoch 18/20:\n",
      "  Train Loss: 0.6290, Train Accuracy: 0.7940\n"
     ]
    },
    {
     "name": "stderr",
     "output_type": "stream",
     "text": [
      "Training process in epoch 18: 100%|██████████████████████████████████████████████████████████████████████| 14100/14100 [01:30<00:00, 155.75it/s]\n"
     ]
    },
    {
     "name": "stdout",
     "output_type": "stream",
     "text": [
      "Epoch 19/20:\n",
      "  Train Loss: 0.6294, Train Accuracy: 0.7930\n"
     ]
    },
    {
     "name": "stderr",
     "output_type": "stream",
     "text": [
      "Training process in epoch 19: 100%|██████████████████████████████████████████████████████████████████████| 14100/14100 [01:29<00:00, 157.13it/s]"
     ]
    },
    {
     "name": "stdout",
     "output_type": "stream",
     "text": [
      "Epoch 20/20:\n",
      "  Train Loss: 0.6261, Train Accuracy: 0.7942\n"
     ]
    },
    {
     "name": "stderr",
     "output_type": "stream",
     "text": [
      "\n"
     ]
    }
   ],
   "source": [
    "history = train_model(num_epochs, model, dl, [], loss_fn, opt_fn, lr)\n",
    "model = history[0]"
   ]
  },
  {
   "cell_type": "markdown",
   "metadata": {
    "id": "IiA2OO8ki70e"
   },
   "source": [
    "## Check Predictions"
   ]
  },
  {
   "cell_type": "code",
   "execution_count": 32,
   "metadata": {
    "id": "xWXSnISIi70f"
   },
   "outputs": [],
   "source": [
    "def view_prediction(img, label, probs, classes):\n",
    "    \"\"\"\n",
    "    Visualize predictions.\n",
    "    \"\"\"\n",
    "    probs = probs.cpu().numpy().squeeze()\n",
    "    fig, (ax1, ax2) = plt.subplots(figsize=(8,15), ncols=2)\n",
    "    ax1.imshow(img.resize_(1, 28, 28).cpu().numpy().squeeze(), cmap='Greys_r')\n",
    "    ax1.axis('off')\n",
    "    ax1.set_title('Actual: {}'.format(classes[label]))\n",
    "    ax2.barh(np.arange(47), probs)\n",
    "    ax2.set_aspect(0.1)\n",
    "    ax2.set_yticks(np.arange(47))\n",
    "    ax2.set_yticklabels(classes, size='small');\n",
    "    ax2.set_title('Predicted: probabilities')\n",
    "    ax2.set_xlim(0, 1.1)\n",
    "\n",
    "    plt.tight_layout()"
   ]
  },
  {
   "cell_type": "code",
   "execution_count": 33,
   "metadata": {
    "colab": {
     "base_uri": "https://localhost:8080/",
     "height": 1000
    },
    "id": "3nC25dFci70f",
    "outputId": "f9088708-c380-453e-d629-511062b0eab2"
   },
   "outputs": [
    {
     "data": {
      "image/png": "[encoded data removed]",
      "text/plain": [
       "<Figure size 800x1500 with 2 Axes>"
      ]
     },
     "metadata": {},
     "output_type": "display_data"
    }
   ],
   "source": [
    "# Calculate the class probabilites (log softmax) for img\n",
    "images = iter(dl)\n",
    "for imgs, labels in images:\n",
    "    with torch.no_grad():\n",
    "        model.eval()\n",
    "        # Calculate the class probabilites (log softmax) for img\n",
    "        probs = torch.nn.functional.softmax(model(imgs[0].unsqueeze(0)), dim=1)\n",
    "        # Plot the image and probabilites\n",
    "        view_prediction(imgs[0], labels[0], probs, dataset.classes)\n",
    "    break"
   ]
  },
  {
   "cell_type": "markdown",
   "metadata": {
    "id": "eGzMdrwli70f"
   },
   "source": [
    "## Save the model"
   ]
  },
  {
   "cell_type": "code",
   "execution_count": 35,
   "metadata": {
    "id": "ILdou8C3i70f"
   },
   "outputs": [],
   "source": [
    "# Very important\n",
    "torch.save(model, 'output_model/basic_model.pth')"
   ]
  },
  {
   "cell_type": "markdown",
   "metadata": {
    "id": "U5KWjO0qi70f"
   },
   "source": [
    "## Question 4 (8 points)\n",
    "\n",
    "## Compute accuracy on the test set"
   ]
  },
  {
   "cell_type": "code",
   "execution_count": 13,
   "metadata": {
    "id": "6FHcNSbZi70f"
   },
   "outputs": [],
   "source": [
    "test_dataset = EMNIST('MNIST_data/', download = True, train = False, split = 'balanced', transform = transform)"
   ]
  },
  {
   "cell_type": "code",
   "execution_count": 15,
   "metadata": {
    "id": "Ff16P3Lhi70g"
   },
   "outputs": [],
   "source": [
    "test_dl = DataLoader(test_dataset, batch_size)\n",
    "test_dl = DeviceDataLoader(test_dl, device)"
   ]
  },
  {
   "cell_type": "code",
   "execution_count": 17,
   "metadata": {
    "id": "rbXEywHXi70g"
   },
   "outputs": [],
   "source": [
    "def evaluate(model, test_dl):\n",
    "    \"\"\"\n",
    "    Evaluates your model on the test data.\n",
    "\n",
    "    Args:\n",
    "        model: ImageClassifierNet object\n",
    "        test_dl: test dataloader\n",
    "\n",
    "    Returns:\n",
    "        Test accuracy.\n",
    "    \"\"\"\n",
    "    ######################\n",
    "    #   YOUR CODE HERE   #\n",
    "    ######################\n",
    "    model.eval()\n",
    "\n",
    "    correct_val = 0\n",
    "    total_val = 0\n",
    "\n",
    "    with torch.no_grad():\n",
    "        for img, label in test_dl:\n",
    "            output = model(img)\n",
    "\n",
    "            _, predicted = torch.max(output, 1)\n",
    "            correct_val += (predicted == label).sum().item()\n",
    "            total_val += label.size(0)\n",
    "\n",
    "    return correct_val / total_val\n",
    "\n"
   ]
  },
  {
   "cell_type": "code",
   "execution_count": 39,
   "metadata": {
    "colab": {
     "base_uri": "https://localhost:8080/"
    },
    "id": "UVuDrp0fi70g",
    "outputId": "8951bde6-8044-4f59-bd64-7c68f87469dd"
   },
   "outputs": [
    {
     "name": "stdout",
     "output_type": "stream",
     "text": [
      "Test Accuracy = 0.8674\n"
     ]
    }
   ],
   "source": [
    "print(\"Test Accuracy = {:.4f}\".format(evaluate(model, test_dl)))"
   ]
  },
  {
   "cell_type": "markdown",
   "metadata": {
    "id": "V9FdJc2Li70g"
   },
   "source": [
    "## Tips to increase the test accuracy\n",
    "\n",
    "- **Data augmentation:** Diversifies your training set and leads to better generalization\n",
    "    - Flipping\n",
    "    - Rotation\n",
    "    - Shifting\n",
    "    - Cropping\n",
    "    - Adding noise\n",
    "    - Blurring\n",
    "    \n",
    "- **Regularization:** Reduces overfitting on the training set\n",
    "    - Early stopping\n",
    "    - Dropout\n",
    "    - $l_2$ regularization\n",
    "    - Batch normalization\n",
    "\n",
    "- **Hyperparameter tuning:**\n",
    "    - Weight initialization\n",
    "    - Learning rate\n",
    "    - Activation functions\n",
    "    - Optimizers"
   ]
  },
  {
   "cell_type": "markdown",
   "metadata": {},
   "source": [
    "### Add data augmentation\n",
    "In this section, I will add preprocessing to the image part. The selected image enhancement operations are as follows:\n",
    "* Flipping (Horizon)\n",
    "* Rotation (random rotate +- 10)\n",
    "* Random Crop (from 90% to 100%)\n",
    "* Add Gaussian noice\n",
    "\n",
    "**Output:** A model parameter. I will campare with other methods in the last part\n"
   ]
  },
  {
   "cell_type": "code",
   "execution_count": 40,
   "metadata": {},
   "outputs": [
    {
     "name": "stderr",
     "output_type": "stream",
     "text": [
      "Training process in epoch 0: 100%|██████████████████████████████████████████████████████████████████████████| 7050/7050 [01:28<00:00, 79.27it/s]\n",
      "Testing process in epoch 0: 100%|██████████████████████████████████████████████████████████████████████████| 7050/7050 [00:58<00:00, 119.87it/s]\n"
     ]
    },
    {
     "name": "stdout",
     "output_type": "stream",
     "text": [
      "Epoch 1/30:\n",
      "  Train Loss: 2.7386, Train Accuracy: 0.1846\n",
      "  Val Loss: 1.6915, Val Accuracy: 0.4698\n"
     ]
    },
    {
     "name": "stderr",
     "output_type": "stream",
     "text": [
      "Training process in epoch 1: 100%|██████████████████████████████████████████████████████████████████████████| 7050/7050 [01:24<00:00, 83.50it/s]\n",
      "Testing process in epoch 1: 100%|██████████████████████████████████████████████████████████████████████████| 7050/7050 [00:56<00:00, 124.03it/s]\n"
     ]
    },
    {
     "name": "stdout",
     "output_type": "stream",
     "text": [
      "Epoch 2/30:\n",
      "  Train Loss: 2.0095, Train Accuracy: 0.3483\n",
      "  Val Loss: 1.2994, Val Accuracy: 0.5715\n"
     ]
    },
    {
     "name": "stderr",
     "output_type": "stream",
     "text": [
      "Training process in epoch 2: 100%|██████████████████████████████████████████████████████████████████████████| 7050/7050 [01:26<00:00, 81.83it/s]\n",
      "Testing process in epoch 2: 100%|██████████████████████████████████████████████████████████████████████████| 7050/7050 [00:57<00:00, 123.36it/s]\n"
     ]
    },
    {
     "name": "stdout",
     "output_type": "stream",
     "text": [
      "Epoch 3/30:\n",
      "  Train Loss: 1.7645, Train Accuracy: 0.4126\n",
      "  Val Loss: 1.1359, Val Accuracy: 0.6246\n"
     ]
    },
    {
     "name": "stderr",
     "output_type": "stream",
     "text": [
      "Training process in epoch 3: 100%|██████████████████████████████████████████████████████████████████████████| 7050/7050 [01:21<00:00, 86.24it/s]\n",
      "Testing process in epoch 3: 100%|██████████████████████████████████████████████████████████████████████████| 7050/7050 [00:55<00:00, 126.98it/s]\n"
     ]
    },
    {
     "name": "stdout",
     "output_type": "stream",
     "text": [
      "Epoch 4/30:\n",
      "  Train Loss: 1.5970, Train Accuracy: 0.4701\n",
      "  Val Loss: 1.0324, Val Accuracy: 0.6475\n"
     ]
    },
    {
     "name": "stderr",
     "output_type": "stream",
     "text": [
      "Training process in epoch 4: 100%|██████████████████████████████████████████████████████████████████████████| 7050/7050 [01:21<00:00, 86.28it/s]\n",
      "Testing process in epoch 4: 100%|██████████████████████████████████████████████████████████████████████████| 7050/7050 [00:55<00:00, 127.46it/s]\n"
     ]
    },
    {
     "name": "stdout",
     "output_type": "stream",
     "text": [
      "Epoch 5/30:\n",
      "  Train Loss: 1.5173, Train Accuracy: 0.4966\n",
      "  Val Loss: 0.9901, Val Accuracy: 0.6602\n"
     ]
    },
    {
     "name": "stderr",
     "output_type": "stream",
     "text": [
      "Training process in epoch 5: 100%|██████████████████████████████████████████████████████████████████████████| 7050/7050 [01:21<00:00, 86.35it/s]\n",
      "Testing process in epoch 5: 100%|██████████████████████████████████████████████████████████████████████████| 7050/7050 [00:57<00:00, 123.64it/s]\n"
     ]
    },
    {
     "name": "stdout",
     "output_type": "stream",
     "text": [
      "Epoch 6/30:\n",
      "  Train Loss: 1.4603, Train Accuracy: 0.5144\n",
      "  Val Loss: 0.9754, Val Accuracy: 0.6777\n"
     ]
    },
    {
     "name": "stderr",
     "output_type": "stream",
     "text": [
      "Training process in epoch 6: 100%|██████████████████████████████████████████████████████████████████████████| 7050/7050 [01:24<00:00, 83.25it/s]\n",
      "Testing process in epoch 6: 100%|██████████████████████████████████████████████████████████████████████████| 7050/7050 [00:56<00:00, 124.50it/s]\n"
     ]
    },
    {
     "name": "stdout",
     "output_type": "stream",
     "text": [
      "Epoch 7/30:\n",
      "  Train Loss: 1.4115, Train Accuracy: 0.5304\n",
      "  Val Loss: 0.9233, Val Accuracy: 0.6810\n"
     ]
    },
    {
     "name": "stderr",
     "output_type": "stream",
     "text": [
      "Training process in epoch 7: 100%|██████████████████████████████████████████████████████████████████████████| 7050/7050 [01:22<00:00, 85.91it/s]\n",
      "Testing process in epoch 7: 100%|██████████████████████████████████████████████████████████████████████████| 7050/7050 [00:55<00:00, 127.19it/s]\n"
     ]
    },
    {
     "name": "stdout",
     "output_type": "stream",
     "text": [
      "Epoch 8/30:\n",
      "  Train Loss: 1.3682, Train Accuracy: 0.5496\n",
      "  Val Loss: 0.9005, Val Accuracy: 0.6806\n"
     ]
    },
    {
     "name": "stderr",
     "output_type": "stream",
     "text": [
      "Training process in epoch 8: 100%|██████████████████████████████████████████████████████████████████████████| 7050/7050 [01:24<00:00, 83.62it/s]\n",
      "Testing process in epoch 8: 100%|██████████████████████████████████████████████████████████████████████████| 7050/7050 [00:56<00:00, 124.17it/s]\n"
     ]
    },
    {
     "name": "stdout",
     "output_type": "stream",
     "text": [
      "Epoch 9/30:\n",
      "  Train Loss: 1.3337, Train Accuracy: 0.5607\n",
      "  Val Loss: 0.8745, Val Accuracy: 0.6990\n"
     ]
    },
    {
     "name": "stderr",
     "output_type": "stream",
     "text": [
      "Training process in epoch 9: 100%|██████████████████████████████████████████████████████████████████████████| 7050/7050 [01:23<00:00, 83.98it/s]\n",
      "Testing process in epoch 9: 100%|██████████████████████████████████████████████████████████████████████████| 7050/7050 [01:02<00:00, 112.86it/s]\n"
     ]
    },
    {
     "name": "stdout",
     "output_type": "stream",
     "text": [
      "Epoch 10/30:\n",
      "  Train Loss: 1.3124, Train Accuracy: 0.5653\n",
      "  Val Loss: 0.8432, Val Accuracy: 0.7092\n"
     ]
    },
    {
     "name": "stderr",
     "output_type": "stream",
     "text": [
      "Training process in epoch 10: 100%|█████████████████████████████████████████████████████████████████████████| 7050/7050 [01:26<00:00, 81.73it/s]\n",
      "Testing process in epoch 10: 100%|█████████████████████████████████████████████████████████████████████████| 7050/7050 [01:02<00:00, 113.11it/s]\n"
     ]
    },
    {
     "name": "stdout",
     "output_type": "stream",
     "text": [
      "Epoch 11/30:\n",
      "  Train Loss: 1.2904, Train Accuracy: 0.5763\n",
      "  Val Loss: 0.8338, Val Accuracy: 0.7155\n"
     ]
    },
    {
     "name": "stderr",
     "output_type": "stream",
     "text": [
      "Training process in epoch 11: 100%|█████████████████████████████████████████████████████████████████████████| 7050/7050 [01:35<00:00, 74.11it/s]\n",
      "Testing process in epoch 11: 100%|█████████████████████████████████████████████████████████████████████████| 7050/7050 [00:57<00:00, 123.48it/s]\n"
     ]
    },
    {
     "name": "stdout",
     "output_type": "stream",
     "text": [
      "Epoch 12/30:\n",
      "  Train Loss: 1.2739, Train Accuracy: 0.5806\n",
      "  Val Loss: 0.8393, Val Accuracy: 0.7190\n"
     ]
    },
    {
     "name": "stderr",
     "output_type": "stream",
     "text": [
      "Training process in epoch 12: 100%|█████████████████████████████████████████████████████████████████████████| 7050/7050 [01:21<00:00, 86.06it/s]\n",
      "Testing process in epoch 12: 100%|█████████████████████████████████████████████████████████████████████████| 7050/7050 [00:59<00:00, 119.38it/s]\n"
     ]
    },
    {
     "name": "stdout",
     "output_type": "stream",
     "text": [
      "Epoch 13/30:\n",
      "  Train Loss: 1.2554, Train Accuracy: 0.5900\n",
      "  Val Loss: 0.8253, Val Accuracy: 0.7145\n"
     ]
    },
    {
     "name": "stderr",
     "output_type": "stream",
     "text": [
      "Training process in epoch 13: 100%|█████████████████████████████████████████████████████████████████████████| 7050/7050 [01:22<00:00, 85.71it/s]\n",
      "Testing process in epoch 13: 100%|█████████████████████████████████████████████████████████████████████████| 7050/7050 [00:54<00:00, 128.29it/s]\n"
     ]
    },
    {
     "name": "stdout",
     "output_type": "stream",
     "text": [
      "Epoch 14/30:\n",
      "  Train Loss: 1.2466, Train Accuracy: 0.5939\n",
      "  Val Loss: 0.8090, Val Accuracy: 0.7207\n"
     ]
    },
    {
     "name": "stderr",
     "output_type": "stream",
     "text": [
      "Training process in epoch 14: 100%|█████████████████████████████████████████████████████████████████████████| 7050/7050 [01:23<00:00, 84.44it/s]\n",
      "Testing process in epoch 14: 100%|█████████████████████████████████████████████████████████████████████████| 7050/7050 [00:56<00:00, 125.58it/s]\n"
     ]
    },
    {
     "name": "stdout",
     "output_type": "stream",
     "text": [
      "Epoch 15/30:\n",
      "  Train Loss: 1.2259, Train Accuracy: 0.5996\n",
      "  Val Loss: 0.8139, Val Accuracy: 0.7150\n"
     ]
    },
    {
     "name": "stderr",
     "output_type": "stream",
     "text": [
      "Training process in epoch 15: 100%|█████████████████████████████████████████████████████████████████████████| 7050/7050 [01:22<00:00, 85.04it/s]\n",
      "Testing process in epoch 15: 100%|██████████████████████████████████████████████████████████████████████████| 7050/7050 [01:11<00:00, 98.18it/s]\n"
     ]
    },
    {
     "name": "stdout",
     "output_type": "stream",
     "text": [
      "Epoch 16/30:\n",
      "  Train Loss: 1.2101, Train Accuracy: 0.6041\n",
      "  Val Loss: 0.7893, Val Accuracy: 0.7283\n"
     ]
    },
    {
     "name": "stderr",
     "output_type": "stream",
     "text": [
      "Training process in epoch 16: 100%|█████████████████████████████████████████████████████████████████████████| 7050/7050 [01:32<00:00, 75.95it/s]\n",
      "Testing process in epoch 16: 100%|█████████████████████████████████████████████████████████████████████████| 7050/7050 [01:08<00:00, 103.50it/s]\n"
     ]
    },
    {
     "name": "stdout",
     "output_type": "stream",
     "text": [
      "Epoch 17/30:\n",
      "  Train Loss: 1.2081, Train Accuracy: 0.6062\n",
      "  Val Loss: 0.7862, Val Accuracy: 0.7346\n"
     ]
    },
    {
     "name": "stderr",
     "output_type": "stream",
     "text": [
      "Training process in epoch 17: 100%|█████████████████████████████████████████████████████████████████████████| 7050/7050 [01:26<00:00, 81.06it/s]\n",
      "Testing process in epoch 17: 100%|█████████████████████████████████████████████████████████████████████████| 7050/7050 [01:02<00:00, 112.82it/s]\n"
     ]
    },
    {
     "name": "stdout",
     "output_type": "stream",
     "text": [
      "Epoch 18/30:\n",
      "  Train Loss: 1.2049, Train Accuracy: 0.6119\n",
      "  Val Loss: 0.8028, Val Accuracy: 0.7293\n"
     ]
    },
    {
     "name": "stderr",
     "output_type": "stream",
     "text": [
      "Training process in epoch 18: 100%|█████████████████████████████████████████████████████████████████████████| 7050/7050 [01:23<00:00, 84.46it/s]\n",
      "Testing process in epoch 18: 100%|█████████████████████████████████████████████████████████████████████████| 7050/7050 [00:55<00:00, 127.04it/s]\n"
     ]
    },
    {
     "name": "stdout",
     "output_type": "stream",
     "text": [
      "Epoch 19/30:\n",
      "  Train Loss: 1.1912, Train Accuracy: 0.6128\n",
      "  Val Loss: 0.7927, Val Accuracy: 0.7357\n"
     ]
    },
    {
     "name": "stderr",
     "output_type": "stream",
     "text": [
      "Training process in epoch 19: 100%|█████████████████████████████████████████████████████████████████████████| 7050/7050 [01:26<00:00, 81.29it/s]\n",
      "Testing process in epoch 19: 100%|█████████████████████████████████████████████████████████████████████████| 7050/7050 [00:58<00:00, 119.80it/s]\n"
     ]
    },
    {
     "name": "stdout",
     "output_type": "stream",
     "text": [
      "Epoch 20/30:\n",
      "  Train Loss: 1.1924, Train Accuracy: 0.6129\n",
      "  Val Loss: 0.7597, Val Accuracy: 0.7459\n"
     ]
    },
    {
     "name": "stderr",
     "output_type": "stream",
     "text": [
      "Training process in epoch 20: 100%|█████████████████████████████████████████████████████████████████████████| 7050/7050 [01:26<00:00, 81.26it/s]\n",
      "Testing process in epoch 20: 100%|█████████████████████████████████████████████████████████████████████████| 7050/7050 [00:56<00:00, 125.62it/s]\n"
     ]
    },
    {
     "name": "stdout",
     "output_type": "stream",
     "text": [
      "Epoch 21/30:\n",
      "  Train Loss: 1.1729, Train Accuracy: 0.6210\n",
      "  Val Loss: 0.7783, Val Accuracy: 0.7346\n"
     ]
    },
    {
     "name": "stderr",
     "output_type": "stream",
     "text": [
      "Training process in epoch 21: 100%|█████████████████████████████████████████████████████████████████████████| 7050/7050 [01:23<00:00, 84.37it/s]\n",
      "Testing process in epoch 21: 100%|█████████████████████████████████████████████████████████████████████████| 7050/7050 [00:55<00:00, 126.66it/s]\n"
     ]
    },
    {
     "name": "stdout",
     "output_type": "stream",
     "text": [
      "Epoch 22/30:\n",
      "  Train Loss: 1.1664, Train Accuracy: 0.6212\n",
      "  Val Loss: 0.7513, Val Accuracy: 0.7382\n"
     ]
    },
    {
     "name": "stderr",
     "output_type": "stream",
     "text": [
      "Training process in epoch 22: 100%|█████████████████████████████████████████████████████████████████████████| 7050/7050 [01:23<00:00, 84.09it/s]\n",
      "Testing process in epoch 22: 100%|█████████████████████████████████████████████████████████████████████████| 7050/7050 [00:56<00:00, 124.72it/s]\n"
     ]
    },
    {
     "name": "stdout",
     "output_type": "stream",
     "text": [
      "Epoch 23/30:\n",
      "  Train Loss: 1.1582, Train Accuracy: 0.6221\n",
      "  Val Loss: 0.7572, Val Accuracy: 0.7444\n"
     ]
    },
    {
     "name": "stderr",
     "output_type": "stream",
     "text": [
      "Training process in epoch 23: 100%|█████████████████████████████████████████████████████████████████████████| 7050/7050 [01:38<00:00, 71.27it/s]\n",
      "Testing process in epoch 23: 100%|██████████████████████████████████████████████████████████████████████████| 7050/7050 [01:28<00:00, 79.52it/s]\n"
     ]
    },
    {
     "name": "stdout",
     "output_type": "stream",
     "text": [
      "Epoch 24/30:\n",
      "  Train Loss: 1.1559, Train Accuracy: 0.6250\n",
      "  Val Loss: 0.7530, Val Accuracy: 0.7434\n"
     ]
    },
    {
     "name": "stderr",
     "output_type": "stream",
     "text": [
      "Training process in epoch 24: 100%|█████████████████████████████████████████████████████████████████████████| 7050/7050 [01:31<00:00, 76.94it/s]\n",
      "Testing process in epoch 24: 100%|█████████████████████████████████████████████████████████████████████████| 7050/7050 [00:58<00:00, 120.84it/s]\n"
     ]
    },
    {
     "name": "stdout",
     "output_type": "stream",
     "text": [
      "Epoch 25/30:\n",
      "  Train Loss: 1.1559, Train Accuracy: 0.6259\n",
      "  Val Loss: 0.7619, Val Accuracy: 0.7461\n"
     ]
    },
    {
     "name": "stderr",
     "output_type": "stream",
     "text": [
      "Training process in epoch 25: 100%|█████████████████████████████████████████████████████████████████████████| 7050/7050 [01:28<00:00, 79.52it/s]\n",
      "Testing process in epoch 25: 100%|█████████████████████████████████████████████████████████████████████████| 7050/7050 [00:56<00:00, 124.22it/s]\n"
     ]
    },
    {
     "name": "stdout",
     "output_type": "stream",
     "text": [
      "Epoch 26/30:\n",
      "  Train Loss: 1.1567, Train Accuracy: 0.6303\n",
      "  Val Loss: 0.7551, Val Accuracy: 0.7464\n"
     ]
    },
    {
     "name": "stderr",
     "output_type": "stream",
     "text": [
      "Training process in epoch 26: 100%|█████████████████████████████████████████████████████████████████████████| 7050/7050 [01:23<00:00, 84.19it/s]\n",
      "Testing process in epoch 26: 100%|█████████████████████████████████████████████████████████████████████████| 7050/7050 [01:00<00:00, 116.47it/s]\n"
     ]
    },
    {
     "name": "stdout",
     "output_type": "stream",
     "text": [
      "Epoch 27/30:\n",
      "  Train Loss: 1.1414, Train Accuracy: 0.6289\n",
      "  Val Loss: 0.7684, Val Accuracy: 0.7393\n"
     ]
    },
    {
     "name": "stderr",
     "output_type": "stream",
     "text": [
      "Training process in epoch 27: 100%|█████████████████████████████████████████████████████████████████████████| 7050/7050 [01:44<00:00, 67.17it/s]\n",
      "Testing process in epoch 27: 100%|█████████████████████████████████████████████████████████████████████████| 7050/7050 [01:01<00:00, 114.69it/s]\n"
     ]
    },
    {
     "name": "stdout",
     "output_type": "stream",
     "text": [
      "Epoch 28/30:\n",
      "  Train Loss: 1.1452, Train Accuracy: 0.6304\n",
      "  Val Loss: 0.7341, Val Accuracy: 0.7512\n"
     ]
    },
    {
     "name": "stderr",
     "output_type": "stream",
     "text": [
      "Training process in epoch 28: 100%|█████████████████████████████████████████████████████████████████████████| 7050/7050 [01:29<00:00, 78.47it/s]\n",
      "Testing process in epoch 28: 100%|█████████████████████████████████████████████████████████████████████████| 7050/7050 [01:07<00:00, 104.47it/s]\n"
     ]
    },
    {
     "name": "stdout",
     "output_type": "stream",
     "text": [
      "Epoch 29/30:\n",
      "  Train Loss: 1.1331, Train Accuracy: 0.6331\n",
      "  Val Loss: 0.7510, Val Accuracy: 0.7469\n"
     ]
    },
    {
     "name": "stderr",
     "output_type": "stream",
     "text": [
      "Training process in epoch 29: 100%|█████████████████████████████████████████████████████████████████████████| 7050/7050 [01:44<00:00, 67.65it/s]\n",
      "Testing process in epoch 29: 100%|█████████████████████████████████████████████████████████████████████████| 7050/7050 [01:01<00:00, 115.50it/s]"
     ]
    },
    {
     "name": "stdout",
     "output_type": "stream",
     "text": [
      "Epoch 30/30:\n",
      "  Train Loss: 1.1340, Train Accuracy: 0.6359\n",
      "  Val Loss: 0.7765, Val Accuracy: 0.7340\n"
     ]
    },
    {
     "name": "stderr",
     "output_type": "stream",
     "text": [
      "\n"
     ]
    }
   ],
   "source": [
    "from torchvision import transforms\n",
    "\n",
    "transform = transforms.Compose([\n",
    "    transforms.RandomHorizontalFlip(),\n",
    "    transforms.RandomRotation(10),\n",
    "    transforms.RandomAffine(0, translate=(0.1, 0.1)),\n",
    "    transforms.RandomResizedCrop(28, scale=(0.9, 1.0)),\n",
    "    transforms.GaussianBlur(3),\n",
    "    transforms.ToTensor(),\n",
    "    transforms.Normalize((0.5,), (0.5,))\n",
    "])\n",
    "\n",
    "dataset = EMNIST('MNIST_data/', download = False, train = True, split = 'balanced', transform = transform)\n",
    "\n",
    "val_frac = 0.5\n",
    "rand_seed = 42\n",
    "\n",
    "train_indices, val_indices = split_indices(len(dataset), val_frac, rand_seed)\n",
    "\n",
    "batch_size = 8\n",
    "\n",
    "train_sampler = SubsetRandomSampler(train_indices)\n",
    "train_dl = DataLoader(dataset,\n",
    "                     batch_size,\n",
    "                     sampler=train_sampler)\n",
    "\n",
    "val_sampler = SubsetRandomSampler(val_indices)\n",
    "val_dl = DataLoader(dataset,\n",
    "                   batch_size,\n",
    "                   sampler=val_sampler)\n",
    "\n",
    "device = get_default_device()\n",
    "train_dl = DeviceDataLoader(train_dl, device)\n",
    "val_dl = DeviceDataLoader(val_dl, device)\n",
    "\n",
    "model = ImageClassifierNet()\n",
    "to_device(model, device)\n",
    "\n",
    "num_epochs = 30\n",
    "loss_fn = torch.nn.CrossEntropyLoss()\n",
    "opt_fn = torch.optim.Adam\n",
    "lr = 0.001\n",
    "\n",
    "history = train_model(num_epochs, model, train_dl, val_dl, loss_fn, opt_fn, lr)\n",
    "model = history[0]\n",
    "\n",
    "torch.save(model, 'output_model/data_augment_model.pth')\n"
   ]
  },
  {
   "cell_type": "markdown",
   "metadata": {},
   "source": [
    "## Fine tune parameter"
   ]
  },
  {
   "cell_type": "code",
   "execution_count": null,
   "metadata": {},
   "outputs": [],
   "source": [
    "transform = Compose([ToTensor(),\n",
    "    Normalize((0.5,), (0.5,))\n",
    "    ])\n",
    "\n",
    "dataset = EMNIST('MNIST_data/', download = False, train = True, split = 'balanced', transform = transform)\n",
    "\n",
    "val_frac = 0.5\n",
    "rand_seed = 42\n",
    "\n",
    "train_indices, val_indices = split_indices(len(dataset), val_frac, rand_seed)\n",
    "\n",
    "batch_size = 8\n",
    "\n",
    "# Training sampler and data loader\n",
    "train_sampler = SubsetRandomSampler(train_indices)\n",
    "train_dl = DataLoader(dataset,\n",
    "                     batch_size,\n",
    "                     sampler=train_sampler)\n",
    "\n",
    "# Validation sampler and data loader\n",
    "val_sampler = SubsetRandomSampler(val_indices)\n",
    "val_dl = DataLoader(dataset,\n",
    "                   batch_size,\n",
    "                   sampler=val_sampler)\n",
    "\n",
    "train_dl = DeviceDataLoader(train_dl, device)\n",
    "val_dl = DeviceDataLoader(val_dl, device)\n",
    "\n",
    "num_epochses = [30, 50, 70]\n",
    "lrs = [0.005, 0.001, 0.0005]\n",
    "\n",
    "for num_epochs in num_epochses:\n",
    "    for lr in lrs:\n",
    "        print(f\"\\n=== Use lr:{lr} with epoch:{num_epochs} ===\")        \n",
    "        model = ImageClassifierNet()\n",
    "        to_device(model, device)\n",
    "        \n",
    "        loss_fn = torch.nn.CrossEntropyLoss()\n",
    "        opt_fn = torch.optim.Adam\n",
    "        \n",
    "        history = train_model(num_epochs, model, train_dl, val_dl, loss_fn, opt_fn, lr)\n",
    "        model = history[0]\n",
    "    \n",
    "        torch.save(model, f'output_model/{num_epochs}_{lr}_model.pth')\n"
   ]
  },
  {
   "cell_type": "code",
   "execution_count": 18,
   "metadata": {},
   "outputs": [
    {
     "name": "stdout",
     "output_type": "stream",
     "text": [
      "Find 11 number of model files, Testing...\n",
      "model: 30_0.0005_model.pth - Test accuracy = 0.8644\n",
      "model: 30_0.001_model.pth - Test accuracy = 0.8506\n",
      "model: 30_0.005_model.pth - Test accuracy = 0.6796\n",
      "model: 50_0.0005_model.pth - Test accuracy = 0.8621\n",
      "model: 50_0.001_model.pth - Test accuracy = 0.8574\n",
      "model: 50_0.005_model.pth - Test accuracy = 0.5891\n",
      "model: 70_0.0005_model.pth - Test accuracy = 0.8645\n",
      "model: 70_0.001_model.pth - Test accuracy = 0.8507\n",
      "model: 70_0.005_model.pth - Test accuracy = 0.6436\n",
      "model: basic_model.pth - Test accuracy = 0.8509\n",
      "model: data_augment_model.pth - Test accuracy = 0.7615\n"
     ]
    }
   ],
   "source": [
    "model_dir = \"output_model\"\n",
    "\n",
    "model_files = [f for f in os.listdir(model_dir) if f.endswith('.pth')]\n",
    "model_files.sort()\n",
    "\n",
    "if not model_files:\n",
    "    print(\"Without find any model file!\")\n",
    "else:\n",
    "    print(f\"Find {len(model_files)} number of model files, Testing...\")\n",
    "\n",
    "    for model_file in model_files:\n",
    "        model_path = os.path.join(model_dir, model_file)\n",
    "\n",
    "        try:\n",
    "            model = torch.load(model_path)\n",
    "            device = get_default_device()\n",
    "            to_device(model, device)\n",
    "            \n",
    "            # state_dict = torch.load(model_path)\n",
    "            # model.load_state_dict(state_dict)\n",
    "            model.eval()\n",
    "\n",
    "            accuracy = evaluate(model, test_dl)\n",
    "\n",
    "            print(f\"model: {model_file} - Test accuracy = {accuracy:.4f}\")\n",
    "\n",
    "        except Exception as e:\n",
    "            print(f\"model:  {model_file} error: {str(e)}\")"
   ]
  },
  {
   "cell_type": "markdown",
   "metadata": {},
   "source": [
    "## Experience Result Analysis\n",
    "Using model parameters previously trained with different hyperparameters and data augmentation strategies, we conducted a brief ablation study to analyze their effects on model performance. The results indicate that a smaller learning rate (0.0005) consistently led to higher test accuracy, achieving around 86% across different epoch settings (30, 50, and 70 epochs). Increasing the learning rate to 0.001 caused a slight decrease in performance, while a learning rate of 0.005 significantly degraded accuracy, highlighting the importance of careful learning rate selection. In contrast, the number of training epochs had a relatively minor impact once the model had sufficiently converged, suggesting that extended training beyond 30 epochs brought limited additional benefits.\n",
    "\n",
    "Furthermore, we compared the performance of a basic model with a model trained using data augmentation techniques. The basic model achieved a test accuracy of 85.09%, whereas the data-augmented model reached only 76.15%. This decline suggests that the current data augmentation strategy did not effectively enhance the model’s generalization ability and may have introduced additional complexity that hindered performance. Overall, these results emphasize that optimizing the learning rate plays a critical role in improving model accuracy, while adjustments to the number of epochs and simple data augmentation strategies have relatively limited effects."
   ]
  },
  {
   "cell_type": "code",
   "execution_count": null,
   "metadata": {},
   "outputs": [],
   "source": []
  }
 ],
 "metadata": {
  "accelerator": "GPU",
  "colab": {
   "gpuType": "T4",
   "provenance": [],
   "toc_visible": true
  },
  "kernelspec": {
   "display_name": "Python 3 (ipykernel)",
   "language": "python",
   "name": "python3"
  },
  "language_info": {
   "codemirror_mode": {
    "name": "ipython",
    "version": 3
   },
   "file_extension": ".py",
   "mimetype": "text/x-python",
   "name": "python",
   "nbconvert_exporter": "python",
   "pygments_lexer": "ipython3",
   "version": "3.9.21"
  }
 },
 "nbformat": 4,
 "nbformat_minor": 4
}
