{
  "cells": [
    {
      "cell_type": "markdown",
      "metadata": {
        "id": "VgdHsEdji70P"
      },
      "source": [
        "# Q3: CNN for image classification"
      ]
    },
    {
      "cell_type": "markdown",
      "metadata": {
        "id": "363WTs_Ci70Q"
      },
      "source": [
        "In this assignment, you'll be coding up a convolutional neural network from scratch to classify images using PyTorch.  \n",
        "\n",
        "### Instructions\n",
        "- Install PyTorch following the instructions [here](https://pytorch.org/).\n",
        "- Install the [`torchinfo` package](https://github.com/TylerYep/torchinfo) to visualize the network architecture and the number of parameters. The maximum number of parameters you are allowed to use for your network is **100,000**. Those who violate this rule will be scored 0 points!!!\n",
        "- You are required to complete the functions defined in the code blocks following each question. Fill out sections of the code marked `\"YOUR CODE HERE\"`.\n",
        "- You're free to add any number of methods within each class.\n",
        "- You may also add any number of additional code blocks that you deem necessary."
      ]
    },
    {
      "cell_type": "markdown",
      "metadata": {
        "id": "856zy_oMi70R"
      },
      "source": [
        "## Data Preparation"
      ]
    },
    {
      "cell_type": "code",
      "execution_count": 2,
      "metadata": {
        "id": "At9bskD-i70R"
      },
      "outputs": [],
      "source": [
        "# Importing the libraries\n",
        "import os\n",
        "import torch\n",
        "import torchvision\n",
        "from torchvision.utils import make_grid\n",
        "\n",
        "import numpy as np"
      ]
    },
    {
      "cell_type": "markdown",
      "metadata": {
        "id": "2WZ8Uu56i70R"
      },
      "source": [
        "In this assignment, we will use the EMNIST dataset. The EMNIST dataset is a set of handwritten character digits derived from the NIST Special Database 19 and converted to a 28x28 pixel image format and dataset structure that directly matches the MNIST dataset.\n",
        "\n",
        "There are six different splits provided in this datase: byclass, bymerge, balanced, letters, digits and mnist. Here, we will choose 'balanced' split.\n",
        "\n",
        "Further information on the dataset contents and conversion process can be found in the paper available at https://arxiv.org/abs/1702.05373v1.\n",
        "\n",
        "\n",
        "\n",
        "### Data\n",
        "\n",
        "Each image is 28 pixels in height and 28 pixels in width, for a total of 784 pixels in total. Each pixel has a single pixel-value associated with it, indicating the lightness or darkness of that pixel, with higher numbers meaning darker. This pixel-value is an integer between 0 and 255.  \n",
        "\n",
        "\n",
        "EMNIST is included in the `torchvision` library."
      ]
    },
    {
      "cell_type": "code",
      "execution_count": 3,
      "metadata": {
        "id": "HY7wrIm0i70S"
      },
      "outputs": [],
      "source": [
        "from torchvision.datasets import EMNIST\n",
        "from torchvision.transforms import Compose, ToTensor, Normalize"
      ]
    },
    {
      "cell_type": "code",
      "execution_count": 4,
      "metadata": {
        "colab": {
          "base_uri": "https://localhost:8080/"
        },
        "id": "gv8HDFyMi70S",
        "outputId": "69f14a65-bb36-47d1-8bdf-1fbb6f452c0e"
      },
      "outputs": [
        {
          "output_type": "stream",
          "name": "stderr",
          "text": [
            "100%|██████████| 562M/562M [00:31<00:00, 17.6MB/s]\n"
          ]
        }
      ],
      "source": [
        "# Transform to normalize the data and convert to a tensor\n",
        "transform = Compose([ToTensor(),\n",
        "    Normalize((0.5,), (0.5,))\n",
        "    ])\n",
        "\n",
        "# Download the data\n",
        "dataset = EMNIST('MNIST_data/', download = True, train = True, split = 'balanced', transform = transform)"
      ]
    },
    {
      "cell_type": "markdown",
      "metadata": {
        "id": "RM-RKA5Gi70S"
      },
      "source": [
        "**NOTE:** You may add more operations to `Compose` if you're performing data augmentation."
      ]
    },
    {
      "cell_type": "markdown",
      "metadata": {
        "id": "gua5LC_Wi70S"
      },
      "source": [
        "## Data Exploration"
      ]
    },
    {
      "cell_type": "markdown",
      "metadata": {
        "id": "cExIemHbi70T"
      },
      "source": [
        "Let's take a look at the classes in our dataset."
      ]
    },
    {
      "cell_type": "code",
      "execution_count": 5,
      "metadata": {
        "colab": {
          "base_uri": "https://localhost:8080/"
        },
        "id": "_vaiQ6Ypi70T",
        "outputId": "42d1323d-efbe-4e05-bf0b-4440e188b1ba"
      },
      "outputs": [
        {
          "output_type": "stream",
          "name": "stdout",
          "text": [
            "['0', '1', '2', '3', '4', '5', '6', '7', '8', '9', 'A', 'B', 'C', 'D', 'E', 'F', 'G', 'H', 'I', 'J', 'K', 'L', 'M', 'N', 'O', 'P', 'Q', 'R', 'S', 'T', 'U', 'V', 'W', 'X', 'Y', 'Z', 'a', 'b', 'd', 'e', 'f', 'g', 'h', 'n', 'q', 'r', 't']\n"
          ]
        }
      ],
      "source": [
        "print(dataset.classes)"
      ]
    },
    {
      "cell_type": "code",
      "execution_count": 6,
      "metadata": {
        "id": "bPELpYEbi70T"
      },
      "outputs": [],
      "source": [
        "import matplotlib.pyplot as plt\n",
        "\n",
        "def show_example(img, label):\n",
        "    print('Label: {} ({})'.format(dataset.classes[label], label))\n",
        "    plt.imshow(img.squeeze(), cmap='Greys_r')\n",
        "    plt.axis(False)"
      ]
    },
    {
      "cell_type": "code",
      "execution_count": 7,
      "metadata": {
        "colab": {
          "base_uri": "https://localhost:8080/",
          "height": 424
        },
        "id": "Ca7xdqeIi70T",
        "outputId": "eefcdda7-9edf-427d-997e-cbafbea5614b"
      },
      "outputs": [
        {
          "output_type": "stream",
          "name": "stdout",
          "text": [
            "Label: h (42)\n"
          ]
        },
        {
          "output_type": "display_data",
          "data": {
            "text/plain": [
              "<Figure size 640x480 with 1 Axes>"
            ],
            "image/png": "[encoded data removed]"
          },
          "metadata": {}
        }
      ],
      "source": [
        "show_example(*dataset[20])"
      ]
    },
    {
      "cell_type": "code",
      "execution_count": 8,
      "metadata": {
        "id": "6Cyjp4fZi70T",
        "outputId": "3edda5a5-6093-4e1e-8d0b-1e341f49dfe2",
        "colab": {
          "base_uri": "https://localhost:8080/",
          "height": 424
        }
      },
      "outputs": [
        {
          "output_type": "stream",
          "name": "stdout",
          "text": [
            "Label: A (10)\n"
          ]
        },
        {
          "output_type": "display_data",
          "data": {
            "text/plain": [
              "<Figure size 640x480 with 1 Axes>"
            ],
            "image/png": "[encoded data removed]"
          },
          "metadata": {}
        }
      ],
      "source": [
        "show_example(*dataset[20000])"
      ]
    },
    {
      "cell_type": "markdown",
      "metadata": {
        "id": "H8PEvOwYi70U"
      },
      "source": [
        "## Question 1 (2 points)\n",
        "\n",
        "## Creating Training and Validation Datasets"
      ]
    },
    {
      "cell_type": "markdown",
      "metadata": {
        "id": "GEZ85vcyi70U"
      },
      "source": [
        "The `split_indices` function takes in the size of the entire dataset, `n`, the fraction of data to be used as validation set, `val_frac`, and the random seed and returns the indices of the data points to be added to the validation dataset.  \n",
        "\n",
        "**Choose a suitable fraction for your validation set and experiment with the seed. Remember that the better your validation set, the higher the chances that your model would do well on the test set.**"
      ]
    },
    {
      "cell_type": "code",
      "execution_count": 9,
      "metadata": {
        "id": "xG245MFFi70U"
      },
      "outputs": [],
      "source": [
        "def split_indices(n, val_frac, seed):\n",
        "    # Determine the size of the validation set\n",
        "    n_val = int(val_frac * n)\n",
        "    np.random.seed(seed)\n",
        "    # Create random permutation between 0 to n-1\n",
        "    idxs = np.random.permutation(n)\n",
        "    # Pick first n_val indices for validation set\n",
        "    return idxs[n_val:], idxs[:n_val]"
      ]
    },
    {
      "cell_type": "code",
      "execution_count": 10,
      "metadata": {
        "colab": {
          "base_uri": "https://localhost:8080/"
        },
        "id": "DkxpgMv-i70U",
        "outputId": "f811d675-5354-476f-e216-dfaff2f91cb0"
      },
      "outputs": [
        {
          "output_type": "stream",
          "name": "stdout",
          "text": [
            "#samples in training set: 56400\n",
            "#samples in validation set: 56400\n"
          ]
        }
      ],
      "source": [
        "######################\n",
        "#   YOUR CODE HERE   #\n",
        "######################\n",
        "val_frac = 0.5 ## Set the fraction for the validation set\n",
        "rand_seed = 42 ## Set the random seed\n",
        "\n",
        "train_indices, val_indices = split_indices(len(dataset), val_frac, rand_seed)\n",
        "print(\"#samples in training set: {}\".format(len(train_indices)))\n",
        "print(\"#samples in validation set: {}\".format(len(val_indices)))"
      ]
    },
    {
      "cell_type": "markdown",
      "metadata": {
        "id": "FGcltEr8i70U"
      },
      "source": [
        "Next, we make use of the built-in dataloaders in PyTorch to create iterables of our our training and validation sets. This helps in avoiding fitting the whole dataset into memory and only loads a batch of the data that we can decide.\n",
        "\n",
        "**Set the `batch_size` depending on the hardware resource (GPU/CPU RAM) you are using for the assignment.**"
      ]
    },
    {
      "cell_type": "code",
      "execution_count": 11,
      "metadata": {
        "id": "z4MgUeiWi70U"
      },
      "outputs": [],
      "source": [
        "from torch.utils.data.sampler import SubsetRandomSampler\n",
        "from torch.utils.data.dataloader import DataLoader"
      ]
    },
    {
      "cell_type": "code",
      "execution_count": 12,
      "metadata": {
        "id": "IUh3oAqai70V"
      },
      "outputs": [],
      "source": [
        "######################\n",
        "#   YOUR CODE HERE   #\n",
        "######################\n",
        "batch_size = 8 ## Set the batch size"
      ]
    },
    {
      "cell_type": "code",
      "execution_count": 13,
      "metadata": {
        "id": "D5NwKDBii70V"
      },
      "outputs": [],
      "source": [
        "# Training sampler and data loader\n",
        "train_sampler = SubsetRandomSampler(train_indices)\n",
        "train_dl = DataLoader(dataset,\n",
        "                     batch_size,\n",
        "                     sampler=train_sampler)\n",
        "\n",
        "# Validation sampler and data loader\n",
        "val_sampler = SubsetRandomSampler(val_indices)\n",
        "val_dl = DataLoader(dataset,\n",
        "                   batch_size,\n",
        "                   sampler=val_sampler)"
      ]
    },
    {
      "cell_type": "markdown",
      "metadata": {
        "id": "VqFs1r_ci70V"
      },
      "source": [
        "Plot images in a sample batch of data."
      ]
    },
    {
      "cell_type": "code",
      "execution_count": 14,
      "metadata": {
        "id": "hvhXxFNci70V"
      },
      "outputs": [],
      "source": [
        "def show_batch(dl):\n",
        "    for images, labels in dl:\n",
        "        fig, ax = plt.subplots(figsize=(10,10))\n",
        "        ax.set_xticks([]); ax.set_yticks([])\n",
        "        ax.imshow(make_grid(images, 8).permute(1, 2, 0), cmap='Greys_r')\n",
        "        break"
      ]
    },
    {
      "cell_type": "code",
      "execution_count": 15,
      "metadata": {
        "colab": {
          "base_uri": "https://localhost:8080/",
          "height": 177
        },
        "id": "VcZusYM4i70V",
        "outputId": "bc28b2c9-dc54-4acc-a0e1-ea90f0ff99c8"
      },
      "outputs": [
        {
          "output_type": "stream",
          "name": "stderr",
          "text": [
            "WARNING:matplotlib.image:Clipping input data to the valid range for imshow with RGB data ([0..1] for floats or [0..255] for integers). Got range [-1.0..1.0].\n"
          ]
        },
        {
          "output_type": "display_data",
          "data": {
            "text/plain": [
              "<Figure size 1000x1000 with 1 Axes>"
            ],
            "image/png": "[encoded data removed]"
          },
          "metadata": {}
        }
      ],
      "source": [
        "show_batch(train_dl)"
      ]
    },
    {
      "cell_type": "markdown",
      "metadata": {
        "id": "DBUdcitfi70V"
      },
      "source": [
        "## Question 2 (10 points)\n",
        "\n",
        "## Building the Model"
      ]
    },
    {
      "cell_type": "markdown",
      "metadata": {
        "id": "DUuZNVGoi70V"
      },
      "source": [
        "**Create your model by defining the network architecture in the `ImageClassifierNet` class.**  \n",
        "**NOTE:** The number of parameters in your network must be $\\leq$ 100,000."
      ]
    },
    {
      "cell_type": "code",
      "source": [
        "! pip install torchinfo"
      ],
      "metadata": {
        "colab": {
          "base_uri": "https://localhost:8080/"
        },
        "id": "pZdk0NT0j3d0",
        "outputId": "1988d390-695c-4023-a2db-070b0ad69dce"
      },
      "execution_count": 16,
      "outputs": [
        {
          "output_type": "stream",
          "name": "stdout",
          "text": [
            "Collecting torchinfo\n",
            "  Downloading torchinfo-1.8.0-py3-none-any.whl.metadata (21 kB)\n",
            "Downloading torchinfo-1.8.0-py3-none-any.whl (23 kB)\n",
            "Installing collected packages: torchinfo\n",
            "Successfully installed torchinfo-1.8.0\n"
          ]
        }
      ]
    },
    {
      "cell_type": "code",
      "execution_count": 17,
      "metadata": {
        "id": "98pfn3hCi70W"
      },
      "outputs": [],
      "source": [
        "# Import the libraries\n",
        "import torch.nn as nn\n",
        "import torch.nn.functional as F\n",
        "\n",
        "from torchinfo import summary\n",
        "from tqdm import tqdm"
      ]
    },
    {
      "cell_type": "code",
      "execution_count": 18,
      "metadata": {
        "id": "sIBNk7RBi70W"
      },
      "outputs": [],
      "source": [
        "class ImageClassifierNet(nn.Module):\n",
        "    def __init__(self, n_channels=1, dropout=0.5):\n",
        "        super(ImageClassifierNet, self).__init__()\n",
        "        ######################\n",
        "        #   YOUR CODE HERE   #\n",
        "        ######################\n",
        "        self.conv1 = nn.Conv2d(n_channels, 16, kernel_size=3, stride=1, padding=1)\n",
        "        self.bn1 = nn.BatchNorm2d(16)\n",
        "        self.pool1 = nn.MaxPool2d(kernel_size = 2)\n",
        "\n",
        "        self.conv2 = nn.Conv2d(16, 32, kernel_size=3, stride=1, padding=1)\n",
        "        self.bn2 = nn.BatchNorm2d(32)\n",
        "        self.pool2 = nn.MaxPool2d(kernel_size = 2)\n",
        "\n",
        "        self.conv3 = nn.Conv2d(32, 48, kernel_size=3, stride=1, padding=1)\n",
        "        self.bn3 = nn.BatchNorm2d(48)\n",
        "        self.pool3 = nn.MaxPool2d(kernel_size = 2)\n",
        "\n",
        "        self.fc1 = nn.Linear(48 * 3 * 3, 128)\n",
        "        self.dropout1 = nn.Dropout(dropout)\n",
        "        self.fc2 = nn.Linear(128, 64)\n",
        "        self.dropout2 = nn.Dropout(dropout)\n",
        "        self.fc3 = nn.Linear(64, 47)\n",
        "\n",
        "\n",
        "    def forward(self, X):\n",
        "        ######################\n",
        "        #   YOUR CODE HERE   #\n",
        "        ######################\n",
        "        x = F.relu(self.pool1(self.bn1(self.conv1(X))))\n",
        "        x = F.relu(self.pool2(self.bn2(self.conv2(x))))\n",
        "        x = F.relu(self.pool3(self.bn3(self.conv3(x))))\n",
        "        x = x.view(x.size(0), -1)\n",
        "        x = self.dropout2(self.fc2(self.dropout1(F.relu(self.fc1(x)))))\n",
        "        return self.fc3(F.relu(x))\n"
      ]
    },
    {
      "cell_type": "code",
      "execution_count": 19,
      "metadata": {
        "id": "hz2EivEti70W"
      },
      "outputs": [],
      "source": [
        "model = ImageClassifierNet()"
      ]
    },
    {
      "cell_type": "markdown",
      "metadata": {
        "id": "mT2Iorkxi70W"
      },
      "source": [
        "The following code block prints your network architecture. It also shows the total number of parameters in your network (see `Total params`).  \n",
        "\n",
        "**NOTE: The total number of parameters in your model should be <= 100,000.**"
      ]
    },
    {
      "cell_type": "code",
      "execution_count": 20,
      "metadata": {
        "colab": {
          "base_uri": "https://localhost:8080/"
        },
        "id": "9U2LIlhei70W",
        "outputId": "7e39ac06-e657-43cf-959f-b300e9abad1f"
      },
      "outputs": [
        {
          "output_type": "execute_result",
          "data": {
            "text/plain": [
              "==========================================================================================\n",
              "Layer (type:depth-idx)                   Output Shape              Param #\n",
              "==========================================================================================\n",
              "ImageClassifierNet                       [8, 47]                   --\n",
              "├─Conv2d: 1-1                            [8, 16, 28, 28]           160\n",
              "├─BatchNorm2d: 1-2                       [8, 16, 28, 28]           32\n",
              "├─MaxPool2d: 1-3                         [8, 16, 14, 14]           --\n",
              "├─Conv2d: 1-4                            [8, 32, 14, 14]           4,640\n",
              "├─BatchNorm2d: 1-5                       [8, 32, 14, 14]           64\n",
              "├─MaxPool2d: 1-6                         [8, 32, 7, 7]             --\n",
              "├─Conv2d: 1-7                            [8, 48, 7, 7]             13,872\n",
              "├─BatchNorm2d: 1-8                       [8, 48, 7, 7]             96\n",
              "├─MaxPool2d: 1-9                         [8, 48, 3, 3]             --\n",
              "├─Linear: 1-10                           [8, 128]                  55,424\n",
              "├─Dropout: 1-11                          [8, 128]                  --\n",
              "├─Linear: 1-12                           [8, 64]                   8,256\n",
              "├─Dropout: 1-13                          [8, 64]                   --\n",
              "├─Linear: 1-14                           [8, 47]                   3,055\n",
              "==========================================================================================\n",
              "Total params: 85,599\n",
              "Trainable params: 85,599\n",
              "Non-trainable params: 0\n",
              "Total mult-adds (Units.MEGABYTES): 14.25\n",
              "==========================================================================================\n",
              "Input size (MB): 0.03\n",
              "Forward/backward pass size (MB): 2.72\n",
              "Params size (MB): 0.34\n",
              "Estimated Total Size (MB): 3.09\n",
              "=========================================================================================="
            ]
          },
          "metadata": {},
          "execution_count": 20
        }
      ],
      "source": [
        "summary(model, input_size=(batch_size, 1, 28, 28))"
      ]
    },
    {
      "cell_type": "markdown",
      "metadata": {
        "id": "0F1MdnJki70W"
      },
      "source": [
        "## Enable training on a GPU"
      ]
    },
    {
      "cell_type": "markdown",
      "metadata": {
        "id": "oYC_KZk1i70W"
      },
      "source": [
        "**NOTE:** This section is necessary if you're training your model on a GPU."
      ]
    },
    {
      "cell_type": "code",
      "execution_count": 21,
      "metadata": {
        "id": "NB4hMGiii70X"
      },
      "outputs": [],
      "source": [
        "def get_default_device():\n",
        "    \"\"\"Use GPU if available, else CPU\"\"\"\n",
        "    if torch.cuda.is_available():\n",
        "        return torch.device('cuda')\n",
        "    else:\n",
        "        return torch.device('cpu')\n",
        "\n",
        "def to_device(data, device):\n",
        "    \"\"\"Move tensor(s) to chosen device\"\"\"\n",
        "    if isinstance(data, (list,tuple)):\n",
        "        return [to_device(x, device) for x in data]\n",
        "    return data.to(device, non_blocking=True)\n",
        "\n",
        "class DeviceDataLoader():\n",
        "    \"\"\"Wrap a dataloader to move data to a device\"\"\"\n",
        "    def __init__(self, dl, device):\n",
        "        self.dl = dl\n",
        "        self.device = device\n",
        "\n",
        "    def __iter__(self):\n",
        "        \"\"\"Yield a batch of data after moving it to device\"\"\"\n",
        "        for b in self.dl:\n",
        "            yield to_device(b, self.device)\n",
        "\n",
        "    def __len__(self):\n",
        "        \"\"\"Number of batches\"\"\"\n",
        "        return len(self.dl)"
      ]
    },
    {
      "cell_type": "code",
      "execution_count": 22,
      "metadata": {
        "colab": {
          "base_uri": "https://localhost:8080/"
        },
        "id": "JeQ_PbOwi70X",
        "outputId": "bcf6aac9-e1b2-4023-fddf-c5f52c3154f3"
      },
      "outputs": [
        {
          "output_type": "execute_result",
          "data": {
            "text/plain": [
              "ImageClassifierNet(\n",
              "  (conv1): Conv2d(1, 16, kernel_size=(3, 3), stride=(1, 1), padding=(1, 1))\n",
              "  (bn1): BatchNorm2d(16, eps=1e-05, momentum=0.1, affine=True, track_running_stats=True)\n",
              "  (pool1): MaxPool2d(kernel_size=2, stride=2, padding=0, dilation=1, ceil_mode=False)\n",
              "  (conv2): Conv2d(16, 32, kernel_size=(3, 3), stride=(1, 1), padding=(1, 1))\n",
              "  (bn2): BatchNorm2d(32, eps=1e-05, momentum=0.1, affine=True, track_running_stats=True)\n",
              "  (pool2): MaxPool2d(kernel_size=2, stride=2, padding=0, dilation=1, ceil_mode=False)\n",
              "  (conv3): Conv2d(32, 48, kernel_size=(3, 3), stride=(1, 1), padding=(1, 1))\n",
              "  (bn3): BatchNorm2d(48, eps=1e-05, momentum=0.1, affine=True, track_running_stats=True)\n",
              "  (pool3): MaxPool2d(kernel_size=2, stride=2, padding=0, dilation=1, ceil_mode=False)\n",
              "  (fc1): Linear(in_features=432, out_features=128, bias=True)\n",
              "  (dropout1): Dropout(p=0.5, inplace=False)\n",
              "  (fc2): Linear(in_features=128, out_features=64, bias=True)\n",
              "  (dropout2): Dropout(p=0.5, inplace=False)\n",
              "  (fc3): Linear(in_features=64, out_features=47, bias=True)\n",
              ")"
            ]
          },
          "metadata": {},
          "execution_count": 22
        }
      ],
      "source": [
        "device = get_default_device()\n",
        "\n",
        "train_dl = DeviceDataLoader(train_dl, device)\n",
        "val_dl = DeviceDataLoader(val_dl, device)\n",
        "\n",
        "to_device(model, device)"
      ]
    },
    {
      "cell_type": "markdown",
      "metadata": {
        "id": "3g_1WdNIi70X"
      },
      "source": [
        "## Question 3 (10 points)\n",
        "\n",
        "## Train the model"
      ]
    },
    {
      "cell_type": "markdown",
      "metadata": {
        "id": "F-V17ylVi70X"
      },
      "source": [
        "**Complete the `train_model` function to train your model on a dataset. Tune your network architecture and hyperparameters on the validation set.**"
      ]
    },
    {
      "cell_type": "code",
      "execution_count": 23,
      "metadata": {
        "id": "7Vjqc3kui70X"
      },
      "outputs": [],
      "source": [
        "def train_model(n_epochs, model, train_dl, val_dl, loss_fn, opt_fn, lr):\n",
        "    \"\"\"\n",
        "    Trains the model on a dataset.\n",
        "\n",
        "    Args:\n",
        "        n_epochs: number of epochs\n",
        "        model: ImageClassifierNet object\n",
        "        train_dl: training dataloader\n",
        "        val_dl: validation dataloader\n",
        "        loss_fn: the loss function\n",
        "        opt_fn: the optimizer\n",
        "        lr: learning rate\n",
        "\n",
        "    Returns:\n",
        "        The trained model.\n",
        "        A tuple of (model, train_losses, val_losses, train_accuracies, val_accuracies)\n",
        "    \"\"\"\n",
        "    # Record these values the end of each epoch\n",
        "    train_losses, val_losses, train_accuracies, val_accuracies = [], [], [], []\n",
        "\n",
        "    ######################\n",
        "    #   YOUR CODE HERE   #\n",
        "    ######################\n",
        "    optimizer = opt_fn(model.parameters(), lr=lr)\n",
        "    for epoch in range(n_epochs):\n",
        "        model.train()\n",
        "\n",
        "        epoch_train_loss = 0\n",
        "        correct_train = 0\n",
        "        total_train = 0\n",
        "\n",
        "        for img, label in tqdm(train_dl, desc=f\"Training process in epoch {epoch}\"):\n",
        "            output = model(img)\n",
        "            loss = loss_fn(output, label)\n",
        "\n",
        "            optimizer.zero_grad()\n",
        "            loss.backward()\n",
        "            optimizer.step()\n",
        "\n",
        "            epoch_train_loss += loss.item()\n",
        "            _, predicted = torch.max(output, 1)\n",
        "            correct_train += (predicted == label).sum().item()\n",
        "            total_train += label.size(0)\n",
        "\n",
        "        train_loss = epoch_train_loss / len(train_dl)\n",
        "        train_accuracy = correct_train / total_train\n",
        "        train_losses.append(train_loss)\n",
        "        train_accuracies.append(train_accuracy)\n",
        "\n",
        "        # Validation phase\n",
        "        model.eval()\n",
        "\n",
        "        epoch_val_loss = 0\n",
        "        correct_val = 0\n",
        "        total_val = 0\n",
        "\n",
        "        if len(val_dl) == 0:\n",
        "            print(f\"Epoch {epoch+1}/{n_epochs}:\")\n",
        "            print(f\"  Val Loss: {train_loss:.4f}, Val Accuracy: {train_accuracy:.4f}\")\n",
        "            continue\n",
        "        with torch.no_grad():\n",
        "            for img, label in tqdm(val_dl, desc=f\"Testing process in epoch {epoch}\"):\n",
        "\n",
        "                output = model(img)\n",
        "                loss = loss_fn(output, label)\n",
        "\n",
        "                epoch_val_loss += loss.item()\n",
        "                _, predicted = torch.max(output, 1)\n",
        "                correct_val += (predicted == label).sum().item()\n",
        "                total_val += label.size(0)\n",
        "\n",
        "        val_loss = epoch_val_loss / len(val_dl)\n",
        "        val_accuracy = correct_val / total_val\n",
        "        val_losses.append(val_loss)\n",
        "        val_accuracies.append(val_accuracy)\n",
        "\n",
        "        print(f\"Epoch {epoch+1}/{n_epochs}:\")\n",
        "        print(f\"  Train Loss: {train_loss:.4f}, Train Accuracy: {train_accuracy:.4f}\")\n",
        "        print(f\"  Val Loss: {val_loss:.4f}, Val Accuracy: {val_accuracy:.4f}\")\n",
        "\n",
        "\n",
        "\n",
        "    return model, train_losses, val_losses, train_accuracies, val_accuracies"
      ]
    },
    {
      "cell_type": "markdown",
      "metadata": {
        "id": "jYLvHlUMi70c"
      },
      "source": [
        "**Set the maximum number of training epochs, the loss function, the optimizer, and the learning rate.**"
      ]
    },
    {
      "cell_type": "code",
      "execution_count": 24,
      "metadata": {
        "id": "Z_yrHfUli70d"
      },
      "outputs": [],
      "source": [
        "######################\n",
        "#   YOUR CODE HERE   #\n",
        "######################\n",
        "num_epochs = 30  # Max number of training epochs\n",
        "loss_fn = torch.nn.CrossEntropyLoss() # Define the loss function\n",
        "opt_fn = torch.optim.Adam # Select an optimizer\n",
        "lr = 0.001 # Set the learning rate"
      ]
    },
    {
      "cell_type": "code",
      "execution_count": 25,
      "metadata": {
        "colab": {
          "base_uri": "https://localhost:8080/"
        },
        "id": "38VdqbxIi70d",
        "outputId": "e3fe063b-4015-49e1-ed51-804c1fdd6fc3"
      },
      "outputs": [
        {
          "output_type": "stream",
          "name": "stderr",
          "text": [
            "Training process in epoch 0: 100%|██████████| 7050/7050 [00:45<00:00, 155.97it/s]\n",
            "Testing process in epoch 0: 100%|██████████| 7050/7050 [00:20<00:00, 337.57it/s]\n"
          ]
        },
        {
          "output_type": "stream",
          "name": "stdout",
          "text": [
            "Epoch 1/30:\n",
            "  Train Loss: 2.0487, Train Accuracy: 0.3671\n",
            "  Val Loss: 0.7897, Val Accuracy: 0.7538\n"
          ]
        },
        {
          "output_type": "stream",
          "name": "stderr",
          "text": [
            "Training process in epoch 1: 100%|██████████| 7050/7050 [00:39<00:00, 177.54it/s]\n",
            "Testing process in epoch 1: 100%|██████████| 7050/7050 [00:22<00:00, 315.00it/s]\n"
          ]
        },
        {
          "output_type": "stream",
          "name": "stdout",
          "text": [
            "Epoch 2/30:\n",
            "  Train Loss: 1.2898, Train Accuracy: 0.5661\n",
            "  Val Loss: 0.6008, Val Accuracy: 0.7919\n"
          ]
        },
        {
          "output_type": "stream",
          "name": "stderr",
          "text": [
            "Training process in epoch 2: 100%|██████████| 7050/7050 [00:38<00:00, 183.53it/s]\n",
            "Testing process in epoch 2: 100%|██████████| 7050/7050 [00:20<00:00, 337.78it/s]\n"
          ]
        },
        {
          "output_type": "stream",
          "name": "stdout",
          "text": [
            "Epoch 3/30:\n",
            "  Train Loss: 1.0946, Train Accuracy: 0.6293\n",
            "  Val Loss: 0.5301, Val Accuracy: 0.8200\n"
          ]
        },
        {
          "output_type": "stream",
          "name": "stderr",
          "text": [
            "Training process in epoch 3: 100%|██████████| 7050/7050 [00:39<00:00, 179.29it/s]\n",
            "Testing process in epoch 3: 100%|██████████| 7050/7050 [00:20<00:00, 338.77it/s]\n"
          ]
        },
        {
          "output_type": "stream",
          "name": "stdout",
          "text": [
            "Epoch 4/30:\n",
            "  Train Loss: 0.9897, Train Accuracy: 0.6637\n",
            "  Val Loss: 0.5124, Val Accuracy: 0.8162\n"
          ]
        },
        {
          "output_type": "stream",
          "name": "stderr",
          "text": [
            "Training process in epoch 4: 100%|██████████| 7050/7050 [00:38<00:00, 184.56it/s]\n",
            "Testing process in epoch 4: 100%|██████████| 7050/7050 [00:21<00:00, 328.55it/s]\n"
          ]
        },
        {
          "output_type": "stream",
          "name": "stdout",
          "text": [
            "Epoch 5/30:\n",
            "  Train Loss: 0.8998, Train Accuracy: 0.6920\n",
            "  Val Loss: 0.4706, Val Accuracy: 0.8293\n"
          ]
        },
        {
          "output_type": "stream",
          "name": "stderr",
          "text": [
            "Training process in epoch 5: 100%|██████████| 7050/7050 [00:39<00:00, 180.07it/s]\n",
            "Testing process in epoch 5: 100%|██████████| 7050/7050 [00:20<00:00, 345.10it/s]\n"
          ]
        },
        {
          "output_type": "stream",
          "name": "stdout",
          "text": [
            "Epoch 6/30:\n",
            "  Train Loss: 0.8529, Train Accuracy: 0.7140\n",
            "  Val Loss: 0.4739, Val Accuracy: 0.8243\n"
          ]
        },
        {
          "output_type": "stream",
          "name": "stderr",
          "text": [
            "Training process in epoch 6: 100%|██████████| 7050/7050 [00:38<00:00, 182.02it/s]\n",
            "Testing process in epoch 6: 100%|██████████| 7050/7050 [00:20<00:00, 345.03it/s]\n"
          ]
        },
        {
          "output_type": "stream",
          "name": "stdout",
          "text": [
            "Epoch 7/30:\n",
            "  Train Loss: 0.8048, Train Accuracy: 0.7284\n",
            "  Val Loss: 0.4493, Val Accuracy: 0.8431\n"
          ]
        },
        {
          "output_type": "stream",
          "name": "stderr",
          "text": [
            "Training process in epoch 7: 100%|██████████| 7050/7050 [00:39<00:00, 180.40it/s]\n",
            "Testing process in epoch 7: 100%|██████████| 7050/7050 [00:21<00:00, 326.32it/s]\n"
          ]
        },
        {
          "output_type": "stream",
          "name": "stdout",
          "text": [
            "Epoch 8/30:\n",
            "  Train Loss: 0.7787, Train Accuracy: 0.7367\n",
            "  Val Loss: 0.4562, Val Accuracy: 0.8394\n"
          ]
        },
        {
          "output_type": "stream",
          "name": "stderr",
          "text": [
            "Training process in epoch 8: 100%|██████████| 7050/7050 [00:39<00:00, 179.97it/s]\n",
            "Testing process in epoch 8: 100%|██████████| 7050/7050 [00:20<00:00, 337.62it/s]\n"
          ]
        },
        {
          "output_type": "stream",
          "name": "stdout",
          "text": [
            "Epoch 9/30:\n",
            "  Train Loss: 0.7620, Train Accuracy: 0.7427\n",
            "  Val Loss: 0.4481, Val Accuracy: 0.8390\n"
          ]
        },
        {
          "output_type": "stream",
          "name": "stderr",
          "text": [
            "Training process in epoch 9: 100%|██████████| 7050/7050 [00:40<00:00, 176.11it/s]\n",
            "Testing process in epoch 9: 100%|██████████| 7050/7050 [00:20<00:00, 339.63it/s]\n"
          ]
        },
        {
          "output_type": "stream",
          "name": "stdout",
          "text": [
            "Epoch 10/30:\n",
            "  Train Loss: 0.7313, Train Accuracy: 0.7519\n",
            "  Val Loss: 0.4492, Val Accuracy: 0.8444\n"
          ]
        },
        {
          "output_type": "stream",
          "name": "stderr",
          "text": [
            "Training process in epoch 10: 100%|██████████| 7050/7050 [00:39<00:00, 180.15it/s]\n",
            "Testing process in epoch 10: 100%|██████████| 7050/7050 [00:21<00:00, 334.69it/s]\n"
          ]
        },
        {
          "output_type": "stream",
          "name": "stdout",
          "text": [
            "Epoch 11/30:\n",
            "  Train Loss: 0.7131, Train Accuracy: 0.7588\n",
            "  Val Loss: 0.4448, Val Accuracy: 0.8455\n"
          ]
        },
        {
          "output_type": "stream",
          "name": "stderr",
          "text": [
            "Training process in epoch 11: 100%|██████████| 7050/7050 [00:39<00:00, 176.38it/s]\n",
            "Testing process in epoch 11: 100%|██████████| 7050/7050 [00:21<00:00, 334.37it/s]\n"
          ]
        },
        {
          "output_type": "stream",
          "name": "stdout",
          "text": [
            "Epoch 12/30:\n",
            "  Train Loss: 0.7027, Train Accuracy: 0.7632\n",
            "  Val Loss: 0.4505, Val Accuracy: 0.8474\n"
          ]
        },
        {
          "output_type": "stream",
          "name": "stderr",
          "text": [
            "Training process in epoch 12: 100%|██████████| 7050/7050 [00:40<00:00, 174.89it/s]\n",
            "Testing process in epoch 12: 100%|██████████| 7050/7050 [00:19<00:00, 353.37it/s]\n"
          ]
        },
        {
          "output_type": "stream",
          "name": "stdout",
          "text": [
            "Epoch 13/30:\n",
            "  Train Loss: 0.6913, Train Accuracy: 0.7656\n",
            "  Val Loss: 0.4466, Val Accuracy: 0.8531\n"
          ]
        },
        {
          "output_type": "stream",
          "name": "stderr",
          "text": [
            "Training process in epoch 13: 100%|██████████| 7050/7050 [00:39<00:00, 180.73it/s]\n",
            "Testing process in epoch 13: 100%|██████████| 7050/7050 [00:21<00:00, 326.54it/s]\n"
          ]
        },
        {
          "output_type": "stream",
          "name": "stdout",
          "text": [
            "Epoch 14/30:\n",
            "  Train Loss: 0.6865, Train Accuracy: 0.7666\n",
            "  Val Loss: 0.4494, Val Accuracy: 0.8481\n"
          ]
        },
        {
          "output_type": "stream",
          "name": "stderr",
          "text": [
            "Training process in epoch 14: 100%|██████████| 7050/7050 [00:39<00:00, 178.58it/s]\n",
            "Testing process in epoch 14: 100%|██████████| 7050/7050 [00:20<00:00, 345.95it/s]\n"
          ]
        },
        {
          "output_type": "stream",
          "name": "stdout",
          "text": [
            "Epoch 15/30:\n",
            "  Train Loss: 0.6738, Train Accuracy: 0.7699\n",
            "  Val Loss: 0.4532, Val Accuracy: 0.8476\n"
          ]
        },
        {
          "output_type": "stream",
          "name": "stderr",
          "text": [
            "Training process in epoch 15: 100%|██████████| 7050/7050 [00:39<00:00, 178.55it/s]\n",
            "Testing process in epoch 15: 100%|██████████| 7050/7050 [00:21<00:00, 330.78it/s]\n"
          ]
        },
        {
          "output_type": "stream",
          "name": "stdout",
          "text": [
            "Epoch 16/30:\n",
            "  Train Loss: 0.6665, Train Accuracy: 0.7726\n",
            "  Val Loss: 0.4498, Val Accuracy: 0.8516\n"
          ]
        },
        {
          "output_type": "stream",
          "name": "stderr",
          "text": [
            "Training process in epoch 16: 100%|██████████| 7050/7050 [00:39<00:00, 178.42it/s]\n",
            "Testing process in epoch 16: 100%|██████████| 7050/7050 [00:20<00:00, 336.09it/s]\n"
          ]
        },
        {
          "output_type": "stream",
          "name": "stdout",
          "text": [
            "Epoch 17/30:\n",
            "  Train Loss: 0.6641, Train Accuracy: 0.7739\n",
            "  Val Loss: 0.4417, Val Accuracy: 0.8558\n"
          ]
        },
        {
          "output_type": "stream",
          "name": "stderr",
          "text": [
            "Training process in epoch 17: 100%|██████████| 7050/7050 [00:39<00:00, 179.16it/s]\n",
            "Testing process in epoch 17: 100%|██████████| 7050/7050 [00:20<00:00, 350.63it/s]\n"
          ]
        },
        {
          "output_type": "stream",
          "name": "stdout",
          "text": [
            "Epoch 18/30:\n",
            "  Train Loss: 0.6506, Train Accuracy: 0.7772\n",
            "  Val Loss: 0.4416, Val Accuracy: 0.8574\n"
          ]
        },
        {
          "output_type": "stream",
          "name": "stderr",
          "text": [
            "Training process in epoch 18: 100%|██████████| 7050/7050 [00:39<00:00, 177.14it/s]\n",
            "Testing process in epoch 18: 100%|██████████| 7050/7050 [00:19<00:00, 353.53it/s]\n"
          ]
        },
        {
          "output_type": "stream",
          "name": "stdout",
          "text": [
            "Epoch 19/30:\n",
            "  Train Loss: 0.6395, Train Accuracy: 0.7809\n",
            "  Val Loss: 0.4496, Val Accuracy: 0.8486\n"
          ]
        },
        {
          "output_type": "stream",
          "name": "stderr",
          "text": [
            "Training process in epoch 19: 100%|██████████| 7050/7050 [00:39<00:00, 177.43it/s]\n",
            "Testing process in epoch 19: 100%|██████████| 7050/7050 [00:20<00:00, 336.33it/s]\n"
          ]
        },
        {
          "output_type": "stream",
          "name": "stdout",
          "text": [
            "Epoch 20/30:\n",
            "  Train Loss: 0.6402, Train Accuracy: 0.7828\n",
            "  Val Loss: 0.4592, Val Accuracy: 0.8523\n"
          ]
        },
        {
          "output_type": "stream",
          "name": "stderr",
          "text": [
            "Training process in epoch 20: 100%|██████████| 7050/7050 [00:40<00:00, 174.51it/s]\n",
            "Testing process in epoch 20: 100%|██████████| 7050/7050 [00:20<00:00, 347.66it/s]\n"
          ]
        },
        {
          "output_type": "stream",
          "name": "stdout",
          "text": [
            "Epoch 21/30:\n",
            "  Train Loss: 0.6344, Train Accuracy: 0.7837\n",
            "  Val Loss: 0.4380, Val Accuracy: 0.8535\n"
          ]
        },
        {
          "output_type": "stream",
          "name": "stderr",
          "text": [
            "Training process in epoch 21: 100%|██████████| 7050/7050 [00:39<00:00, 177.12it/s]\n",
            "Testing process in epoch 21: 100%|██████████| 7050/7050 [00:20<00:00, 343.77it/s]\n"
          ]
        },
        {
          "output_type": "stream",
          "name": "stdout",
          "text": [
            "Epoch 22/30:\n",
            "  Train Loss: 0.6293, Train Accuracy: 0.7843\n",
            "  Val Loss: 0.4633, Val Accuracy: 0.8510\n"
          ]
        },
        {
          "output_type": "stream",
          "name": "stderr",
          "text": [
            "Training process in epoch 22: 100%|██████████| 7050/7050 [00:40<00:00, 174.51it/s]\n",
            "Testing process in epoch 22: 100%|██████████| 7050/7050 [00:21<00:00, 327.45it/s]\n"
          ]
        },
        {
          "output_type": "stream",
          "name": "stdout",
          "text": [
            "Epoch 23/30:\n",
            "  Train Loss: 0.6166, Train Accuracy: 0.7887\n",
            "  Val Loss: 0.4483, Val Accuracy: 0.8444\n"
          ]
        },
        {
          "output_type": "stream",
          "name": "stderr",
          "text": [
            "Training process in epoch 23: 100%|██████████| 7050/7050 [00:39<00:00, 179.35it/s]\n",
            "Testing process in epoch 23: 100%|██████████| 7050/7050 [00:20<00:00, 337.71it/s]\n"
          ]
        },
        {
          "output_type": "stream",
          "name": "stdout",
          "text": [
            "Epoch 24/30:\n",
            "  Train Loss: 0.6173, Train Accuracy: 0.7859\n",
            "  Val Loss: 0.4468, Val Accuracy: 0.8572\n"
          ]
        },
        {
          "output_type": "stream",
          "name": "stderr",
          "text": [
            "Training process in epoch 24: 100%|██████████| 7050/7050 [00:40<00:00, 173.83it/s]\n",
            "Testing process in epoch 24: 100%|██████████| 7050/7050 [00:21<00:00, 333.92it/s]\n"
          ]
        },
        {
          "output_type": "stream",
          "name": "stdout",
          "text": [
            "Epoch 25/30:\n",
            "  Train Loss: 0.6195, Train Accuracy: 0.7849\n",
            "  Val Loss: 0.4517, Val Accuracy: 0.8549\n"
          ]
        },
        {
          "output_type": "stream",
          "name": "stderr",
          "text": [
            "Training process in epoch 25: 100%|██████████| 7050/7050 [00:40<00:00, 174.33it/s]\n",
            "Testing process in epoch 25: 100%|██████████| 7050/7050 [00:22<00:00, 316.38it/s]\n"
          ]
        },
        {
          "output_type": "stream",
          "name": "stdout",
          "text": [
            "Epoch 26/30:\n",
            "  Train Loss: 0.6113, Train Accuracy: 0.7892\n",
            "  Val Loss: 0.4534, Val Accuracy: 0.8569\n"
          ]
        },
        {
          "output_type": "stream",
          "name": "stderr",
          "text": [
            "Training process in epoch 26: 100%|██████████| 7050/7050 [00:41<00:00, 171.54it/s]\n",
            "Testing process in epoch 26: 100%|██████████| 7050/7050 [00:21<00:00, 331.06it/s]\n"
          ]
        },
        {
          "output_type": "stream",
          "name": "stdout",
          "text": [
            "Epoch 27/30:\n",
            "  Train Loss: 0.6164, Train Accuracy: 0.7897\n",
            "  Val Loss: 0.4448, Val Accuracy: 0.8624\n"
          ]
        },
        {
          "output_type": "stream",
          "name": "stderr",
          "text": [
            "Training process in epoch 27: 100%|██████████| 7050/7050 [00:39<00:00, 179.27it/s]\n",
            "Testing process in epoch 27: 100%|██████████| 7050/7050 [00:21<00:00, 331.82it/s]\n"
          ]
        },
        {
          "output_type": "stream",
          "name": "stdout",
          "text": [
            "Epoch 28/30:\n",
            "  Train Loss: 0.6074, Train Accuracy: 0.7912\n",
            "  Val Loss: 0.4556, Val Accuracy: 0.8503\n"
          ]
        },
        {
          "output_type": "stream",
          "name": "stderr",
          "text": [
            "Training process in epoch 28: 100%|██████████| 7050/7050 [00:40<00:00, 175.95it/s]\n",
            "Testing process in epoch 28: 100%|██████████| 7050/7050 [00:21<00:00, 324.08it/s]\n"
          ]
        },
        {
          "output_type": "stream",
          "name": "stdout",
          "text": [
            "Epoch 29/30:\n",
            "  Train Loss: 0.6049, Train Accuracy: 0.7911\n",
            "  Val Loss: 0.4709, Val Accuracy: 0.8472\n"
          ]
        },
        {
          "output_type": "stream",
          "name": "stderr",
          "text": [
            "Training process in epoch 29: 100%|██████████| 7050/7050 [00:40<00:00, 176.19it/s]\n",
            "Testing process in epoch 29: 100%|██████████| 7050/7050 [00:20<00:00, 341.00it/s]"
          ]
        },
        {
          "output_type": "stream",
          "name": "stdout",
          "text": [
            "Epoch 30/30:\n",
            "  Train Loss: 0.5974, Train Accuracy: 0.7911\n",
            "  Val Loss: 0.4649, Val Accuracy: 0.8504\n"
          ]
        },
        {
          "output_type": "stream",
          "name": "stderr",
          "text": [
            "\n"
          ]
        }
      ],
      "source": [
        "history = train_model(num_epochs, model, train_dl, val_dl, loss_fn, opt_fn, lr)\n",
        "model, train_losses, val_losses, train_accuracies, val_accuracies = history"
      ]
    },
    {
      "cell_type": "markdown",
      "metadata": {
        "id": "nGFl-V5si70d"
      },
      "source": [
        "## Plot loss and accuracy"
      ]
    },
    {
      "cell_type": "code",
      "execution_count": 26,
      "metadata": {
        "id": "cfgN7MuWi70d"
      },
      "outputs": [],
      "source": [
        "def plot_accuracy(train_accuracies, val_accuracies):\n",
        "    \"\"\"Plot accuracies\"\"\"\n",
        "    plt.plot(train_accuracies, \"-x\")\n",
        "    plt.plot(val_accuracies, \"-o\")\n",
        "    plt.xlabel(\"Epoch\")\n",
        "    plt.ylabel(\"Accuracy\")\n",
        "    plt.legend([\"Training\", \"Validation\"])\n",
        "    plt.title(\"Accuracy vs. No. of epochs\")"
      ]
    },
    {
      "cell_type": "code",
      "execution_count": 27,
      "metadata": {
        "colab": {
          "base_uri": "https://localhost:8080/",
          "height": 472
        },
        "id": "xvc93lFPi70d",
        "outputId": "ba31e13b-2270-4e91-ed09-f9262d8c1317"
      },
      "outputs": [
        {
          "output_type": "display_data",
          "data": {
            "text/plain": [
              "<Figure size 640x480 with 1 Axes>"
            ],
            "image/png": "[encoded data removed]"
          },
          "metadata": {}
        }
      ],
      "source": [
        "plot_accuracy(train_accuracies, val_accuracies)"
      ]
    },
    {
      "cell_type": "code",
      "execution_count": 28,
      "metadata": {
        "id": "mlC3f9Qei70d"
      },
      "outputs": [],
      "source": [
        "def plot_losses(train_losses, val_losses):\n",
        "    \"\"\"Plot losses\"\"\"\n",
        "    plt.plot(train_losses, \"-x\")\n",
        "    plt.plot(val_losses, \"-o\")\n",
        "    plt.xlabel(\"Epoch\")\n",
        "    plt.ylabel(\"Loss\")\n",
        "    plt.legend([\"Training\", \"Validation\"])\n",
        "    plt.title(\"Loss vs. No. of Epochs\")"
      ]
    },
    {
      "cell_type": "code",
      "execution_count": 29,
      "metadata": {
        "colab": {
          "base_uri": "https://localhost:8080/",
          "height": 472
        },
        "id": "0nVYFALTi70e",
        "outputId": "e3528b3d-5178-470a-ad74-f15ecea31fa3"
      },
      "outputs": [
        {
          "output_type": "display_data",
          "data": {
            "text/plain": [
              "<Figure size 640x480 with 1 Axes>"
            ],
            "image/png": "[encoded data removed]"
          },
          "metadata": {}
        }
      ],
      "source": [
        "plot_losses(train_losses, val_losses)"
      ]
    },
    {
      "cell_type": "markdown",
      "metadata": {
        "id": "2TrI5hlxi70e"
      },
      "source": [
        "## Train a model on the entire dataset"
      ]
    },
    {
      "cell_type": "code",
      "execution_count": 30,
      "metadata": {
        "id": "dE5CRw8Ei70e"
      },
      "outputs": [],
      "source": [
        "indices, _ = split_indices(len(dataset), 0, rand_seed)\n",
        "\n",
        "sampler = SubsetRandomSampler(indices)\n",
        "dl = DataLoader(dataset, batch_size, sampler=sampler)\n",
        "dl = DeviceDataLoader(dl, device)"
      ]
    },
    {
      "cell_type": "markdown",
      "metadata": {
        "id": "CJa76rJmi70e"
      },
      "source": [
        "**Set the maximum number of training epochs and the learning rate for finetuning your model.**"
      ]
    },
    {
      "cell_type": "code",
      "execution_count": 31,
      "metadata": {
        "id": "-mQrN1eRi70e"
      },
      "outputs": [],
      "source": [
        "######################\n",
        "#   YOUR CODE HERE   #\n",
        "######################\n",
        "num_epochs = 20 # Max number of training epochs\n",
        "lr = 0.001 # Set the learning rate"
      ]
    },
    {
      "cell_type": "code",
      "execution_count": 32,
      "metadata": {
        "colab": {
          "base_uri": "https://localhost:8080/"
        },
        "id": "GvXHV0oEi70e",
        "outputId": "af99ebff-d6b8-445f-ff59-7ae6589617fd"
      },
      "outputs": [
        {
          "output_type": "stream",
          "name": "stderr",
          "text": [
            "Training process in epoch 0: 100%|██████████| 14100/14100 [01:20<00:00, 175.04it/s]\n"
          ]
        },
        {
          "output_type": "stream",
          "name": "stdout",
          "text": [
            "Epoch 1/20:\n",
            "  Val Loss: 0.6836, Val Accuracy: 0.7787\n"
          ]
        },
        {
          "output_type": "stream",
          "name": "stderr",
          "text": [
            "Training process in epoch 1: 100%|██████████| 14100/14100 [01:19<00:00, 177.04it/s]\n"
          ]
        },
        {
          "output_type": "stream",
          "name": "stdout",
          "text": [
            "Epoch 2/20:\n",
            "  Val Loss: 0.6737, Val Accuracy: 0.7819\n"
          ]
        },
        {
          "output_type": "stream",
          "name": "stderr",
          "text": [
            "Training process in epoch 2: 100%|██████████| 14100/14100 [01:20<00:00, 174.53it/s]\n"
          ]
        },
        {
          "output_type": "stream",
          "name": "stdout",
          "text": [
            "Epoch 3/20:\n",
            "  Val Loss: 0.6518, Val Accuracy: 0.7845\n"
          ]
        },
        {
          "output_type": "stream",
          "name": "stderr",
          "text": [
            "Training process in epoch 3: 100%|██████████| 14100/14100 [01:19<00:00, 177.53it/s]\n"
          ]
        },
        {
          "output_type": "stream",
          "name": "stdout",
          "text": [
            "Epoch 4/20:\n",
            "  Val Loss: 0.6492, Val Accuracy: 0.7873\n"
          ]
        },
        {
          "output_type": "stream",
          "name": "stderr",
          "text": [
            "Training process in epoch 4: 100%|██████████| 14100/14100 [01:19<00:00, 176.63it/s]\n"
          ]
        },
        {
          "output_type": "stream",
          "name": "stdout",
          "text": [
            "Epoch 5/20:\n",
            "  Val Loss: 0.6400, Val Accuracy: 0.7891\n"
          ]
        },
        {
          "output_type": "stream",
          "name": "stderr",
          "text": [
            "Training process in epoch 5: 100%|██████████| 14100/14100 [01:20<00:00, 176.01it/s]\n"
          ]
        },
        {
          "output_type": "stream",
          "name": "stdout",
          "text": [
            "Epoch 6/20:\n",
            "  Val Loss: 0.6361, Val Accuracy: 0.7899\n"
          ]
        },
        {
          "output_type": "stream",
          "name": "stderr",
          "text": [
            "Training process in epoch 6: 100%|██████████| 14100/14100 [01:17<00:00, 182.86it/s]\n"
          ]
        },
        {
          "output_type": "stream",
          "name": "stdout",
          "text": [
            "Epoch 7/20:\n",
            "  Val Loss: 0.6296, Val Accuracy: 0.7905\n"
          ]
        },
        {
          "output_type": "stream",
          "name": "stderr",
          "text": [
            "Training process in epoch 7: 100%|██████████| 14100/14100 [01:18<00:00, 178.51it/s]\n"
          ]
        },
        {
          "output_type": "stream",
          "name": "stdout",
          "text": [
            "Epoch 8/20:\n",
            "  Val Loss: 0.6306, Val Accuracy: 0.7909\n"
          ]
        },
        {
          "output_type": "stream",
          "name": "stderr",
          "text": [
            "Training process in epoch 8: 100%|██████████| 14100/14100 [01:17<00:00, 181.83it/s]\n"
          ]
        },
        {
          "output_type": "stream",
          "name": "stdout",
          "text": [
            "Epoch 9/20:\n",
            "  Val Loss: 0.6280, Val Accuracy: 0.7929\n"
          ]
        },
        {
          "output_type": "stream",
          "name": "stderr",
          "text": [
            "Training process in epoch 9: 100%|██████████| 14100/14100 [01:18<00:00, 178.55it/s]\n"
          ]
        },
        {
          "output_type": "stream",
          "name": "stdout",
          "text": [
            "Epoch 10/20:\n",
            "  Val Loss: 0.6228, Val Accuracy: 0.7937\n"
          ]
        },
        {
          "output_type": "stream",
          "name": "stderr",
          "text": [
            "Training process in epoch 10: 100%|██████████| 14100/14100 [01:17<00:00, 182.02it/s]\n"
          ]
        },
        {
          "output_type": "stream",
          "name": "stdout",
          "text": [
            "Epoch 11/20:\n",
            "  Val Loss: 0.6226, Val Accuracy: 0.7945\n"
          ]
        },
        {
          "output_type": "stream",
          "name": "stderr",
          "text": [
            "Training process in epoch 11: 100%|██████████| 14100/14100 [01:17<00:00, 181.02it/s]\n"
          ]
        },
        {
          "output_type": "stream",
          "name": "stdout",
          "text": [
            "Epoch 12/20:\n",
            "  Val Loss: 0.6225, Val Accuracy: 0.7938\n"
          ]
        },
        {
          "output_type": "stream",
          "name": "stderr",
          "text": [
            "Training process in epoch 12: 100%|██████████| 14100/14100 [01:19<00:00, 178.13it/s]\n"
          ]
        },
        {
          "output_type": "stream",
          "name": "stdout",
          "text": [
            "Epoch 13/20:\n",
            "  Val Loss: 0.6171, Val Accuracy: 0.7960\n"
          ]
        },
        {
          "output_type": "stream",
          "name": "stderr",
          "text": [
            "Training process in epoch 13: 100%|██████████| 14100/14100 [01:19<00:00, 177.45it/s]\n"
          ]
        },
        {
          "output_type": "stream",
          "name": "stdout",
          "text": [
            "Epoch 14/20:\n",
            "  Val Loss: 0.6165, Val Accuracy: 0.7959\n"
          ]
        },
        {
          "output_type": "stream",
          "name": "stderr",
          "text": [
            "Training process in epoch 14: 100%|██████████| 14100/14100 [01:18<00:00, 179.33it/s]\n"
          ]
        },
        {
          "output_type": "stream",
          "name": "stdout",
          "text": [
            "Epoch 15/20:\n",
            "  Val Loss: 0.6126, Val Accuracy: 0.7982\n"
          ]
        },
        {
          "output_type": "stream",
          "name": "stderr",
          "text": [
            "Training process in epoch 15: 100%|██████████| 14100/14100 [01:18<00:00, 179.42it/s]\n"
          ]
        },
        {
          "output_type": "stream",
          "name": "stdout",
          "text": [
            "Epoch 16/20:\n",
            "  Val Loss: 0.6112, Val Accuracy: 0.7969\n"
          ]
        },
        {
          "output_type": "stream",
          "name": "stderr",
          "text": [
            "Training process in epoch 16: 100%|██████████| 14100/14100 [01:19<00:00, 176.34it/s]\n"
          ]
        },
        {
          "output_type": "stream",
          "name": "stdout",
          "text": [
            "Epoch 17/20:\n",
            "  Val Loss: 0.6154, Val Accuracy: 0.7977\n"
          ]
        },
        {
          "output_type": "stream",
          "name": "stderr",
          "text": [
            "Training process in epoch 17: 100%|██████████| 14100/14100 [01:21<00:00, 173.68it/s]\n"
          ]
        },
        {
          "output_type": "stream",
          "name": "stdout",
          "text": [
            "Epoch 18/20:\n",
            "  Val Loss: 0.6135, Val Accuracy: 0.7973\n"
          ]
        },
        {
          "output_type": "stream",
          "name": "stderr",
          "text": [
            "Training process in epoch 18: 100%|██████████| 14100/14100 [01:18<00:00, 179.17it/s]\n"
          ]
        },
        {
          "output_type": "stream",
          "name": "stdout",
          "text": [
            "Epoch 19/20:\n",
            "  Val Loss: 0.6083, Val Accuracy: 0.7987\n"
          ]
        },
        {
          "output_type": "stream",
          "name": "stderr",
          "text": [
            "Training process in epoch 19: 100%|██████████| 14100/14100 [01:20<00:00, 175.57it/s]"
          ]
        },
        {
          "output_type": "stream",
          "name": "stdout",
          "text": [
            "Epoch 20/20:\n",
            "  Val Loss: 0.6090, Val Accuracy: 0.7976\n"
          ]
        },
        {
          "output_type": "stream",
          "name": "stderr",
          "text": [
            "\n"
          ]
        }
      ],
      "source": [
        "history = train_model(num_epochs, model, dl, [], loss_fn, opt_fn, lr)\n",
        "model = history[0]"
      ]
    },
    {
      "cell_type": "markdown",
      "metadata": {
        "id": "IiA2OO8ki70e"
      },
      "source": [
        "## Check Predictions"
      ]
    },
    {
      "cell_type": "code",
      "execution_count": 44,
      "metadata": {
        "id": "xWXSnISIi70f"
      },
      "outputs": [],
      "source": [
        "def view_prediction(img, label, probs, classes):\n",
        "    \"\"\"\n",
        "    Visualize predictions.\n",
        "    \"\"\"\n",
        "    probs = probs.cpu().numpy().squeeze()\n",
        "    fig, (ax1, ax2) = plt.subplots(figsize=(8,15), ncols=2)\n",
        "    ax1.imshow(img.resize_(1, 28, 28).cpu().numpy().squeeze(), cmap='Greys_r')\n",
        "    ax1.axis('off')\n",
        "    ax1.set_title('Actual: {}'.format(classes[label]))\n",
        "    ax2.barh(np.arange(47), probs)\n",
        "    ax2.set_aspect(0.1)\n",
        "    ax2.set_yticks(np.arange(47))\n",
        "    ax2.set_yticklabels(classes, size='small');\n",
        "    ax2.set_title('Predicted: probabilities')\n",
        "    ax2.set_xlim(0, 1.1)\n",
        "\n",
        "    plt.tight_layout()"
      ]
    },
    {
      "cell_type": "code",
      "execution_count": 45,
      "metadata": {
        "id": "3nC25dFci70f",
        "colab": {
          "base_uri": "https://localhost:8080/",
          "height": 1000
        },
        "outputId": "f9088708-c380-453e-d629-511062b0eab2"
      },
      "outputs": [
        {
          "output_type": "display_data",
          "data": {
            "text/plain": [
              "<Figure size 800x1500 with 2 Axes>"
            ],
            "image/png": "[encoded data removed]"
          },
          "metadata": {}
        }
      ],
      "source": [
        "# Calculate the class probabilites (log softmax) for img\n",
        "images = iter(dl)\n",
        "for imgs, labels in images:\n",
        "    with torch.no_grad():\n",
        "        model.eval()\n",
        "        # Calculate the class probabilites (log softmax) for img\n",
        "        probs = torch.nn.functional.softmax(model(imgs[0].unsqueeze(0)), dim=1)\n",
        "        # Plot the image and probabilites\n",
        "        view_prediction(imgs[0], labels[0], probs, dataset.classes)\n",
        "    break"
      ]
    },
    {
      "cell_type": "markdown",
      "metadata": {
        "id": "eGzMdrwli70f"
      },
      "source": [
        "## Save the model"
      ]
    },
    {
      "cell_type": "code",
      "execution_count": 37,
      "metadata": {
        "id": "ILdou8C3i70f"
      },
      "outputs": [],
      "source": [
        "# Very important\n",
        "torch.save(model, 'model.pth')"
      ]
    },
    {
      "cell_type": "markdown",
      "metadata": {
        "id": "U5KWjO0qi70f"
      },
      "source": [
        "## Question 4 (8 points)\n",
        "\n",
        "## Compute accuracy on the test set"
      ]
    },
    {
      "cell_type": "code",
      "execution_count": 38,
      "metadata": {
        "id": "6FHcNSbZi70f"
      },
      "outputs": [],
      "source": [
        "test_dataset = EMNIST('MNIST_data/', download = True, train = False, split = 'balanced', transform = transform)"
      ]
    },
    {
      "cell_type": "code",
      "execution_count": 39,
      "metadata": {
        "id": "Ff16P3Lhi70g"
      },
      "outputs": [],
      "source": [
        "test_dl = DataLoader(test_dataset, batch_size)\n",
        "test_dl = DeviceDataLoader(test_dl, device)"
      ]
    },
    {
      "cell_type": "code",
      "execution_count": 40,
      "metadata": {
        "id": "rbXEywHXi70g"
      },
      "outputs": [],
      "source": [
        "def evaluate(model, test_dl):\n",
        "    \"\"\"\n",
        "    Evaluates your model on the test data.\n",
        "\n",
        "    Args:\n",
        "        model: ImageClassifierNet object\n",
        "        test_dl: test dataloader\n",
        "\n",
        "    Returns:\n",
        "        Test accuracy.\n",
        "    \"\"\"\n",
        "    ######################\n",
        "    #   YOUR CODE HERE   #\n",
        "    ######################\n",
        "    model.eval()\n",
        "\n",
        "    correct_val = 0\n",
        "    total_val = 0\n",
        "\n",
        "    with torch.no_grad():\n",
        "        for img, label in val_dl:\n",
        "            output = model(img)\n",
        "\n",
        "            _, predicted = torch.max(output, 1)\n",
        "            correct_val += (predicted == label).sum().item()\n",
        "            total_val += label.size(0)\n",
        "\n",
        "    return correct_val / total_val\n",
        "\n"
      ]
    },
    {
      "cell_type": "code",
      "execution_count": 41,
      "metadata": {
        "id": "UVuDrp0fi70g",
        "colab": {
          "base_uri": "https://localhost:8080/"
        },
        "outputId": "8951bde6-8044-4f59-bd64-7c68f87469dd"
      },
      "outputs": [
        {
          "output_type": "stream",
          "name": "stdout",
          "text": [
            "Test Accuracy = 0.8715\n"
          ]
        }
      ],
      "source": [
        "print(\"Test Accuracy = {:.4f}\".format(evaluate(model, test_dl)))"
      ]
    },
    {
      "cell_type": "markdown",
      "metadata": {
        "id": "V9FdJc2Li70g"
      },
      "source": [
        "## Tips to increase the test accuracy\n",
        "\n",
        "- **Data augmentation:** Diversifies your training set and leads to better generalization\n",
        "    - Flipping\n",
        "    - Rotation\n",
        "    - Shifting\n",
        "    - Cropping\n",
        "    - Adding noise\n",
        "    - Blurring\n",
        "    \n",
        "- **Regularization:** Reduces overfitting on the training set\n",
        "    - Early stopping\n",
        "    - Dropout\n",
        "    - $l_2$ regularization\n",
        "    - Batch normalization\n",
        "\n",
        "- **Hyperparameter tuning:**\n",
        "    - Weight initialization\n",
        "    - Learning rate\n",
        "    - Activation functions\n",
        "    - Optimizers"
      ]
    }
  ],
  "metadata": {
    "kernelspec": {
      "display_name": "Python 3",
      "name": "python3"
    },
    "language_info": {
      "name": "python"
    },
    "colab": {
      "provenance": [],
      "toc_visible": true,
      "gpuType": "T4"
    },
    "accelerator": "GPU"
  },
  "nbformat": 4,
  "nbformat_minor": 0
}